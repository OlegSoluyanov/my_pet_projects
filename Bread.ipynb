{
  "nbformat": 4,
  "nbformat_minor": 0,
  "metadata": {
    "colab": {
      "name": "Bread.ipynb",
      "provenance": [],
      "collapsed_sections": [],
      "toc_visible": true
    },
    "kernelspec": {
      "name": "python3",
      "display_name": "Python 3"
    },
    "language_info": {
      "name": "python"
    },
    "widgets": {
      "application/vnd.jupyter.widget-state+json": {
        "9255be9fd61d4fcfa1cf2df93895ed39": {
          "model_module": "@jupyter-widgets/controls",
          "model_name": "HBoxModel",
          "model_module_version": "1.5.0",
          "state": {
            "_dom_classes": [],
            "_model_module": "@jupyter-widgets/controls",
            "_model_module_version": "1.5.0",
            "_model_name": "HBoxModel",
            "_view_count": null,
            "_view_module": "@jupyter-widgets/controls",
            "_view_module_version": "1.5.0",
            "_view_name": "HBoxView",
            "box_style": "",
            "children": [
              "IPY_MODEL_b522d61e3c4748af99adea3d4e4ea082",
              "IPY_MODEL_dbece7933ca440cb85d3aad2cbd74e90",
              "IPY_MODEL_be3a17b9a1c74b49ad67c426e60b7192"
            ],
            "layout": "IPY_MODEL_f5b030d86a524ff7a611ce78ce30cbdc"
          }
        },
        "b522d61e3c4748af99adea3d4e4ea082": {
          "model_module": "@jupyter-widgets/controls",
          "model_name": "HTMLModel",
          "model_module_version": "1.5.0",
          "state": {
            "_dom_classes": [],
            "_model_module": "@jupyter-widgets/controls",
            "_model_module_version": "1.5.0",
            "_model_name": "HTMLModel",
            "_view_count": null,
            "_view_module": "@jupyter-widgets/controls",
            "_view_module_version": "1.5.0",
            "_view_name": "HTMLView",
            "description": "",
            "description_tooltip": null,
            "layout": "IPY_MODEL_eee377af4a3943aca8112efa88acfe29",
            "placeholder": "​",
            "style": "IPY_MODEL_59a5452fcee247fca9c29953ccca0588",
            "value": "100%"
          }
        },
        "dbece7933ca440cb85d3aad2cbd74e90": {
          "model_module": "@jupyter-widgets/controls",
          "model_name": "FloatProgressModel",
          "model_module_version": "1.5.0",
          "state": {
            "_dom_classes": [],
            "_model_module": "@jupyter-widgets/controls",
            "_model_module_version": "1.5.0",
            "_model_name": "FloatProgressModel",
            "_view_count": null,
            "_view_module": "@jupyter-widgets/controls",
            "_view_module_version": "1.5.0",
            "_view_name": "ProgressView",
            "bar_style": "success",
            "description": "",
            "description_tooltip": null,
            "layout": "IPY_MODEL_41d1508a5f8f42cebda59318f85d2a24",
            "max": 1000,
            "min": 0,
            "orientation": "horizontal",
            "style": "IPY_MODEL_0b51a12ae2e24e4a88158c53cc0a652b",
            "value": 1000
          }
        },
        "be3a17b9a1c74b49ad67c426e60b7192": {
          "model_module": "@jupyter-widgets/controls",
          "model_name": "HTMLModel",
          "model_module_version": "1.5.0",
          "state": {
            "_dom_classes": [],
            "_model_module": "@jupyter-widgets/controls",
            "_model_module_version": "1.5.0",
            "_model_name": "HTMLModel",
            "_view_count": null,
            "_view_module": "@jupyter-widgets/controls",
            "_view_module_version": "1.5.0",
            "_view_name": "HTMLView",
            "description": "",
            "description_tooltip": null,
            "layout": "IPY_MODEL_aa695a6ea4164d1f94cf7a4cde5ca84c",
            "placeholder": "​",
            "style": "IPY_MODEL_ad58d524831b4fd0a415d941379a20d3",
            "value": " 1000/1000 [00:01&lt;00:00, 572.55it/s]"
          }
        },
        "f5b030d86a524ff7a611ce78ce30cbdc": {
          "model_module": "@jupyter-widgets/base",
          "model_name": "LayoutModel",
          "model_module_version": "1.2.0",
          "state": {
            "_model_module": "@jupyter-widgets/base",
            "_model_module_version": "1.2.0",
            "_model_name": "LayoutModel",
            "_view_count": null,
            "_view_module": "@jupyter-widgets/base",
            "_view_module_version": "1.2.0",
            "_view_name": "LayoutView",
            "align_content": null,
            "align_items": null,
            "align_self": null,
            "border": null,
            "bottom": null,
            "display": null,
            "flex": null,
            "flex_flow": null,
            "grid_area": null,
            "grid_auto_columns": null,
            "grid_auto_flow": null,
            "grid_auto_rows": null,
            "grid_column": null,
            "grid_gap": null,
            "grid_row": null,
            "grid_template_areas": null,
            "grid_template_columns": null,
            "grid_template_rows": null,
            "height": null,
            "justify_content": null,
            "justify_items": null,
            "left": null,
            "margin": null,
            "max_height": null,
            "max_width": null,
            "min_height": null,
            "min_width": null,
            "object_fit": null,
            "object_position": null,
            "order": null,
            "overflow": null,
            "overflow_x": null,
            "overflow_y": null,
            "padding": null,
            "right": null,
            "top": null,
            "visibility": null,
            "width": null
          }
        },
        "eee377af4a3943aca8112efa88acfe29": {
          "model_module": "@jupyter-widgets/base",
          "model_name": "LayoutModel",
          "model_module_version": "1.2.0",
          "state": {
            "_model_module": "@jupyter-widgets/base",
            "_model_module_version": "1.2.0",
            "_model_name": "LayoutModel",
            "_view_count": null,
            "_view_module": "@jupyter-widgets/base",
            "_view_module_version": "1.2.0",
            "_view_name": "LayoutView",
            "align_content": null,
            "align_items": null,
            "align_self": null,
            "border": null,
            "bottom": null,
            "display": null,
            "flex": null,
            "flex_flow": null,
            "grid_area": null,
            "grid_auto_columns": null,
            "grid_auto_flow": null,
            "grid_auto_rows": null,
            "grid_column": null,
            "grid_gap": null,
            "grid_row": null,
            "grid_template_areas": null,
            "grid_template_columns": null,
            "grid_template_rows": null,
            "height": null,
            "justify_content": null,
            "justify_items": null,
            "left": null,
            "margin": null,
            "max_height": null,
            "max_width": null,
            "min_height": null,
            "min_width": null,
            "object_fit": null,
            "object_position": null,
            "order": null,
            "overflow": null,
            "overflow_x": null,
            "overflow_y": null,
            "padding": null,
            "right": null,
            "top": null,
            "visibility": null,
            "width": null
          }
        },
        "59a5452fcee247fca9c29953ccca0588": {
          "model_module": "@jupyter-widgets/controls",
          "model_name": "DescriptionStyleModel",
          "model_module_version": "1.5.0",
          "state": {
            "_model_module": "@jupyter-widgets/controls",
            "_model_module_version": "1.5.0",
            "_model_name": "DescriptionStyleModel",
            "_view_count": null,
            "_view_module": "@jupyter-widgets/base",
            "_view_module_version": "1.2.0",
            "_view_name": "StyleView",
            "description_width": ""
          }
        },
        "41d1508a5f8f42cebda59318f85d2a24": {
          "model_module": "@jupyter-widgets/base",
          "model_name": "LayoutModel",
          "model_module_version": "1.2.0",
          "state": {
            "_model_module": "@jupyter-widgets/base",
            "_model_module_version": "1.2.0",
            "_model_name": "LayoutModel",
            "_view_count": null,
            "_view_module": "@jupyter-widgets/base",
            "_view_module_version": "1.2.0",
            "_view_name": "LayoutView",
            "align_content": null,
            "align_items": null,
            "align_self": null,
            "border": null,
            "bottom": null,
            "display": null,
            "flex": null,
            "flex_flow": null,
            "grid_area": null,
            "grid_auto_columns": null,
            "grid_auto_flow": null,
            "grid_auto_rows": null,
            "grid_column": null,
            "grid_gap": null,
            "grid_row": null,
            "grid_template_areas": null,
            "grid_template_columns": null,
            "grid_template_rows": null,
            "height": null,
            "justify_content": null,
            "justify_items": null,
            "left": null,
            "margin": null,
            "max_height": null,
            "max_width": null,
            "min_height": null,
            "min_width": null,
            "object_fit": null,
            "object_position": null,
            "order": null,
            "overflow": null,
            "overflow_x": null,
            "overflow_y": null,
            "padding": null,
            "right": null,
            "top": null,
            "visibility": null,
            "width": null
          }
        },
        "0b51a12ae2e24e4a88158c53cc0a652b": {
          "model_module": "@jupyter-widgets/controls",
          "model_name": "ProgressStyleModel",
          "model_module_version": "1.5.0",
          "state": {
            "_model_module": "@jupyter-widgets/controls",
            "_model_module_version": "1.5.0",
            "_model_name": "ProgressStyleModel",
            "_view_count": null,
            "_view_module": "@jupyter-widgets/base",
            "_view_module_version": "1.2.0",
            "_view_name": "StyleView",
            "bar_color": null,
            "description_width": ""
          }
        },
        "aa695a6ea4164d1f94cf7a4cde5ca84c": {
          "model_module": "@jupyter-widgets/base",
          "model_name": "LayoutModel",
          "model_module_version": "1.2.0",
          "state": {
            "_model_module": "@jupyter-widgets/base",
            "_model_module_version": "1.2.0",
            "_model_name": "LayoutModel",
            "_view_count": null,
            "_view_module": "@jupyter-widgets/base",
            "_view_module_version": "1.2.0",
            "_view_name": "LayoutView",
            "align_content": null,
            "align_items": null,
            "align_self": null,
            "border": null,
            "bottom": null,
            "display": null,
            "flex": null,
            "flex_flow": null,
            "grid_area": null,
            "grid_auto_columns": null,
            "grid_auto_flow": null,
            "grid_auto_rows": null,
            "grid_column": null,
            "grid_gap": null,
            "grid_row": null,
            "grid_template_areas": null,
            "grid_template_columns": null,
            "grid_template_rows": null,
            "height": null,
            "justify_content": null,
            "justify_items": null,
            "left": null,
            "margin": null,
            "max_height": null,
            "max_width": null,
            "min_height": null,
            "min_width": null,
            "object_fit": null,
            "object_position": null,
            "order": null,
            "overflow": null,
            "overflow_x": null,
            "overflow_y": null,
            "padding": null,
            "right": null,
            "top": null,
            "visibility": null,
            "width": null
          }
        },
        "ad58d524831b4fd0a415d941379a20d3": {
          "model_module": "@jupyter-widgets/controls",
          "model_name": "DescriptionStyleModel",
          "model_module_version": "1.5.0",
          "state": {
            "_model_module": "@jupyter-widgets/controls",
            "_model_module_version": "1.5.0",
            "_model_name": "DescriptionStyleModel",
            "_view_count": null,
            "_view_module": "@jupyter-widgets/base",
            "_view_module_version": "1.2.0",
            "_view_name": "StyleView",
            "description_width": ""
          }
        },
        "356de714c5d14503a2015ed61eb616af": {
          "model_module": "@jupyter-widgets/controls",
          "model_name": "HBoxModel",
          "model_module_version": "1.5.0",
          "state": {
            "_dom_classes": [],
            "_model_module": "@jupyter-widgets/controls",
            "_model_module_version": "1.5.0",
            "_model_name": "HBoxModel",
            "_view_count": null,
            "_view_module": "@jupyter-widgets/controls",
            "_view_module_version": "1.5.0",
            "_view_name": "HBoxView",
            "box_style": "",
            "children": [
              "IPY_MODEL_db036bfadb6c4a88a9935e5b0cfe33d7",
              "IPY_MODEL_2910445c2233483ca1b5e1d18e015d16",
              "IPY_MODEL_824f3c848ece414fb7e84a4f72e82640"
            ],
            "layout": "IPY_MODEL_9ca12e17bb594acaa7e57d56630a0cd7"
          }
        },
        "db036bfadb6c4a88a9935e5b0cfe33d7": {
          "model_module": "@jupyter-widgets/controls",
          "model_name": "HTMLModel",
          "model_module_version": "1.5.0",
          "state": {
            "_dom_classes": [],
            "_model_module": "@jupyter-widgets/controls",
            "_model_module_version": "1.5.0",
            "_model_name": "HTMLModel",
            "_view_count": null,
            "_view_module": "@jupyter-widgets/controls",
            "_view_module_version": "1.5.0",
            "_view_name": "HTMLView",
            "description": "",
            "description_tooltip": null,
            "layout": "IPY_MODEL_3d2af20dda494aff9221f132fea2bee6",
            "placeholder": "​",
            "style": "IPY_MODEL_915655fd7922477eb1156f864c21ec4b",
            "value": "100%"
          }
        },
        "2910445c2233483ca1b5e1d18e015d16": {
          "model_module": "@jupyter-widgets/controls",
          "model_name": "FloatProgressModel",
          "model_module_version": "1.5.0",
          "state": {
            "_dom_classes": [],
            "_model_module": "@jupyter-widgets/controls",
            "_model_module_version": "1.5.0",
            "_model_name": "FloatProgressModel",
            "_view_count": null,
            "_view_module": "@jupyter-widgets/controls",
            "_view_module_version": "1.5.0",
            "_view_name": "ProgressView",
            "bar_style": "success",
            "description": "",
            "description_tooltip": null,
            "layout": "IPY_MODEL_9e1f5b4fb8ce4929a98e69073419615f",
            "max": 1000,
            "min": 0,
            "orientation": "horizontal",
            "style": "IPY_MODEL_55fad7e24772403b9dcbcb643b89f9c9",
            "value": 1000
          }
        },
        "824f3c848ece414fb7e84a4f72e82640": {
          "model_module": "@jupyter-widgets/controls",
          "model_name": "HTMLModel",
          "model_module_version": "1.5.0",
          "state": {
            "_dom_classes": [],
            "_model_module": "@jupyter-widgets/controls",
            "_model_module_version": "1.5.0",
            "_model_name": "HTMLModel",
            "_view_count": null,
            "_view_module": "@jupyter-widgets/controls",
            "_view_module_version": "1.5.0",
            "_view_name": "HTMLView",
            "description": "",
            "description_tooltip": null,
            "layout": "IPY_MODEL_25e8e9d2f69d4675b79e4e4b112f3ae8",
            "placeholder": "​",
            "style": "IPY_MODEL_935a00ce8f7d45c696e2750e6e489e6f",
            "value": " 1000/1000 [00:01&lt;00:00, 501.67it/s]"
          }
        },
        "9ca12e17bb594acaa7e57d56630a0cd7": {
          "model_module": "@jupyter-widgets/base",
          "model_name": "LayoutModel",
          "model_module_version": "1.2.0",
          "state": {
            "_model_module": "@jupyter-widgets/base",
            "_model_module_version": "1.2.0",
            "_model_name": "LayoutModel",
            "_view_count": null,
            "_view_module": "@jupyter-widgets/base",
            "_view_module_version": "1.2.0",
            "_view_name": "LayoutView",
            "align_content": null,
            "align_items": null,
            "align_self": null,
            "border": null,
            "bottom": null,
            "display": null,
            "flex": null,
            "flex_flow": null,
            "grid_area": null,
            "grid_auto_columns": null,
            "grid_auto_flow": null,
            "grid_auto_rows": null,
            "grid_column": null,
            "grid_gap": null,
            "grid_row": null,
            "grid_template_areas": null,
            "grid_template_columns": null,
            "grid_template_rows": null,
            "height": null,
            "justify_content": null,
            "justify_items": null,
            "left": null,
            "margin": null,
            "max_height": null,
            "max_width": null,
            "min_height": null,
            "min_width": null,
            "object_fit": null,
            "object_position": null,
            "order": null,
            "overflow": null,
            "overflow_x": null,
            "overflow_y": null,
            "padding": null,
            "right": null,
            "top": null,
            "visibility": null,
            "width": null
          }
        },
        "3d2af20dda494aff9221f132fea2bee6": {
          "model_module": "@jupyter-widgets/base",
          "model_name": "LayoutModel",
          "model_module_version": "1.2.0",
          "state": {
            "_model_module": "@jupyter-widgets/base",
            "_model_module_version": "1.2.0",
            "_model_name": "LayoutModel",
            "_view_count": null,
            "_view_module": "@jupyter-widgets/base",
            "_view_module_version": "1.2.0",
            "_view_name": "LayoutView",
            "align_content": null,
            "align_items": null,
            "align_self": null,
            "border": null,
            "bottom": null,
            "display": null,
            "flex": null,
            "flex_flow": null,
            "grid_area": null,
            "grid_auto_columns": null,
            "grid_auto_flow": null,
            "grid_auto_rows": null,
            "grid_column": null,
            "grid_gap": null,
            "grid_row": null,
            "grid_template_areas": null,
            "grid_template_columns": null,
            "grid_template_rows": null,
            "height": null,
            "justify_content": null,
            "justify_items": null,
            "left": null,
            "margin": null,
            "max_height": null,
            "max_width": null,
            "min_height": null,
            "min_width": null,
            "object_fit": null,
            "object_position": null,
            "order": null,
            "overflow": null,
            "overflow_x": null,
            "overflow_y": null,
            "padding": null,
            "right": null,
            "top": null,
            "visibility": null,
            "width": null
          }
        },
        "915655fd7922477eb1156f864c21ec4b": {
          "model_module": "@jupyter-widgets/controls",
          "model_name": "DescriptionStyleModel",
          "model_module_version": "1.5.0",
          "state": {
            "_model_module": "@jupyter-widgets/controls",
            "_model_module_version": "1.5.0",
            "_model_name": "DescriptionStyleModel",
            "_view_count": null,
            "_view_module": "@jupyter-widgets/base",
            "_view_module_version": "1.2.0",
            "_view_name": "StyleView",
            "description_width": ""
          }
        },
        "9e1f5b4fb8ce4929a98e69073419615f": {
          "model_module": "@jupyter-widgets/base",
          "model_name": "LayoutModel",
          "model_module_version": "1.2.0",
          "state": {
            "_model_module": "@jupyter-widgets/base",
            "_model_module_version": "1.2.0",
            "_model_name": "LayoutModel",
            "_view_count": null,
            "_view_module": "@jupyter-widgets/base",
            "_view_module_version": "1.2.0",
            "_view_name": "LayoutView",
            "align_content": null,
            "align_items": null,
            "align_self": null,
            "border": null,
            "bottom": null,
            "display": null,
            "flex": null,
            "flex_flow": null,
            "grid_area": null,
            "grid_auto_columns": null,
            "grid_auto_flow": null,
            "grid_auto_rows": null,
            "grid_column": null,
            "grid_gap": null,
            "grid_row": null,
            "grid_template_areas": null,
            "grid_template_columns": null,
            "grid_template_rows": null,
            "height": null,
            "justify_content": null,
            "justify_items": null,
            "left": null,
            "margin": null,
            "max_height": null,
            "max_width": null,
            "min_height": null,
            "min_width": null,
            "object_fit": null,
            "object_position": null,
            "order": null,
            "overflow": null,
            "overflow_x": null,
            "overflow_y": null,
            "padding": null,
            "right": null,
            "top": null,
            "visibility": null,
            "width": null
          }
        },
        "55fad7e24772403b9dcbcb643b89f9c9": {
          "model_module": "@jupyter-widgets/controls",
          "model_name": "ProgressStyleModel",
          "model_module_version": "1.5.0",
          "state": {
            "_model_module": "@jupyter-widgets/controls",
            "_model_module_version": "1.5.0",
            "_model_name": "ProgressStyleModel",
            "_view_count": null,
            "_view_module": "@jupyter-widgets/base",
            "_view_module_version": "1.2.0",
            "_view_name": "StyleView",
            "bar_color": null,
            "description_width": ""
          }
        },
        "25e8e9d2f69d4675b79e4e4b112f3ae8": {
          "model_module": "@jupyter-widgets/base",
          "model_name": "LayoutModel",
          "model_module_version": "1.2.0",
          "state": {
            "_model_module": "@jupyter-widgets/base",
            "_model_module_version": "1.2.0",
            "_model_name": "LayoutModel",
            "_view_count": null,
            "_view_module": "@jupyter-widgets/base",
            "_view_module_version": "1.2.0",
            "_view_name": "LayoutView",
            "align_content": null,
            "align_items": null,
            "align_self": null,
            "border": null,
            "bottom": null,
            "display": null,
            "flex": null,
            "flex_flow": null,
            "grid_area": null,
            "grid_auto_columns": null,
            "grid_auto_flow": null,
            "grid_auto_rows": null,
            "grid_column": null,
            "grid_gap": null,
            "grid_row": null,
            "grid_template_areas": null,
            "grid_template_columns": null,
            "grid_template_rows": null,
            "height": null,
            "justify_content": null,
            "justify_items": null,
            "left": null,
            "margin": null,
            "max_height": null,
            "max_width": null,
            "min_height": null,
            "min_width": null,
            "object_fit": null,
            "object_position": null,
            "order": null,
            "overflow": null,
            "overflow_x": null,
            "overflow_y": null,
            "padding": null,
            "right": null,
            "top": null,
            "visibility": null,
            "width": null
          }
        },
        "935a00ce8f7d45c696e2750e6e489e6f": {
          "model_module": "@jupyter-widgets/controls",
          "model_name": "DescriptionStyleModel",
          "model_module_version": "1.5.0",
          "state": {
            "_model_module": "@jupyter-widgets/controls",
            "_model_module_version": "1.5.0",
            "_model_name": "DescriptionStyleModel",
            "_view_count": null,
            "_view_module": "@jupyter-widgets/base",
            "_view_module_version": "1.2.0",
            "_view_name": "StyleView",
            "description_width": ""
          }
        },
        "5d648a513f924881b8145e5d25191390": {
          "model_module": "@jupyter-widgets/controls",
          "model_name": "HBoxModel",
          "model_module_version": "1.5.0",
          "state": {
            "_dom_classes": [],
            "_model_module": "@jupyter-widgets/controls",
            "_model_module_version": "1.5.0",
            "_model_name": "HBoxModel",
            "_view_count": null,
            "_view_module": "@jupyter-widgets/controls",
            "_view_module_version": "1.5.0",
            "_view_name": "HBoxView",
            "box_style": "",
            "children": [
              "IPY_MODEL_b26bfbbe4533471f975e186de7713345",
              "IPY_MODEL_017cccf8b850442d90b78e91b0562040",
              "IPY_MODEL_bb4002d643db43058fffe17df3669ad7"
            ],
            "layout": "IPY_MODEL_bd7f096a595e48dfa86e027326b715f5"
          }
        },
        "b26bfbbe4533471f975e186de7713345": {
          "model_module": "@jupyter-widgets/controls",
          "model_name": "HTMLModel",
          "model_module_version": "1.5.0",
          "state": {
            "_dom_classes": [],
            "_model_module": "@jupyter-widgets/controls",
            "_model_module_version": "1.5.0",
            "_model_name": "HTMLModel",
            "_view_count": null,
            "_view_module": "@jupyter-widgets/controls",
            "_view_module_version": "1.5.0",
            "_view_name": "HTMLView",
            "description": "",
            "description_tooltip": null,
            "layout": "IPY_MODEL_d1b771db63984d22a68c8f29aa7e13d9",
            "placeholder": "​",
            "style": "IPY_MODEL_dd91b47ee97a41eab4975879e9750ea0",
            "value": "100%"
          }
        },
        "017cccf8b850442d90b78e91b0562040": {
          "model_module": "@jupyter-widgets/controls",
          "model_name": "FloatProgressModel",
          "model_module_version": "1.5.0",
          "state": {
            "_dom_classes": [],
            "_model_module": "@jupyter-widgets/controls",
            "_model_module_version": "1.5.0",
            "_model_name": "FloatProgressModel",
            "_view_count": null,
            "_view_module": "@jupyter-widgets/controls",
            "_view_module_version": "1.5.0",
            "_view_name": "ProgressView",
            "bar_style": "success",
            "description": "",
            "description_tooltip": null,
            "layout": "IPY_MODEL_4c92df775e4a47648369475f6a2d76b8",
            "max": 1000,
            "min": 0,
            "orientation": "horizontal",
            "style": "IPY_MODEL_9d3838992a254d26b437adc8fccd8b4d",
            "value": 1000
          }
        },
        "bb4002d643db43058fffe17df3669ad7": {
          "model_module": "@jupyter-widgets/controls",
          "model_name": "HTMLModel",
          "model_module_version": "1.5.0",
          "state": {
            "_dom_classes": [],
            "_model_module": "@jupyter-widgets/controls",
            "_model_module_version": "1.5.0",
            "_model_name": "HTMLModel",
            "_view_count": null,
            "_view_module": "@jupyter-widgets/controls",
            "_view_module_version": "1.5.0",
            "_view_name": "HTMLView",
            "description": "",
            "description_tooltip": null,
            "layout": "IPY_MODEL_490327a7f017440799fa213250cfb3ab",
            "placeholder": "​",
            "style": "IPY_MODEL_b84ff765d83443049b8ffe91b2cd0fdd",
            "value": " 1000/1000 [00:01&lt;00:00, 1047.25it/s]"
          }
        },
        "bd7f096a595e48dfa86e027326b715f5": {
          "model_module": "@jupyter-widgets/base",
          "model_name": "LayoutModel",
          "model_module_version": "1.2.0",
          "state": {
            "_model_module": "@jupyter-widgets/base",
            "_model_module_version": "1.2.0",
            "_model_name": "LayoutModel",
            "_view_count": null,
            "_view_module": "@jupyter-widgets/base",
            "_view_module_version": "1.2.0",
            "_view_name": "LayoutView",
            "align_content": null,
            "align_items": null,
            "align_self": null,
            "border": null,
            "bottom": null,
            "display": null,
            "flex": null,
            "flex_flow": null,
            "grid_area": null,
            "grid_auto_columns": null,
            "grid_auto_flow": null,
            "grid_auto_rows": null,
            "grid_column": null,
            "grid_gap": null,
            "grid_row": null,
            "grid_template_areas": null,
            "grid_template_columns": null,
            "grid_template_rows": null,
            "height": null,
            "justify_content": null,
            "justify_items": null,
            "left": null,
            "margin": null,
            "max_height": null,
            "max_width": null,
            "min_height": null,
            "min_width": null,
            "object_fit": null,
            "object_position": null,
            "order": null,
            "overflow": null,
            "overflow_x": null,
            "overflow_y": null,
            "padding": null,
            "right": null,
            "top": null,
            "visibility": null,
            "width": null
          }
        },
        "d1b771db63984d22a68c8f29aa7e13d9": {
          "model_module": "@jupyter-widgets/base",
          "model_name": "LayoutModel",
          "model_module_version": "1.2.0",
          "state": {
            "_model_module": "@jupyter-widgets/base",
            "_model_module_version": "1.2.0",
            "_model_name": "LayoutModel",
            "_view_count": null,
            "_view_module": "@jupyter-widgets/base",
            "_view_module_version": "1.2.0",
            "_view_name": "LayoutView",
            "align_content": null,
            "align_items": null,
            "align_self": null,
            "border": null,
            "bottom": null,
            "display": null,
            "flex": null,
            "flex_flow": null,
            "grid_area": null,
            "grid_auto_columns": null,
            "grid_auto_flow": null,
            "grid_auto_rows": null,
            "grid_column": null,
            "grid_gap": null,
            "grid_row": null,
            "grid_template_areas": null,
            "grid_template_columns": null,
            "grid_template_rows": null,
            "height": null,
            "justify_content": null,
            "justify_items": null,
            "left": null,
            "margin": null,
            "max_height": null,
            "max_width": null,
            "min_height": null,
            "min_width": null,
            "object_fit": null,
            "object_position": null,
            "order": null,
            "overflow": null,
            "overflow_x": null,
            "overflow_y": null,
            "padding": null,
            "right": null,
            "top": null,
            "visibility": null,
            "width": null
          }
        },
        "dd91b47ee97a41eab4975879e9750ea0": {
          "model_module": "@jupyter-widgets/controls",
          "model_name": "DescriptionStyleModel",
          "model_module_version": "1.5.0",
          "state": {
            "_model_module": "@jupyter-widgets/controls",
            "_model_module_version": "1.5.0",
            "_model_name": "DescriptionStyleModel",
            "_view_count": null,
            "_view_module": "@jupyter-widgets/base",
            "_view_module_version": "1.2.0",
            "_view_name": "StyleView",
            "description_width": ""
          }
        },
        "4c92df775e4a47648369475f6a2d76b8": {
          "model_module": "@jupyter-widgets/base",
          "model_name": "LayoutModel",
          "model_module_version": "1.2.0",
          "state": {
            "_model_module": "@jupyter-widgets/base",
            "_model_module_version": "1.2.0",
            "_model_name": "LayoutModel",
            "_view_count": null,
            "_view_module": "@jupyter-widgets/base",
            "_view_module_version": "1.2.0",
            "_view_name": "LayoutView",
            "align_content": null,
            "align_items": null,
            "align_self": null,
            "border": null,
            "bottom": null,
            "display": null,
            "flex": null,
            "flex_flow": null,
            "grid_area": null,
            "grid_auto_columns": null,
            "grid_auto_flow": null,
            "grid_auto_rows": null,
            "grid_column": null,
            "grid_gap": null,
            "grid_row": null,
            "grid_template_areas": null,
            "grid_template_columns": null,
            "grid_template_rows": null,
            "height": null,
            "justify_content": null,
            "justify_items": null,
            "left": null,
            "margin": null,
            "max_height": null,
            "max_width": null,
            "min_height": null,
            "min_width": null,
            "object_fit": null,
            "object_position": null,
            "order": null,
            "overflow": null,
            "overflow_x": null,
            "overflow_y": null,
            "padding": null,
            "right": null,
            "top": null,
            "visibility": null,
            "width": null
          }
        },
        "9d3838992a254d26b437adc8fccd8b4d": {
          "model_module": "@jupyter-widgets/controls",
          "model_name": "ProgressStyleModel",
          "model_module_version": "1.5.0",
          "state": {
            "_model_module": "@jupyter-widgets/controls",
            "_model_module_version": "1.5.0",
            "_model_name": "ProgressStyleModel",
            "_view_count": null,
            "_view_module": "@jupyter-widgets/base",
            "_view_module_version": "1.2.0",
            "_view_name": "StyleView",
            "bar_color": null,
            "description_width": ""
          }
        },
        "490327a7f017440799fa213250cfb3ab": {
          "model_module": "@jupyter-widgets/base",
          "model_name": "LayoutModel",
          "model_module_version": "1.2.0",
          "state": {
            "_model_module": "@jupyter-widgets/base",
            "_model_module_version": "1.2.0",
            "_model_name": "LayoutModel",
            "_view_count": null,
            "_view_module": "@jupyter-widgets/base",
            "_view_module_version": "1.2.0",
            "_view_name": "LayoutView",
            "align_content": null,
            "align_items": null,
            "align_self": null,
            "border": null,
            "bottom": null,
            "display": null,
            "flex": null,
            "flex_flow": null,
            "grid_area": null,
            "grid_auto_columns": null,
            "grid_auto_flow": null,
            "grid_auto_rows": null,
            "grid_column": null,
            "grid_gap": null,
            "grid_row": null,
            "grid_template_areas": null,
            "grid_template_columns": null,
            "grid_template_rows": null,
            "height": null,
            "justify_content": null,
            "justify_items": null,
            "left": null,
            "margin": null,
            "max_height": null,
            "max_width": null,
            "min_height": null,
            "min_width": null,
            "object_fit": null,
            "object_position": null,
            "order": null,
            "overflow": null,
            "overflow_x": null,
            "overflow_y": null,
            "padding": null,
            "right": null,
            "top": null,
            "visibility": null,
            "width": null
          }
        },
        "b84ff765d83443049b8ffe91b2cd0fdd": {
          "model_module": "@jupyter-widgets/controls",
          "model_name": "DescriptionStyleModel",
          "model_module_version": "1.5.0",
          "state": {
            "_model_module": "@jupyter-widgets/controls",
            "_model_module_version": "1.5.0",
            "_model_name": "DescriptionStyleModel",
            "_view_count": null,
            "_view_module": "@jupyter-widgets/base",
            "_view_module_version": "1.2.0",
            "_view_name": "StyleView",
            "description_width": ""
          }
        }
      }
    }
  },
  "cells": [
    {
      "cell_type": "markdown",
      "source": [
        ""
      ],
      "metadata": {
        "id": "gbmf-LUOdIzU"
      }
    },
    {
      "cell_type": "markdown",
      "source": [
        "# Анализ покупок в мини-пекарне"
      ],
      "metadata": {
        "id": "_FLeEpptViqU"
      }
    },
    {
      "cell_type": "markdown",
      "source": [
        ""
      ],
      "metadata": {
        "id": "McienJlPLsjT"
      }
    },
    {
      "cell_type": "markdown",
      "source": [
        ""
      ],
      "metadata": {
        "id": "qtpOoOD2Lsgh"
      }
    },
    {
      "cell_type": "markdown",
      "source": [
        "ЗАДАЧА:\n",
        "<br>Оценить полноту и качество данных\n",
        "<br>Выяснить какие поведенческие факторы влияют на количество линий в чеке, где можно приложить усилия для увеличения длинны чека.\n",
        "\n",
        "ОПИСАНИЕ ДАТАСЕТА:\n",
        "<br>TransactionNo\t- номер транзакции, все строки одного заказа (чека) под одним номером\n",
        "<br>Items - товар\n",
        "<br>DateTime - дата транзакции\n",
        "<br>Daypart - время дня транзакции\n",
        "<br>Weekend - флаг буднего или выходного дня\n",
        "\n"
      ],
      "metadata": {
        "id": "pHV68fWXVwS8"
      }
    },
    {
      "cell_type": "markdown",
      "source": [
        "## Загрузка, просмотр и предобработка данных"
      ],
      "metadata": {
        "id": "FEiuGhN4XPtq"
      }
    },
    {
      "cell_type": "code",
      "source": [
        "# Загрузка библиотек\n",
        "import pandas as pd\n",
        "import numpy as np\n",
        "import seaborn as sns\n",
        "import matplotlib.pyplot as plt\n",
        "import matplotlib.patches as mpatches\n",
        "import datetime as dt\n",
        "import plotly.express as px\n",
        "import plotly.graph_objects as go\n",
        "import plotly.io as pio\n",
        "from statsmodels.graphics.gofplots import qqplot\n",
        "import scipy.stats as st\n",
        "from scipy.stats import norm\n",
        "import statsmodels.api as sm\n",
        "import pylab\n",
        "from tqdm.auto import tqdm\n",
        "\n",
        "pio.templates.default = \"simple_white\"\n",
        "sns.set_style(\"darkgrid\", {\"grid.color\": \".6\", \"grid.linestyle\": \":\"})\n",
        "cm = sns.light_palette(\"brown\", as_cmap=True)\n",
        "plt.style.use('dark_background')"
      ],
      "metadata": {
        "id": "hU3GLCsNVUPG",
        "colab": {
          "base_uri": "https://localhost:8080/"
        },
        "outputId": "50517c72-5645-4155-dbf8-f950960ab77b"
      },
      "execution_count": 1,
      "outputs": [
        {
          "output_type": "stream",
          "name": "stderr",
          "text": [
            "/usr/local/lib/python3.7/dist-packages/statsmodels/tools/_testing.py:19: FutureWarning: pandas.util.testing is deprecated. Use the functions in the public API at pandas.testing instead.\n",
            "  import pandas.util.testing as tm\n"
          ]
        }
      ]
    },
    {
      "cell_type": "code",
      "source": [
        "# Загрузка датасета\n",
        "df = pd.read_csv('https://onedrive.live.com/download?cid=BB74A734D466EB21&resid=BB74A734D466EB21%218133&authkey=AGML8Qf66L77urA')"
      ],
      "metadata": {
        "id": "jnlyTwZWdVKs"
      },
      "execution_count": 2,
      "outputs": []
    },
    {
      "cell_type": "code",
      "source": [
        "df.head()"
      ],
      "metadata": {
        "colab": {
          "base_uri": "https://localhost:8080/",
          "height": 206
        },
        "id": "qlrrPcM-ly10",
        "outputId": "846b7c95-15ed-4cfc-bf61-77db765e9165"
      },
      "execution_count": 3,
      "outputs": [
        {
          "output_type": "execute_result",
          "data": {
            "text/plain": [
              "   TransactionNo          Items             DateTime  Daypart  DayType\n",
              "0              1          Bread  2016-10-30 09:58:11  Morning  Weekend\n",
              "1              2   Scandinavian  2016-10-30 10:05:34  Morning  Weekend\n",
              "2              2   Scandinavian  2016-10-30 10:05:34  Morning  Weekend\n",
              "3              3  Hot chocolate  2016-10-30 10:07:57  Morning  Weekend\n",
              "4              3            Jam  2016-10-30 10:07:57  Morning  Weekend"
            ],
            "text/html": [
              "\n",
              "  <div id=\"df-ea24d10d-ce9e-4112-949d-35b1c165152b\">\n",
              "    <div class=\"colab-df-container\">\n",
              "      <div>\n",
              "<style scoped>\n",
              "    .dataframe tbody tr th:only-of-type {\n",
              "        vertical-align: middle;\n",
              "    }\n",
              "\n",
              "    .dataframe tbody tr th {\n",
              "        vertical-align: top;\n",
              "    }\n",
              "\n",
              "    .dataframe thead th {\n",
              "        text-align: right;\n",
              "    }\n",
              "</style>\n",
              "<table border=\"1\" class=\"dataframe\">\n",
              "  <thead>\n",
              "    <tr style=\"text-align: right;\">\n",
              "      <th></th>\n",
              "      <th>TransactionNo</th>\n",
              "      <th>Items</th>\n",
              "      <th>DateTime</th>\n",
              "      <th>Daypart</th>\n",
              "      <th>DayType</th>\n",
              "    </tr>\n",
              "  </thead>\n",
              "  <tbody>\n",
              "    <tr>\n",
              "      <th>0</th>\n",
              "      <td>1</td>\n",
              "      <td>Bread</td>\n",
              "      <td>2016-10-30 09:58:11</td>\n",
              "      <td>Morning</td>\n",
              "      <td>Weekend</td>\n",
              "    </tr>\n",
              "    <tr>\n",
              "      <th>1</th>\n",
              "      <td>2</td>\n",
              "      <td>Scandinavian</td>\n",
              "      <td>2016-10-30 10:05:34</td>\n",
              "      <td>Morning</td>\n",
              "      <td>Weekend</td>\n",
              "    </tr>\n",
              "    <tr>\n",
              "      <th>2</th>\n",
              "      <td>2</td>\n",
              "      <td>Scandinavian</td>\n",
              "      <td>2016-10-30 10:05:34</td>\n",
              "      <td>Morning</td>\n",
              "      <td>Weekend</td>\n",
              "    </tr>\n",
              "    <tr>\n",
              "      <th>3</th>\n",
              "      <td>3</td>\n",
              "      <td>Hot chocolate</td>\n",
              "      <td>2016-10-30 10:07:57</td>\n",
              "      <td>Morning</td>\n",
              "      <td>Weekend</td>\n",
              "    </tr>\n",
              "    <tr>\n",
              "      <th>4</th>\n",
              "      <td>3</td>\n",
              "      <td>Jam</td>\n",
              "      <td>2016-10-30 10:07:57</td>\n",
              "      <td>Morning</td>\n",
              "      <td>Weekend</td>\n",
              "    </tr>\n",
              "  </tbody>\n",
              "</table>\n",
              "</div>\n",
              "      <button class=\"colab-df-convert\" onclick=\"convertToInteractive('df-ea24d10d-ce9e-4112-949d-35b1c165152b')\"\n",
              "              title=\"Convert this dataframe to an interactive table.\"\n",
              "              style=\"display:none;\">\n",
              "        \n",
              "  <svg xmlns=\"http://www.w3.org/2000/svg\" height=\"24px\"viewBox=\"0 0 24 24\"\n",
              "       width=\"24px\">\n",
              "    <path d=\"M0 0h24v24H0V0z\" fill=\"none\"/>\n",
              "    <path d=\"M18.56 5.44l.94 2.06.94-2.06 2.06-.94-2.06-.94-.94-2.06-.94 2.06-2.06.94zm-11 1L8.5 8.5l.94-2.06 2.06-.94-2.06-.94L8.5 2.5l-.94 2.06-2.06.94zm10 10l.94 2.06.94-2.06 2.06-.94-2.06-.94-.94-2.06-.94 2.06-2.06.94z\"/><path d=\"M17.41 7.96l-1.37-1.37c-.4-.4-.92-.59-1.43-.59-.52 0-1.04.2-1.43.59L10.3 9.45l-7.72 7.72c-.78.78-.78 2.05 0 2.83L4 21.41c.39.39.9.59 1.41.59.51 0 1.02-.2 1.41-.59l7.78-7.78 2.81-2.81c.8-.78.8-2.07 0-2.86zM5.41 20L4 18.59l7.72-7.72 1.47 1.35L5.41 20z\"/>\n",
              "  </svg>\n",
              "      </button>\n",
              "      \n",
              "  <style>\n",
              "    .colab-df-container {\n",
              "      display:flex;\n",
              "      flex-wrap:wrap;\n",
              "      gap: 12px;\n",
              "    }\n",
              "\n",
              "    .colab-df-convert {\n",
              "      background-color: #E8F0FE;\n",
              "      border: none;\n",
              "      border-radius: 50%;\n",
              "      cursor: pointer;\n",
              "      display: none;\n",
              "      fill: #1967D2;\n",
              "      height: 32px;\n",
              "      padding: 0 0 0 0;\n",
              "      width: 32px;\n",
              "    }\n",
              "\n",
              "    .colab-df-convert:hover {\n",
              "      background-color: #E2EBFA;\n",
              "      box-shadow: 0px 1px 2px rgba(60, 64, 67, 0.3), 0px 1px 3px 1px rgba(60, 64, 67, 0.15);\n",
              "      fill: #174EA6;\n",
              "    }\n",
              "\n",
              "    [theme=dark] .colab-df-convert {\n",
              "      background-color: #3B4455;\n",
              "      fill: #D2E3FC;\n",
              "    }\n",
              "\n",
              "    [theme=dark] .colab-df-convert:hover {\n",
              "      background-color: #434B5C;\n",
              "      box-shadow: 0px 1px 3px 1px rgba(0, 0, 0, 0.15);\n",
              "      filter: drop-shadow(0px 1px 2px rgba(0, 0, 0, 0.3));\n",
              "      fill: #FFFFFF;\n",
              "    }\n",
              "  </style>\n",
              "\n",
              "      <script>\n",
              "        const buttonEl =\n",
              "          document.querySelector('#df-ea24d10d-ce9e-4112-949d-35b1c165152b button.colab-df-convert');\n",
              "        buttonEl.style.display =\n",
              "          google.colab.kernel.accessAllowed ? 'block' : 'none';\n",
              "\n",
              "        async function convertToInteractive(key) {\n",
              "          const element = document.querySelector('#df-ea24d10d-ce9e-4112-949d-35b1c165152b');\n",
              "          const dataTable =\n",
              "            await google.colab.kernel.invokeFunction('convertToInteractive',\n",
              "                                                     [key], {});\n",
              "          if (!dataTable) return;\n",
              "\n",
              "          const docLinkHtml = 'Like what you see? Visit the ' +\n",
              "            '<a target=\"_blank\" href=https://colab.research.google.com/notebooks/data_table.ipynb>data table notebook</a>'\n",
              "            + ' to learn more about interactive tables.';\n",
              "          element.innerHTML = '';\n",
              "          dataTable['output_type'] = 'display_data';\n",
              "          await google.colab.output.renderOutput(dataTable, element);\n",
              "          const docLink = document.createElement('div');\n",
              "          docLink.innerHTML = docLinkHtml;\n",
              "          element.appendChild(docLink);\n",
              "        }\n",
              "      </script>\n",
              "    </div>\n",
              "  </div>\n",
              "  "
            ]
          },
          "metadata": {},
          "execution_count": 3
        }
      ]
    },
    {
      "cell_type": "code",
      "source": [
        "df.info()"
      ],
      "metadata": {
        "colab": {
          "base_uri": "https://localhost:8080/"
        },
        "id": "0qEdcqG_nGGH",
        "outputId": "bd155f9b-6dec-4609-ff92-b53ef32df3c8"
      },
      "execution_count": 4,
      "outputs": [
        {
          "output_type": "stream",
          "name": "stdout",
          "text": [
            "<class 'pandas.core.frame.DataFrame'>\n",
            "RangeIndex: 20507 entries, 0 to 20506\n",
            "Data columns (total 5 columns):\n",
            " #   Column         Non-Null Count  Dtype \n",
            "---  ------         --------------  ----- \n",
            " 0   TransactionNo  20507 non-null  int64 \n",
            " 1   Items          20507 non-null  object\n",
            " 2   DateTime       20507 non-null  object\n",
            " 3   Daypart        20507 non-null  object\n",
            " 4   DayType        20507 non-null  object\n",
            "dtypes: int64(1), object(4)\n",
            "memory usage: 801.2+ KB\n"
          ]
        }
      ]
    },
    {
      "cell_type": "code",
      "source": [
        "# Перевод столбца с датой в формат даты и выделение дня, месяца и часа\n",
        "df['DateTime'] = pd.to_datetime(df['DateTime'])\n",
        "df['Day'] = df['DateTime'].astype('datetime64[D]')\n",
        "df['Month'] = df['DateTime'].astype('datetime64[M]')\n",
        "df['Dayname'] = df['DateTime'].dt.day_name()\n",
        "df['Hour'] = df['DateTime'].dt.hour\n",
        "df.head()"
      ],
      "metadata": {
        "id": "-ScjZJGypZDZ",
        "colab": {
          "base_uri": "https://localhost:8080/",
          "height": 206
        },
        "outputId": "5a5d4533-66d0-42d4-b3e7-6992ef8567d0"
      },
      "execution_count": 5,
      "outputs": [
        {
          "output_type": "execute_result",
          "data": {
            "text/plain": [
              "   TransactionNo          Items            DateTime  Daypart  DayType  \\\n",
              "0              1          Bread 2016-10-30 09:58:11  Morning  Weekend   \n",
              "1              2   Scandinavian 2016-10-30 10:05:34  Morning  Weekend   \n",
              "2              2   Scandinavian 2016-10-30 10:05:34  Morning  Weekend   \n",
              "3              3  Hot chocolate 2016-10-30 10:07:57  Morning  Weekend   \n",
              "4              3            Jam 2016-10-30 10:07:57  Morning  Weekend   \n",
              "\n",
              "         Day      Month Dayname  Hour  \n",
              "0 2016-10-30 2016-10-01  Sunday     9  \n",
              "1 2016-10-30 2016-10-01  Sunday    10  \n",
              "2 2016-10-30 2016-10-01  Sunday    10  \n",
              "3 2016-10-30 2016-10-01  Sunday    10  \n",
              "4 2016-10-30 2016-10-01  Sunday    10  "
            ],
            "text/html": [
              "\n",
              "  <div id=\"df-87cbbdf9-447f-46ba-ae5a-fb8b823517f5\">\n",
              "    <div class=\"colab-df-container\">\n",
              "      <div>\n",
              "<style scoped>\n",
              "    .dataframe tbody tr th:only-of-type {\n",
              "        vertical-align: middle;\n",
              "    }\n",
              "\n",
              "    .dataframe tbody tr th {\n",
              "        vertical-align: top;\n",
              "    }\n",
              "\n",
              "    .dataframe thead th {\n",
              "        text-align: right;\n",
              "    }\n",
              "</style>\n",
              "<table border=\"1\" class=\"dataframe\">\n",
              "  <thead>\n",
              "    <tr style=\"text-align: right;\">\n",
              "      <th></th>\n",
              "      <th>TransactionNo</th>\n",
              "      <th>Items</th>\n",
              "      <th>DateTime</th>\n",
              "      <th>Daypart</th>\n",
              "      <th>DayType</th>\n",
              "      <th>Day</th>\n",
              "      <th>Month</th>\n",
              "      <th>Dayname</th>\n",
              "      <th>Hour</th>\n",
              "    </tr>\n",
              "  </thead>\n",
              "  <tbody>\n",
              "    <tr>\n",
              "      <th>0</th>\n",
              "      <td>1</td>\n",
              "      <td>Bread</td>\n",
              "      <td>2016-10-30 09:58:11</td>\n",
              "      <td>Morning</td>\n",
              "      <td>Weekend</td>\n",
              "      <td>2016-10-30</td>\n",
              "      <td>2016-10-01</td>\n",
              "      <td>Sunday</td>\n",
              "      <td>9</td>\n",
              "    </tr>\n",
              "    <tr>\n",
              "      <th>1</th>\n",
              "      <td>2</td>\n",
              "      <td>Scandinavian</td>\n",
              "      <td>2016-10-30 10:05:34</td>\n",
              "      <td>Morning</td>\n",
              "      <td>Weekend</td>\n",
              "      <td>2016-10-30</td>\n",
              "      <td>2016-10-01</td>\n",
              "      <td>Sunday</td>\n",
              "      <td>10</td>\n",
              "    </tr>\n",
              "    <tr>\n",
              "      <th>2</th>\n",
              "      <td>2</td>\n",
              "      <td>Scandinavian</td>\n",
              "      <td>2016-10-30 10:05:34</td>\n",
              "      <td>Morning</td>\n",
              "      <td>Weekend</td>\n",
              "      <td>2016-10-30</td>\n",
              "      <td>2016-10-01</td>\n",
              "      <td>Sunday</td>\n",
              "      <td>10</td>\n",
              "    </tr>\n",
              "    <tr>\n",
              "      <th>3</th>\n",
              "      <td>3</td>\n",
              "      <td>Hot chocolate</td>\n",
              "      <td>2016-10-30 10:07:57</td>\n",
              "      <td>Morning</td>\n",
              "      <td>Weekend</td>\n",
              "      <td>2016-10-30</td>\n",
              "      <td>2016-10-01</td>\n",
              "      <td>Sunday</td>\n",
              "      <td>10</td>\n",
              "    </tr>\n",
              "    <tr>\n",
              "      <th>4</th>\n",
              "      <td>3</td>\n",
              "      <td>Jam</td>\n",
              "      <td>2016-10-30 10:07:57</td>\n",
              "      <td>Morning</td>\n",
              "      <td>Weekend</td>\n",
              "      <td>2016-10-30</td>\n",
              "      <td>2016-10-01</td>\n",
              "      <td>Sunday</td>\n",
              "      <td>10</td>\n",
              "    </tr>\n",
              "  </tbody>\n",
              "</table>\n",
              "</div>\n",
              "      <button class=\"colab-df-convert\" onclick=\"convertToInteractive('df-87cbbdf9-447f-46ba-ae5a-fb8b823517f5')\"\n",
              "              title=\"Convert this dataframe to an interactive table.\"\n",
              "              style=\"display:none;\">\n",
              "        \n",
              "  <svg xmlns=\"http://www.w3.org/2000/svg\" height=\"24px\"viewBox=\"0 0 24 24\"\n",
              "       width=\"24px\">\n",
              "    <path d=\"M0 0h24v24H0V0z\" fill=\"none\"/>\n",
              "    <path d=\"M18.56 5.44l.94 2.06.94-2.06 2.06-.94-2.06-.94-.94-2.06-.94 2.06-2.06.94zm-11 1L8.5 8.5l.94-2.06 2.06-.94-2.06-.94L8.5 2.5l-.94 2.06-2.06.94zm10 10l.94 2.06.94-2.06 2.06-.94-2.06-.94-.94-2.06-.94 2.06-2.06.94z\"/><path d=\"M17.41 7.96l-1.37-1.37c-.4-.4-.92-.59-1.43-.59-.52 0-1.04.2-1.43.59L10.3 9.45l-7.72 7.72c-.78.78-.78 2.05 0 2.83L4 21.41c.39.39.9.59 1.41.59.51 0 1.02-.2 1.41-.59l7.78-7.78 2.81-2.81c.8-.78.8-2.07 0-2.86zM5.41 20L4 18.59l7.72-7.72 1.47 1.35L5.41 20z\"/>\n",
              "  </svg>\n",
              "      </button>\n",
              "      \n",
              "  <style>\n",
              "    .colab-df-container {\n",
              "      display:flex;\n",
              "      flex-wrap:wrap;\n",
              "      gap: 12px;\n",
              "    }\n",
              "\n",
              "    .colab-df-convert {\n",
              "      background-color: #E8F0FE;\n",
              "      border: none;\n",
              "      border-radius: 50%;\n",
              "      cursor: pointer;\n",
              "      display: none;\n",
              "      fill: #1967D2;\n",
              "      height: 32px;\n",
              "      padding: 0 0 0 0;\n",
              "      width: 32px;\n",
              "    }\n",
              "\n",
              "    .colab-df-convert:hover {\n",
              "      background-color: #E2EBFA;\n",
              "      box-shadow: 0px 1px 2px rgba(60, 64, 67, 0.3), 0px 1px 3px 1px rgba(60, 64, 67, 0.15);\n",
              "      fill: #174EA6;\n",
              "    }\n",
              "\n",
              "    [theme=dark] .colab-df-convert {\n",
              "      background-color: #3B4455;\n",
              "      fill: #D2E3FC;\n",
              "    }\n",
              "\n",
              "    [theme=dark] .colab-df-convert:hover {\n",
              "      background-color: #434B5C;\n",
              "      box-shadow: 0px 1px 3px 1px rgba(0, 0, 0, 0.15);\n",
              "      filter: drop-shadow(0px 1px 2px rgba(0, 0, 0, 0.3));\n",
              "      fill: #FFFFFF;\n",
              "    }\n",
              "  </style>\n",
              "\n",
              "      <script>\n",
              "        const buttonEl =\n",
              "          document.querySelector('#df-87cbbdf9-447f-46ba-ae5a-fb8b823517f5 button.colab-df-convert');\n",
              "        buttonEl.style.display =\n",
              "          google.colab.kernel.accessAllowed ? 'block' : 'none';\n",
              "\n",
              "        async function convertToInteractive(key) {\n",
              "          const element = document.querySelector('#df-87cbbdf9-447f-46ba-ae5a-fb8b823517f5');\n",
              "          const dataTable =\n",
              "            await google.colab.kernel.invokeFunction('convertToInteractive',\n",
              "                                                     [key], {});\n",
              "          if (!dataTable) return;\n",
              "\n",
              "          const docLinkHtml = 'Like what you see? Visit the ' +\n",
              "            '<a target=\"_blank\" href=https://colab.research.google.com/notebooks/data_table.ipynb>data table notebook</a>'\n",
              "            + ' to learn more about interactive tables.';\n",
              "          element.innerHTML = '';\n",
              "          dataTable['output_type'] = 'display_data';\n",
              "          await google.colab.output.renderOutput(dataTable, element);\n",
              "          const docLink = document.createElement('div');\n",
              "          docLink.innerHTML = docLinkHtml;\n",
              "          element.appendChild(docLink);\n",
              "        }\n",
              "      </script>\n",
              "    </div>\n",
              "  </div>\n",
              "  "
            ]
          },
          "metadata": {},
          "execution_count": 5
        }
      ]
    },
    {
      "cell_type": "code",
      "source": [
        "# Вывод начала периода\n",
        "df['DateTime'].min()"
      ],
      "metadata": {
        "colab": {
          "base_uri": "https://localhost:8080/"
        },
        "id": "R3ShNMv7prl5",
        "outputId": "e670a0b1-a416-42b6-9040-4847aebc3cdb"
      },
      "execution_count": 6,
      "outputs": [
        {
          "output_type": "execute_result",
          "data": {
            "text/plain": [
              "Timestamp('2016-01-11 07:51:20')"
            ]
          },
          "metadata": {},
          "execution_count": 6
        }
      ]
    },
    {
      "cell_type": "code",
      "source": [
        "# Вывод конца периода\n",
        "df['DateTime'].max()"
      ],
      "metadata": {
        "colab": {
          "base_uri": "https://localhost:8080/"
        },
        "outputId": "7de17a32-83ee-412e-e4eb-3e9f118e44fd",
        "id": "Kq9boToTp9AR"
      },
      "execution_count": 7,
      "outputs": [
        {
          "output_type": "execute_result",
          "data": {
            "text/plain": [
              "Timestamp('2017-12-03 16:28:00')"
            ]
          },
          "metadata": {},
          "execution_count": 7
        }
      ]
    },
    {
      "cell_type": "code",
      "source": [
        "# Количество дней в \n",
        "df['Day'].nunique()\n"
      ],
      "metadata": {
        "colab": {
          "base_uri": "https://localhost:8080/"
        },
        "id": "CHeKfb3xTBgd",
        "outputId": "b003fa97-b1a0-4794-a348-d39acfbf018a"
      },
      "execution_count": 8,
      "outputs": [
        {
          "output_type": "execute_result",
          "data": {
            "text/plain": [
              "159"
            ]
          },
          "metadata": {},
          "execution_count": 8
        }
      ]
    },
    {
      "cell_type": "code",
      "source": [
        "# Количество дней для каждого месяца для которых есть данные в выборке\n",
        "df.groupby('Month').agg({'Day':'nunique'}).reset_index()"
      ],
      "metadata": {
        "colab": {
          "base_uri": "https://localhost:8080/",
          "height": 801
        },
        "id": "3LNJdlqmtuhK",
        "outputId": "f71e037d-9b64-4ab5-cd85-4bfdd9900221"
      },
      "execution_count": 9,
      "outputs": [
        {
          "output_type": "execute_result",
          "data": {
            "text/plain": [
              "        Month  Day\n",
              "0  2016-01-01    2\n",
              "1  2016-02-01    2\n",
              "2  2016-03-01    2\n",
              "3  2016-04-01    2\n",
              "4  2016-05-01    2\n",
              "5  2016-06-01    2\n",
              "6  2016-07-01    2\n",
              "7  2016-08-01    2\n",
              "8  2016-09-01    2\n",
              "9  2016-10-01    4\n",
              "10 2016-11-01   20\n",
              "11 2016-12-01   19\n",
              "12 2017-01-01   23\n",
              "13 2017-02-01   19\n",
              "14 2017-03-01   23\n",
              "15 2017-04-01    4\n",
              "16 2017-05-01    4\n",
              "17 2017-06-01    4\n",
              "18 2017-07-01    4\n",
              "19 2017-08-01    4\n",
              "20 2017-09-01    4\n",
              "21 2017-10-01    3\n",
              "22 2017-11-01    3\n",
              "23 2017-12-01    3"
            ],
            "text/html": [
              "\n",
              "  <div id=\"df-327a10a0-edca-43a4-86bf-1cb474f63a5f\">\n",
              "    <div class=\"colab-df-container\">\n",
              "      <div>\n",
              "<style scoped>\n",
              "    .dataframe tbody tr th:only-of-type {\n",
              "        vertical-align: middle;\n",
              "    }\n",
              "\n",
              "    .dataframe tbody tr th {\n",
              "        vertical-align: top;\n",
              "    }\n",
              "\n",
              "    .dataframe thead th {\n",
              "        text-align: right;\n",
              "    }\n",
              "</style>\n",
              "<table border=\"1\" class=\"dataframe\">\n",
              "  <thead>\n",
              "    <tr style=\"text-align: right;\">\n",
              "      <th></th>\n",
              "      <th>Month</th>\n",
              "      <th>Day</th>\n",
              "    </tr>\n",
              "  </thead>\n",
              "  <tbody>\n",
              "    <tr>\n",
              "      <th>0</th>\n",
              "      <td>2016-01-01</td>\n",
              "      <td>2</td>\n",
              "    </tr>\n",
              "    <tr>\n",
              "      <th>1</th>\n",
              "      <td>2016-02-01</td>\n",
              "      <td>2</td>\n",
              "    </tr>\n",
              "    <tr>\n",
              "      <th>2</th>\n",
              "      <td>2016-03-01</td>\n",
              "      <td>2</td>\n",
              "    </tr>\n",
              "    <tr>\n",
              "      <th>3</th>\n",
              "      <td>2016-04-01</td>\n",
              "      <td>2</td>\n",
              "    </tr>\n",
              "    <tr>\n",
              "      <th>4</th>\n",
              "      <td>2016-05-01</td>\n",
              "      <td>2</td>\n",
              "    </tr>\n",
              "    <tr>\n",
              "      <th>5</th>\n",
              "      <td>2016-06-01</td>\n",
              "      <td>2</td>\n",
              "    </tr>\n",
              "    <tr>\n",
              "      <th>6</th>\n",
              "      <td>2016-07-01</td>\n",
              "      <td>2</td>\n",
              "    </tr>\n",
              "    <tr>\n",
              "      <th>7</th>\n",
              "      <td>2016-08-01</td>\n",
              "      <td>2</td>\n",
              "    </tr>\n",
              "    <tr>\n",
              "      <th>8</th>\n",
              "      <td>2016-09-01</td>\n",
              "      <td>2</td>\n",
              "    </tr>\n",
              "    <tr>\n",
              "      <th>9</th>\n",
              "      <td>2016-10-01</td>\n",
              "      <td>4</td>\n",
              "    </tr>\n",
              "    <tr>\n",
              "      <th>10</th>\n",
              "      <td>2016-11-01</td>\n",
              "      <td>20</td>\n",
              "    </tr>\n",
              "    <tr>\n",
              "      <th>11</th>\n",
              "      <td>2016-12-01</td>\n",
              "      <td>19</td>\n",
              "    </tr>\n",
              "    <tr>\n",
              "      <th>12</th>\n",
              "      <td>2017-01-01</td>\n",
              "      <td>23</td>\n",
              "    </tr>\n",
              "    <tr>\n",
              "      <th>13</th>\n",
              "      <td>2017-02-01</td>\n",
              "      <td>19</td>\n",
              "    </tr>\n",
              "    <tr>\n",
              "      <th>14</th>\n",
              "      <td>2017-03-01</td>\n",
              "      <td>23</td>\n",
              "    </tr>\n",
              "    <tr>\n",
              "      <th>15</th>\n",
              "      <td>2017-04-01</td>\n",
              "      <td>4</td>\n",
              "    </tr>\n",
              "    <tr>\n",
              "      <th>16</th>\n",
              "      <td>2017-05-01</td>\n",
              "      <td>4</td>\n",
              "    </tr>\n",
              "    <tr>\n",
              "      <th>17</th>\n",
              "      <td>2017-06-01</td>\n",
              "      <td>4</td>\n",
              "    </tr>\n",
              "    <tr>\n",
              "      <th>18</th>\n",
              "      <td>2017-07-01</td>\n",
              "      <td>4</td>\n",
              "    </tr>\n",
              "    <tr>\n",
              "      <th>19</th>\n",
              "      <td>2017-08-01</td>\n",
              "      <td>4</td>\n",
              "    </tr>\n",
              "    <tr>\n",
              "      <th>20</th>\n",
              "      <td>2017-09-01</td>\n",
              "      <td>4</td>\n",
              "    </tr>\n",
              "    <tr>\n",
              "      <th>21</th>\n",
              "      <td>2017-10-01</td>\n",
              "      <td>3</td>\n",
              "    </tr>\n",
              "    <tr>\n",
              "      <th>22</th>\n",
              "      <td>2017-11-01</td>\n",
              "      <td>3</td>\n",
              "    </tr>\n",
              "    <tr>\n",
              "      <th>23</th>\n",
              "      <td>2017-12-01</td>\n",
              "      <td>3</td>\n",
              "    </tr>\n",
              "  </tbody>\n",
              "</table>\n",
              "</div>\n",
              "      <button class=\"colab-df-convert\" onclick=\"convertToInteractive('df-327a10a0-edca-43a4-86bf-1cb474f63a5f')\"\n",
              "              title=\"Convert this dataframe to an interactive table.\"\n",
              "              style=\"display:none;\">\n",
              "        \n",
              "  <svg xmlns=\"http://www.w3.org/2000/svg\" height=\"24px\"viewBox=\"0 0 24 24\"\n",
              "       width=\"24px\">\n",
              "    <path d=\"M0 0h24v24H0V0z\" fill=\"none\"/>\n",
              "    <path d=\"M18.56 5.44l.94 2.06.94-2.06 2.06-.94-2.06-.94-.94-2.06-.94 2.06-2.06.94zm-11 1L8.5 8.5l.94-2.06 2.06-.94-2.06-.94L8.5 2.5l-.94 2.06-2.06.94zm10 10l.94 2.06.94-2.06 2.06-.94-2.06-.94-.94-2.06-.94 2.06-2.06.94z\"/><path d=\"M17.41 7.96l-1.37-1.37c-.4-.4-.92-.59-1.43-.59-.52 0-1.04.2-1.43.59L10.3 9.45l-7.72 7.72c-.78.78-.78 2.05 0 2.83L4 21.41c.39.39.9.59 1.41.59.51 0 1.02-.2 1.41-.59l7.78-7.78 2.81-2.81c.8-.78.8-2.07 0-2.86zM5.41 20L4 18.59l7.72-7.72 1.47 1.35L5.41 20z\"/>\n",
              "  </svg>\n",
              "      </button>\n",
              "      \n",
              "  <style>\n",
              "    .colab-df-container {\n",
              "      display:flex;\n",
              "      flex-wrap:wrap;\n",
              "      gap: 12px;\n",
              "    }\n",
              "\n",
              "    .colab-df-convert {\n",
              "      background-color: #E8F0FE;\n",
              "      border: none;\n",
              "      border-radius: 50%;\n",
              "      cursor: pointer;\n",
              "      display: none;\n",
              "      fill: #1967D2;\n",
              "      height: 32px;\n",
              "      padding: 0 0 0 0;\n",
              "      width: 32px;\n",
              "    }\n",
              "\n",
              "    .colab-df-convert:hover {\n",
              "      background-color: #E2EBFA;\n",
              "      box-shadow: 0px 1px 2px rgba(60, 64, 67, 0.3), 0px 1px 3px 1px rgba(60, 64, 67, 0.15);\n",
              "      fill: #174EA6;\n",
              "    }\n",
              "\n",
              "    [theme=dark] .colab-df-convert {\n",
              "      background-color: #3B4455;\n",
              "      fill: #D2E3FC;\n",
              "    }\n",
              "\n",
              "    [theme=dark] .colab-df-convert:hover {\n",
              "      background-color: #434B5C;\n",
              "      box-shadow: 0px 1px 3px 1px rgba(0, 0, 0, 0.15);\n",
              "      filter: drop-shadow(0px 1px 2px rgba(0, 0, 0, 0.3));\n",
              "      fill: #FFFFFF;\n",
              "    }\n",
              "  </style>\n",
              "\n",
              "      <script>\n",
              "        const buttonEl =\n",
              "          document.querySelector('#df-327a10a0-edca-43a4-86bf-1cb474f63a5f button.colab-df-convert');\n",
              "        buttonEl.style.display =\n",
              "          google.colab.kernel.accessAllowed ? 'block' : 'none';\n",
              "\n",
              "        async function convertToInteractive(key) {\n",
              "          const element = document.querySelector('#df-327a10a0-edca-43a4-86bf-1cb474f63a5f');\n",
              "          const dataTable =\n",
              "            await google.colab.kernel.invokeFunction('convertToInteractive',\n",
              "                                                     [key], {});\n",
              "          if (!dataTable) return;\n",
              "\n",
              "          const docLinkHtml = 'Like what you see? Visit the ' +\n",
              "            '<a target=\"_blank\" href=https://colab.research.google.com/notebooks/data_table.ipynb>data table notebook</a>'\n",
              "            + ' to learn more about interactive tables.';\n",
              "          element.innerHTML = '';\n",
              "          dataTable['output_type'] = 'display_data';\n",
              "          await google.colab.output.renderOutput(dataTable, element);\n",
              "          const docLink = document.createElement('div');\n",
              "          docLink.innerHTML = docLinkHtml;\n",
              "          element.appendChild(docLink);\n",
              "        }\n",
              "      </script>\n",
              "    </div>\n",
              "  </div>\n",
              "  "
            ]
          },
          "metadata": {},
          "execution_count": 9
        }
      ]
    },
    {
      "cell_type": "code",
      "source": [
        "# Полнота данных в разрезе времени суток\n",
        "df.groupby(['DayType', 'Daypart']).agg({'Day':'nunique'})"
      ],
      "metadata": {
        "colab": {
          "base_uri": "https://localhost:8080/",
          "height": 331
        },
        "id": "W_YuitIc1RYp",
        "outputId": "e125d088-7611-42e8-e8ac-bcd2d01b12ca"
      },
      "execution_count": 10,
      "outputs": [
        {
          "output_type": "execute_result",
          "data": {
            "text/plain": [
              "                   Day\n",
              "DayType Daypart       \n",
              "Weekday Afternoon  113\n",
              "        Evening     73\n",
              "        Morning    113\n",
              "        Night        2\n",
              "Weekend Afternoon   45\n",
              "        Evening     21\n",
              "        Morning     46\n",
              "        Night        2"
            ],
            "text/html": [
              "\n",
              "  <div id=\"df-7b21de20-cf30-485c-9a83-675c06713bfa\">\n",
              "    <div class=\"colab-df-container\">\n",
              "      <div>\n",
              "<style scoped>\n",
              "    .dataframe tbody tr th:only-of-type {\n",
              "        vertical-align: middle;\n",
              "    }\n",
              "\n",
              "    .dataframe tbody tr th {\n",
              "        vertical-align: top;\n",
              "    }\n",
              "\n",
              "    .dataframe thead th {\n",
              "        text-align: right;\n",
              "    }\n",
              "</style>\n",
              "<table border=\"1\" class=\"dataframe\">\n",
              "  <thead>\n",
              "    <tr style=\"text-align: right;\">\n",
              "      <th></th>\n",
              "      <th></th>\n",
              "      <th>Day</th>\n",
              "    </tr>\n",
              "    <tr>\n",
              "      <th>DayType</th>\n",
              "      <th>Daypart</th>\n",
              "      <th></th>\n",
              "    </tr>\n",
              "  </thead>\n",
              "  <tbody>\n",
              "    <tr>\n",
              "      <th rowspan=\"4\" valign=\"top\">Weekday</th>\n",
              "      <th>Afternoon</th>\n",
              "      <td>113</td>\n",
              "    </tr>\n",
              "    <tr>\n",
              "      <th>Evening</th>\n",
              "      <td>73</td>\n",
              "    </tr>\n",
              "    <tr>\n",
              "      <th>Morning</th>\n",
              "      <td>113</td>\n",
              "    </tr>\n",
              "    <tr>\n",
              "      <th>Night</th>\n",
              "      <td>2</td>\n",
              "    </tr>\n",
              "    <tr>\n",
              "      <th rowspan=\"4\" valign=\"top\">Weekend</th>\n",
              "      <th>Afternoon</th>\n",
              "      <td>45</td>\n",
              "    </tr>\n",
              "    <tr>\n",
              "      <th>Evening</th>\n",
              "      <td>21</td>\n",
              "    </tr>\n",
              "    <tr>\n",
              "      <th>Morning</th>\n",
              "      <td>46</td>\n",
              "    </tr>\n",
              "    <tr>\n",
              "      <th>Night</th>\n",
              "      <td>2</td>\n",
              "    </tr>\n",
              "  </tbody>\n",
              "</table>\n",
              "</div>\n",
              "      <button class=\"colab-df-convert\" onclick=\"convertToInteractive('df-7b21de20-cf30-485c-9a83-675c06713bfa')\"\n",
              "              title=\"Convert this dataframe to an interactive table.\"\n",
              "              style=\"display:none;\">\n",
              "        \n",
              "  <svg xmlns=\"http://www.w3.org/2000/svg\" height=\"24px\"viewBox=\"0 0 24 24\"\n",
              "       width=\"24px\">\n",
              "    <path d=\"M0 0h24v24H0V0z\" fill=\"none\"/>\n",
              "    <path d=\"M18.56 5.44l.94 2.06.94-2.06 2.06-.94-2.06-.94-.94-2.06-.94 2.06-2.06.94zm-11 1L8.5 8.5l.94-2.06 2.06-.94-2.06-.94L8.5 2.5l-.94 2.06-2.06.94zm10 10l.94 2.06.94-2.06 2.06-.94-2.06-.94-.94-2.06-.94 2.06-2.06.94z\"/><path d=\"M17.41 7.96l-1.37-1.37c-.4-.4-.92-.59-1.43-.59-.52 0-1.04.2-1.43.59L10.3 9.45l-7.72 7.72c-.78.78-.78 2.05 0 2.83L4 21.41c.39.39.9.59 1.41.59.51 0 1.02-.2 1.41-.59l7.78-7.78 2.81-2.81c.8-.78.8-2.07 0-2.86zM5.41 20L4 18.59l7.72-7.72 1.47 1.35L5.41 20z\"/>\n",
              "  </svg>\n",
              "      </button>\n",
              "      \n",
              "  <style>\n",
              "    .colab-df-container {\n",
              "      display:flex;\n",
              "      flex-wrap:wrap;\n",
              "      gap: 12px;\n",
              "    }\n",
              "\n",
              "    .colab-df-convert {\n",
              "      background-color: #E8F0FE;\n",
              "      border: none;\n",
              "      border-radius: 50%;\n",
              "      cursor: pointer;\n",
              "      display: none;\n",
              "      fill: #1967D2;\n",
              "      height: 32px;\n",
              "      padding: 0 0 0 0;\n",
              "      width: 32px;\n",
              "    }\n",
              "\n",
              "    .colab-df-convert:hover {\n",
              "      background-color: #E2EBFA;\n",
              "      box-shadow: 0px 1px 2px rgba(60, 64, 67, 0.3), 0px 1px 3px 1px rgba(60, 64, 67, 0.15);\n",
              "      fill: #174EA6;\n",
              "    }\n",
              "\n",
              "    [theme=dark] .colab-df-convert {\n",
              "      background-color: #3B4455;\n",
              "      fill: #D2E3FC;\n",
              "    }\n",
              "\n",
              "    [theme=dark] .colab-df-convert:hover {\n",
              "      background-color: #434B5C;\n",
              "      box-shadow: 0px 1px 3px 1px rgba(0, 0, 0, 0.15);\n",
              "      filter: drop-shadow(0px 1px 2px rgba(0, 0, 0, 0.3));\n",
              "      fill: #FFFFFF;\n",
              "    }\n",
              "  </style>\n",
              "\n",
              "      <script>\n",
              "        const buttonEl =\n",
              "          document.querySelector('#df-7b21de20-cf30-485c-9a83-675c06713bfa button.colab-df-convert');\n",
              "        buttonEl.style.display =\n",
              "          google.colab.kernel.accessAllowed ? 'block' : 'none';\n",
              "\n",
              "        async function convertToInteractive(key) {\n",
              "          const element = document.querySelector('#df-7b21de20-cf30-485c-9a83-675c06713bfa');\n",
              "          const dataTable =\n",
              "            await google.colab.kernel.invokeFunction('convertToInteractive',\n",
              "                                                     [key], {});\n",
              "          if (!dataTable) return;\n",
              "\n",
              "          const docLinkHtml = 'Like what you see? Visit the ' +\n",
              "            '<a target=\"_blank\" href=https://colab.research.google.com/notebooks/data_table.ipynb>data table notebook</a>'\n",
              "            + ' to learn more about interactive tables.';\n",
              "          element.innerHTML = '';\n",
              "          dataTable['output_type'] = 'display_data';\n",
              "          await google.colab.output.renderOutput(dataTable, element);\n",
              "          const docLink = document.createElement('div');\n",
              "          docLink.innerHTML = docLinkHtml;\n",
              "          element.appendChild(docLink);\n",
              "        }\n",
              "      </script>\n",
              "    </div>\n",
              "  </div>\n",
              "  "
            ]
          },
          "metadata": {},
          "execution_count": 10
        }
      ]
    },
    {
      "cell_type": "code",
      "source": [
        ""
      ],
      "metadata": {
        "id": "X5TJnE9RtE7n"
      },
      "execution_count": 10,
      "outputs": []
    },
    {
      "cell_type": "code",
      "source": [
        "# День Weekend с отсутствием данных по Afternoon\n",
        "temp = df.query('DayType == \"Weekend\"').groupby(['Day', 'Daypart']).agg({'Day':'nunique'}).rename(columns={'Day':'Ndays'}).reset_index()\n",
        "temp.groupby('Day').agg({'Ndays':'sum'}).query('Ndays == 1')"
      ],
      "metadata": {
        "colab": {
          "base_uri": "https://localhost:8080/",
          "height": 112
        },
        "id": "0lR-w98MUmjc",
        "outputId": "a4c8e726-88bb-4854-ac89-e57da9ad963e"
      },
      "execution_count": 11,
      "outputs": [
        {
          "output_type": "execute_result",
          "data": {
            "text/plain": [
              "            Ndays\n",
              "Day              \n",
              "2017-01-01      1"
            ],
            "text/html": [
              "\n",
              "  <div id=\"df-336634e0-b78d-44fb-91d5-d92b54d07a83\">\n",
              "    <div class=\"colab-df-container\">\n",
              "      <div>\n",
              "<style scoped>\n",
              "    .dataframe tbody tr th:only-of-type {\n",
              "        vertical-align: middle;\n",
              "    }\n",
              "\n",
              "    .dataframe tbody tr th {\n",
              "        vertical-align: top;\n",
              "    }\n",
              "\n",
              "    .dataframe thead th {\n",
              "        text-align: right;\n",
              "    }\n",
              "</style>\n",
              "<table border=\"1\" class=\"dataframe\">\n",
              "  <thead>\n",
              "    <tr style=\"text-align: right;\">\n",
              "      <th></th>\n",
              "      <th>Ndays</th>\n",
              "    </tr>\n",
              "    <tr>\n",
              "      <th>Day</th>\n",
              "      <th></th>\n",
              "    </tr>\n",
              "  </thead>\n",
              "  <tbody>\n",
              "    <tr>\n",
              "      <th>2017-01-01</th>\n",
              "      <td>1</td>\n",
              "    </tr>\n",
              "  </tbody>\n",
              "</table>\n",
              "</div>\n",
              "      <button class=\"colab-df-convert\" onclick=\"convertToInteractive('df-336634e0-b78d-44fb-91d5-d92b54d07a83')\"\n",
              "              title=\"Convert this dataframe to an interactive table.\"\n",
              "              style=\"display:none;\">\n",
              "        \n",
              "  <svg xmlns=\"http://www.w3.org/2000/svg\" height=\"24px\"viewBox=\"0 0 24 24\"\n",
              "       width=\"24px\">\n",
              "    <path d=\"M0 0h24v24H0V0z\" fill=\"none\"/>\n",
              "    <path d=\"M18.56 5.44l.94 2.06.94-2.06 2.06-.94-2.06-.94-.94-2.06-.94 2.06-2.06.94zm-11 1L8.5 8.5l.94-2.06 2.06-.94-2.06-.94L8.5 2.5l-.94 2.06-2.06.94zm10 10l.94 2.06.94-2.06 2.06-.94-2.06-.94-.94-2.06-.94 2.06-2.06.94z\"/><path d=\"M17.41 7.96l-1.37-1.37c-.4-.4-.92-.59-1.43-.59-.52 0-1.04.2-1.43.59L10.3 9.45l-7.72 7.72c-.78.78-.78 2.05 0 2.83L4 21.41c.39.39.9.59 1.41.59.51 0 1.02-.2 1.41-.59l7.78-7.78 2.81-2.81c.8-.78.8-2.07 0-2.86zM5.41 20L4 18.59l7.72-7.72 1.47 1.35L5.41 20z\"/>\n",
              "  </svg>\n",
              "      </button>\n",
              "      \n",
              "  <style>\n",
              "    .colab-df-container {\n",
              "      display:flex;\n",
              "      flex-wrap:wrap;\n",
              "      gap: 12px;\n",
              "    }\n",
              "\n",
              "    .colab-df-convert {\n",
              "      background-color: #E8F0FE;\n",
              "      border: none;\n",
              "      border-radius: 50%;\n",
              "      cursor: pointer;\n",
              "      display: none;\n",
              "      fill: #1967D2;\n",
              "      height: 32px;\n",
              "      padding: 0 0 0 0;\n",
              "      width: 32px;\n",
              "    }\n",
              "\n",
              "    .colab-df-convert:hover {\n",
              "      background-color: #E2EBFA;\n",
              "      box-shadow: 0px 1px 2px rgba(60, 64, 67, 0.3), 0px 1px 3px 1px rgba(60, 64, 67, 0.15);\n",
              "      fill: #174EA6;\n",
              "    }\n",
              "\n",
              "    [theme=dark] .colab-df-convert {\n",
              "      background-color: #3B4455;\n",
              "      fill: #D2E3FC;\n",
              "    }\n",
              "\n",
              "    [theme=dark] .colab-df-convert:hover {\n",
              "      background-color: #434B5C;\n",
              "      box-shadow: 0px 1px 3px 1px rgba(0, 0, 0, 0.15);\n",
              "      filter: drop-shadow(0px 1px 2px rgba(0, 0, 0, 0.3));\n",
              "      fill: #FFFFFF;\n",
              "    }\n",
              "  </style>\n",
              "\n",
              "      <script>\n",
              "        const buttonEl =\n",
              "          document.querySelector('#df-336634e0-b78d-44fb-91d5-d92b54d07a83 button.colab-df-convert');\n",
              "        buttonEl.style.display =\n",
              "          google.colab.kernel.accessAllowed ? 'block' : 'none';\n",
              "\n",
              "        async function convertToInteractive(key) {\n",
              "          const element = document.querySelector('#df-336634e0-b78d-44fb-91d5-d92b54d07a83');\n",
              "          const dataTable =\n",
              "            await google.colab.kernel.invokeFunction('convertToInteractive',\n",
              "                                                     [key], {});\n",
              "          if (!dataTable) return;\n",
              "\n",
              "          const docLinkHtml = 'Like what you see? Visit the ' +\n",
              "            '<a target=\"_blank\" href=https://colab.research.google.com/notebooks/data_table.ipynb>data table notebook</a>'\n",
              "            + ' to learn more about interactive tables.';\n",
              "          element.innerHTML = '';\n",
              "          dataTable['output_type'] = 'display_data';\n",
              "          await google.colab.output.renderOutput(dataTable, element);\n",
              "          const docLink = document.createElement('div');\n",
              "          docLink.innerHTML = docLinkHtml;\n",
              "          element.appendChild(docLink);\n",
              "        }\n",
              "      </script>\n",
              "    </div>\n",
              "  </div>\n",
              "  "
            ]
          },
          "metadata": {},
          "execution_count": 11
        }
      ]
    },
    {
      "cell_type": "code",
      "source": [
        "df = df.query('Daypart not in [\"Evening\", \"Night\"] and Day != \"2017-01-01\"')"
      ],
      "metadata": {
        "id": "jFu0m12vU2Mj"
      },
      "execution_count": 12,
      "outputs": []
    },
    {
      "cell_type": "markdown",
      "source": [
        "**Вывод: Временной период данных не полный, присутствуют разное количество дней для каждого месяца. Количество дней с наличием данных по Morning и Afternoon совпадает с количеством уникальных дней. Данные по Evening и Night присутствуют не в каждом дне. Данные за утро и день пригодны для анализа, как наиболее полные.**\n",
        "\n",
        "---\n",
        "\n"
      ],
      "metadata": {
        "id": "tlkjjABYUTGe"
      }
    },
    {
      "cell_type": "markdown",
      "source": [
        "## EDA"
      ],
      "metadata": {
        "id": "898wAN9rXk0U"
      }
    },
    {
      "cell_type": "markdown",
      "source": [
        "### Распределение чеков в динамике временного периода"
      ],
      "metadata": {
        "id": "x9OGCMD0ffU9"
      }
    },
    {
      "cell_type": "code",
      "source": [
        "# Группировка уникальных чеков по дням\n",
        "day_grouped = df.groupby('Day').agg({'TransactionNo':'nunique'}).reset_index()"
      ],
      "metadata": {
        "id": "xoL7OuCLgbjp"
      },
      "execution_count": 13,
      "outputs": []
    },
    {
      "cell_type": "code",
      "source": [
        "# Cтатистики распределения уникальных чеков\n",
        "day_grouped.describe()"
      ],
      "metadata": {
        "colab": {
          "base_uri": "https://localhost:8080/",
          "height": 300
        },
        "id": "IeBCiOCeiGaP",
        "outputId": "a3f50457-a64d-4c5b-d9ab-6eca16666620"
      },
      "execution_count": 14,
      "outputs": [
        {
          "output_type": "execute_result",
          "data": {
            "text/plain": [
              "       TransactionNo\n",
              "count     158.000000\n",
              "mean       58.170886\n",
              "std        17.188054\n",
              "min        23.000000\n",
              "25%        46.000000\n",
              "50%        53.000000\n",
              "75%        68.000000\n",
              "max       118.000000"
            ],
            "text/html": [
              "\n",
              "  <div id=\"df-876162e9-e820-42c7-89eb-a71d44ae6c42\">\n",
              "    <div class=\"colab-df-container\">\n",
              "      <div>\n",
              "<style scoped>\n",
              "    .dataframe tbody tr th:only-of-type {\n",
              "        vertical-align: middle;\n",
              "    }\n",
              "\n",
              "    .dataframe tbody tr th {\n",
              "        vertical-align: top;\n",
              "    }\n",
              "\n",
              "    .dataframe thead th {\n",
              "        text-align: right;\n",
              "    }\n",
              "</style>\n",
              "<table border=\"1\" class=\"dataframe\">\n",
              "  <thead>\n",
              "    <tr style=\"text-align: right;\">\n",
              "      <th></th>\n",
              "      <th>TransactionNo</th>\n",
              "    </tr>\n",
              "  </thead>\n",
              "  <tbody>\n",
              "    <tr>\n",
              "      <th>count</th>\n",
              "      <td>158.000000</td>\n",
              "    </tr>\n",
              "    <tr>\n",
              "      <th>mean</th>\n",
              "      <td>58.170886</td>\n",
              "    </tr>\n",
              "    <tr>\n",
              "      <th>std</th>\n",
              "      <td>17.188054</td>\n",
              "    </tr>\n",
              "    <tr>\n",
              "      <th>min</th>\n",
              "      <td>23.000000</td>\n",
              "    </tr>\n",
              "    <tr>\n",
              "      <th>25%</th>\n",
              "      <td>46.000000</td>\n",
              "    </tr>\n",
              "    <tr>\n",
              "      <th>50%</th>\n",
              "      <td>53.000000</td>\n",
              "    </tr>\n",
              "    <tr>\n",
              "      <th>75%</th>\n",
              "      <td>68.000000</td>\n",
              "    </tr>\n",
              "    <tr>\n",
              "      <th>max</th>\n",
              "      <td>118.000000</td>\n",
              "    </tr>\n",
              "  </tbody>\n",
              "</table>\n",
              "</div>\n",
              "      <button class=\"colab-df-convert\" onclick=\"convertToInteractive('df-876162e9-e820-42c7-89eb-a71d44ae6c42')\"\n",
              "              title=\"Convert this dataframe to an interactive table.\"\n",
              "              style=\"display:none;\">\n",
              "        \n",
              "  <svg xmlns=\"http://www.w3.org/2000/svg\" height=\"24px\"viewBox=\"0 0 24 24\"\n",
              "       width=\"24px\">\n",
              "    <path d=\"M0 0h24v24H0V0z\" fill=\"none\"/>\n",
              "    <path d=\"M18.56 5.44l.94 2.06.94-2.06 2.06-.94-2.06-.94-.94-2.06-.94 2.06-2.06.94zm-11 1L8.5 8.5l.94-2.06 2.06-.94-2.06-.94L8.5 2.5l-.94 2.06-2.06.94zm10 10l.94 2.06.94-2.06 2.06-.94-2.06-.94-.94-2.06-.94 2.06-2.06.94z\"/><path d=\"M17.41 7.96l-1.37-1.37c-.4-.4-.92-.59-1.43-.59-.52 0-1.04.2-1.43.59L10.3 9.45l-7.72 7.72c-.78.78-.78 2.05 0 2.83L4 21.41c.39.39.9.59 1.41.59.51 0 1.02-.2 1.41-.59l7.78-7.78 2.81-2.81c.8-.78.8-2.07 0-2.86zM5.41 20L4 18.59l7.72-7.72 1.47 1.35L5.41 20z\"/>\n",
              "  </svg>\n",
              "      </button>\n",
              "      \n",
              "  <style>\n",
              "    .colab-df-container {\n",
              "      display:flex;\n",
              "      flex-wrap:wrap;\n",
              "      gap: 12px;\n",
              "    }\n",
              "\n",
              "    .colab-df-convert {\n",
              "      background-color: #E8F0FE;\n",
              "      border: none;\n",
              "      border-radius: 50%;\n",
              "      cursor: pointer;\n",
              "      display: none;\n",
              "      fill: #1967D2;\n",
              "      height: 32px;\n",
              "      padding: 0 0 0 0;\n",
              "      width: 32px;\n",
              "    }\n",
              "\n",
              "    .colab-df-convert:hover {\n",
              "      background-color: #E2EBFA;\n",
              "      box-shadow: 0px 1px 2px rgba(60, 64, 67, 0.3), 0px 1px 3px 1px rgba(60, 64, 67, 0.15);\n",
              "      fill: #174EA6;\n",
              "    }\n",
              "\n",
              "    [theme=dark] .colab-df-convert {\n",
              "      background-color: #3B4455;\n",
              "      fill: #D2E3FC;\n",
              "    }\n",
              "\n",
              "    [theme=dark] .colab-df-convert:hover {\n",
              "      background-color: #434B5C;\n",
              "      box-shadow: 0px 1px 3px 1px rgba(0, 0, 0, 0.15);\n",
              "      filter: drop-shadow(0px 1px 2px rgba(0, 0, 0, 0.3));\n",
              "      fill: #FFFFFF;\n",
              "    }\n",
              "  </style>\n",
              "\n",
              "      <script>\n",
              "        const buttonEl =\n",
              "          document.querySelector('#df-876162e9-e820-42c7-89eb-a71d44ae6c42 button.colab-df-convert');\n",
              "        buttonEl.style.display =\n",
              "          google.colab.kernel.accessAllowed ? 'block' : 'none';\n",
              "\n",
              "        async function convertToInteractive(key) {\n",
              "          const element = document.querySelector('#df-876162e9-e820-42c7-89eb-a71d44ae6c42');\n",
              "          const dataTable =\n",
              "            await google.colab.kernel.invokeFunction('convertToInteractive',\n",
              "                                                     [key], {});\n",
              "          if (!dataTable) return;\n",
              "\n",
              "          const docLinkHtml = 'Like what you see? Visit the ' +\n",
              "            '<a target=\"_blank\" href=https://colab.research.google.com/notebooks/data_table.ipynb>data table notebook</a>'\n",
              "            + ' to learn more about interactive tables.';\n",
              "          element.innerHTML = '';\n",
              "          dataTable['output_type'] = 'display_data';\n",
              "          await google.colab.output.renderOutput(dataTable, element);\n",
              "          const docLink = document.createElement('div');\n",
              "          docLink.innerHTML = docLinkHtml;\n",
              "          element.appendChild(docLink);\n",
              "        }\n",
              "      </script>\n",
              "    </div>\n",
              "  </div>\n",
              "  "
            ]
          },
          "metadata": {},
          "execution_count": 14
        }
      ]
    },
    {
      "cell_type": "code",
      "source": [
        "# График распределения количества чеков по времени суток\n",
        "fig, ax = plt.subplots(figsize=(16, 2))\n",
        "sns.boxplot(x=day_grouped['TransactionNo'])\n",
        "plt.title('Распределение количества чеков')\n",
        "ax.set_xticks(np.arange(0,145,5))\n",
        "plt.xlabel('количество чеков в день')\n",
        "plt.ylabel('частота')\n",
        "plt.show()"
      ],
      "metadata": {
        "colab": {
          "base_uri": "https://localhost:8080/",
          "height": 187
        },
        "id": "867PY9MfhWKQ",
        "outputId": "477ebe74-658f-47e0-b211-0ba1ee64090e"
      },
      "execution_count": 15,
      "outputs": [
        {
          "output_type": "display_data",
          "data": {
            "text/plain": [
              "<Figure size 1152x144 with 1 Axes>"
            ],
            "image/png": "[encoded data removed]"
          },
          "metadata": {
            "needs_background": "dark"
          }
        }
      ]
    },
    {
      "cell_type": "code",
      "source": [
        "# График распределения количества чеков по дням\n",
        "fig, ax = plt.subplots(figsize=(10, 4))\n",
        "sns.histplot(day_grouped['TransactionNo'])\n",
        "plt.title('Распределение количества чеков по дням')\n",
        "plt.xlabel('количество в день')\n",
        "plt.ylabel('количество дней')\n",
        "plt.show()"
      ],
      "metadata": {
        "colab": {
          "base_uri": "https://localhost:8080/",
          "height": 295
        },
        "id": "-29bQI12g0oJ",
        "outputId": "6faa0b36-219a-4d01-dc23-11f177e14e9f"
      },
      "execution_count": 16,
      "outputs": [
        {
          "output_type": "display_data",
          "data": {
            "text/plain": [
              "<Figure size 720x288 with 1 Axes>"
            ],
            "image/png": "[encoded data removed]"
          },
          "metadata": {
            "needs_background": "dark"
          }
        }
      ]
    },
    {
      "cell_type": "markdown",
      "source": [
        "**Только в четверти дней количество чеков менее 46, половина - в диапазоне от 46 до 68. Необычных дней когда количество чеков вдвое превышает среднее т.е. 58 всего несколько. В эти дни возможно влияние сторонних факторов на траффик посетителей**\n",
        "\n",
        "---\n",
        "\n"
      ],
      "metadata": {
        "id": "y7P_nTVMkFk9"
      }
    },
    {
      "cell_type": "markdown",
      "source": [
        "### Распределение чеков по времени суток"
      ],
      "metadata": {
        "id": "2sqpNYMyXtlD"
      }
    },
    {
      "cell_type": "code",
      "source": [
        "# Вывод долей заказов в разрезе времени суток\n",
        "sortorder = ['Morning','Afternoon']\n",
        "daypart = df.groupby('Daypart').agg({'TransactionNo':'nunique'}).reindex(sortorder).reset_index()\n",
        "daypart['Share'] = daypart['TransactionNo'] / daypart['TransactionNo'].sum()\n",
        "daypart.style.background_gradient(cmap=cm, subset=['Share']).format({'Share': \"{:.2%}\"})"
      ],
      "metadata": {
        "id": "wqfDv_2PuSCS",
        "colab": {
          "base_uri": "https://localhost:8080/",
          "height": 112
        },
        "outputId": "b04137ff-4542-4c4e-906c-718dcf3127aa"
      },
      "execution_count": 17,
      "outputs": [
        {
          "output_type": "execute_result",
          "data": {
            "text/plain": [
              "<pandas.io.formats.style.Styler at 0x7f4615697850>"
            ],
            "text/html": [
              "<style type=\"text/css\">\n",
              "#T_822d9_row0_col2 {\n",
              "  background-color: #f2f0f0;\n",
              "  color: #000000;\n",
              "}\n",
              "#T_822d9_row1_col2 {\n",
              "  background-color: #a52a2a;\n",
              "  color: #f1f1f1;\n",
              "}\n",
              "</style>\n",
              "<table id=\"T_822d9_\" class=\"dataframe\">\n",
              "  <thead>\n",
              "    <tr>\n",
              "      <th class=\"blank level0\" >&nbsp;</th>\n",
              "      <th class=\"col_heading level0 col0\" >Daypart</th>\n",
              "      <th class=\"col_heading level0 col1\" >TransactionNo</th>\n",
              "      <th class=\"col_heading level0 col2\" >Share</th>\n",
              "    </tr>\n",
              "  </thead>\n",
              "  <tbody>\n",
              "    <tr>\n",
              "      <th id=\"T_822d9_level0_row0\" class=\"row_heading level0 row0\" >0</th>\n",
              "      <td id=\"T_822d9_row0_col0\" class=\"data row0 col0\" >Morning</td>\n",
              "      <td id=\"T_822d9_row0_col1\" class=\"data row0 col1\" >4102</td>\n",
              "      <td id=\"T_822d9_row0_col2\" class=\"data row0 col2\" >44.63%</td>\n",
              "    </tr>\n",
              "    <tr>\n",
              "      <th id=\"T_822d9_level0_row1\" class=\"row_heading level0 row1\" >1</th>\n",
              "      <td id=\"T_822d9_row1_col0\" class=\"data row1 col0\" >Afternoon</td>\n",
              "      <td id=\"T_822d9_row1_col1\" class=\"data row1 col1\" >5089</td>\n",
              "      <td id=\"T_822d9_row1_col2\" class=\"data row1 col2\" >55.37%</td>\n",
              "    </tr>\n",
              "  </tbody>\n",
              "</table>\n"
            ]
          },
          "metadata": {},
          "execution_count": 17
        }
      ]
    },
    {
      "cell_type": "code",
      "source": [
        "# График распределения количества чеков по времени суток\n",
        "fig, ax = plt.subplots(figsize=(10, 4))\n",
        "sns.barplot(x='Daypart', y='TransactionNo', data=daypart,  palette='rocket')\n",
        "plt.title('Количество чеков в разрезе времени суток')\n",
        "plt.xlabel('время суток')\n",
        "plt.ylabel('количество чеков')\n",
        "plt.show()"
      ],
      "metadata": {
        "id": "AgO5U4MGX8l7",
        "colab": {
          "base_uri": "https://localhost:8080/",
          "height": 295
        },
        "outputId": "26f306d5-3a7b-4969-a757-d70a56ce3e8a"
      },
      "execution_count": 18,
      "outputs": [
        {
          "output_type": "display_data",
          "data": {
            "text/plain": [
              "<Figure size 720x288 with 1 Axes>"
            ],
            "image/png": "[encoded data removed]"
          },
          "metadata": {
            "needs_background": "dark"
          }
        }
      ]
    },
    {
      "cell_type": "markdown",
      "source": [
        "**Вывод: Большинство чеков приходятся на дневное время и утро, вечер и ночь - крайне незначительное число покупок и данные по вечеру и ночи есть не за каждый день, приоритетны для анализа соответственно периоды: утро и день**\n",
        "\n",
        "---\n",
        "\n"
      ],
      "metadata": {
        "id": "mXYCB_O2ZEux"
      }
    },
    {
      "cell_type": "markdown",
      "source": [
        "### Распределение чеков по будням и выходным"
      ],
      "metadata": {
        "id": "xf_kavbGdVVH"
      }
    },
    {
      "cell_type": "code",
      "source": [
        "# Вывод долей заказов по маркеру выходного и буднего дня\n",
        "daytype = df.groupby('DayType').agg({'TransactionNo':'nunique'}).reset_index()\n",
        "daytype['Share'] = daytype['TransactionNo'] / daytype['TransactionNo'].sum()\n",
        "daytype.style.background_gradient(cmap=cm, subset=['Share']).format({'Share': \"{:.2%}\"})"
      ],
      "metadata": {
        "id": "gcW-Jepr3YOa",
        "colab": {
          "base_uri": "https://localhost:8080/",
          "height": 112
        },
        "outputId": "cc0f0829-a947-4f1e-a34b-6d32f2060b43"
      },
      "execution_count": 19,
      "outputs": [
        {
          "output_type": "execute_result",
          "data": {
            "text/plain": [
              "<pandas.io.formats.style.Styler at 0x7f4615219e90>"
            ],
            "text/html": [
              "<style type=\"text/css\">\n",
              "#T_14a48_row0_col2 {\n",
              "  background-color: #a52a2a;\n",
              "  color: #f1f1f1;\n",
              "}\n",
              "#T_14a48_row1_col2 {\n",
              "  background-color: #f2f0f0;\n",
              "  color: #000000;\n",
              "}\n",
              "</style>\n",
              "<table id=\"T_14a48_\" class=\"dataframe\">\n",
              "  <thead>\n",
              "    <tr>\n",
              "      <th class=\"blank level0\" >&nbsp;</th>\n",
              "      <th class=\"col_heading level0 col0\" >DayType</th>\n",
              "      <th class=\"col_heading level0 col1\" >TransactionNo</th>\n",
              "      <th class=\"col_heading level0 col2\" >Share</th>\n",
              "    </tr>\n",
              "  </thead>\n",
              "  <tbody>\n",
              "    <tr>\n",
              "      <th id=\"T_14a48_level0_row0\" class=\"row_heading level0 row0\" >0</th>\n",
              "      <td id=\"T_14a48_row0_col0\" class=\"data row0 col0\" >Weekday</td>\n",
              "      <td id=\"T_14a48_row0_col1\" class=\"data row0 col1\" >5973</td>\n",
              "      <td id=\"T_14a48_row0_col2\" class=\"data row0 col2\" >64.99%</td>\n",
              "    </tr>\n",
              "    <tr>\n",
              "      <th id=\"T_14a48_level0_row1\" class=\"row_heading level0 row1\" >1</th>\n",
              "      <td id=\"T_14a48_row1_col0\" class=\"data row1 col0\" >Weekend</td>\n",
              "      <td id=\"T_14a48_row1_col1\" class=\"data row1 col1\" >3218</td>\n",
              "      <td id=\"T_14a48_row1_col2\" class=\"data row1 col2\" >35.01%</td>\n",
              "    </tr>\n",
              "  </tbody>\n",
              "</table>\n"
            ]
          },
          "metadata": {},
          "execution_count": 19
        }
      ]
    },
    {
      "cell_type": "code",
      "source": [
        "# График распределения количества чеков по времени суток\n",
        "fig, ax = plt.subplots(figsize=(10, 4))\n",
        "sns.barplot(x='DayType', y='TransactionNo', data=daytype,  palette='rocket')\n",
        "plt.title('Количество чеков в разрезе выходного и буднего дня')\n",
        "plt.ylabel('количество чеков')\n",
        "plt.show()"
      ],
      "metadata": {
        "id": "9xS_p6l2ZwYT",
        "colab": {
          "base_uri": "https://localhost:8080/",
          "height": 295
        },
        "outputId": "f922ec9a-889d-4d2d-bdfa-474a3227b5d1"
      },
      "execution_count": 20,
      "outputs": [
        {
          "output_type": "display_data",
          "data": {
            "text/plain": [
              "<Figure size 720x288 with 1 Axes>"
            ],
            "image/png": "[encoded data removed]"
          },
          "metadata": {
            "needs_background": "dark"
          }
        }
      ]
    },
    {
      "cell_type": "markdown",
      "source": [
        "**Вывод: Количество чеков в буднии немногим менее чем вдвое превышает количество чеков на выходных. Будние - главный драйвер продаж по количеству чеков**\n",
        "\n",
        "---\n",
        "\n"
      ],
      "metadata": {
        "id": "hFpKU4hydjGO"
      }
    },
    {
      "cell_type": "markdown",
      "source": [
        "### Распределение чеков по часам"
      ],
      "metadata": {
        "id": "38-5h0hGi44f"
      }
    },
    {
      "cell_type": "code",
      "source": [
        "# Вывод долей заказов в разрезе часов\n",
        "hour = df.groupby(['Hour', \"Daypart\"]).agg({'TransactionNo':'nunique'}).reset_index()\n",
        "hour['Share'] = hour['TransactionNo'] / hour['TransactionNo'].sum()\n",
        "hour.style.background_gradient(cmap=cm, subset=['Share']).format({'Share': \"{:.2%}\"})"
      ],
      "metadata": {
        "id": "HsO46p3-jwB0",
        "colab": {
          "base_uri": "https://localhost:8080/",
          "height": 363
        },
        "outputId": "8f1bc0f9-85dd-488f-f863-cf0b15f2b9da"
      },
      "execution_count": 21,
      "outputs": [
        {
          "output_type": "execute_result",
          "data": {
            "text/plain": [
              "<pandas.io.formats.style.Styler at 0x7f46151ebd50>"
            ],
            "text/html": [
              "<style type=\"text/css\">\n",
              "#T_68cd0_row0_col3 {\n",
              "  background-color: #f2f0f0;\n",
              "  color: #000000;\n",
              "}\n",
              "#T_68cd0_row1_col3 {\n",
              "  background-color: #dfbebe;\n",
              "  color: #000000;\n",
              "}\n",
              "#T_68cd0_row2_col3 {\n",
              "  background-color: #bc6666;\n",
              "  color: #f1f1f1;\n",
              "}\n",
              "#T_68cd0_row3_col3 {\n",
              "  background-color: #ae4242;\n",
              "  color: #f1f1f1;\n",
              "}\n",
              "#T_68cd0_row4_col3 {\n",
              "  background-color: #a52a2a;\n",
              "  color: #f1f1f1;\n",
              "}\n",
              "#T_68cd0_row5_col3 {\n",
              "  background-color: #ab3a3a;\n",
              "  color: #f1f1f1;\n",
              "}\n",
              "#T_68cd0_row6_col3 {\n",
              "  background-color: #b55353;\n",
              "  color: #f1f1f1;\n",
              "}\n",
              "#T_68cd0_row7_col3 {\n",
              "  background-color: #b65656;\n",
              "  color: #f1f1f1;\n",
              "}\n",
              "#T_68cd0_row8_col3 {\n",
              "  background-color: #c17272;\n",
              "  color: #f1f1f1;\n",
              "}\n",
              "#T_68cd0_row9_col3 {\n",
              "  background-color: #d4a2a2;\n",
              "  color: #000000;\n",
              "}\n",
              "</style>\n",
              "<table id=\"T_68cd0_\" class=\"dataframe\">\n",
              "  <thead>\n",
              "    <tr>\n",
              "      <th class=\"blank level0\" >&nbsp;</th>\n",
              "      <th class=\"col_heading level0 col0\" >Hour</th>\n",
              "      <th class=\"col_heading level0 col1\" >Daypart</th>\n",
              "      <th class=\"col_heading level0 col2\" >TransactionNo</th>\n",
              "      <th class=\"col_heading level0 col3\" >Share</th>\n",
              "    </tr>\n",
              "  </thead>\n",
              "  <tbody>\n",
              "    <tr>\n",
              "      <th id=\"T_68cd0_level0_row0\" class=\"row_heading level0 row0\" >0</th>\n",
              "      <td id=\"T_68cd0_row0_col0\" class=\"data row0 col0\" >7</td>\n",
              "      <td id=\"T_68cd0_row0_col1\" class=\"data row0 col1\" >Morning</td>\n",
              "      <td id=\"T_68cd0_row0_col2\" class=\"data row0 col2\" >16</td>\n",
              "      <td id=\"T_68cd0_row0_col3\" class=\"data row0 col3\" >0.17%</td>\n",
              "    </tr>\n",
              "    <tr>\n",
              "      <th id=\"T_68cd0_level0_row1\" class=\"row_heading level0 row1\" >1</th>\n",
              "      <td id=\"T_68cd0_row1_col0\" class=\"data row1 col0\" >8</td>\n",
              "      <td id=\"T_68cd0_row1_col1\" class=\"data row1 col1\" >Morning</td>\n",
              "      <td id=\"T_68cd0_row1_col2\" class=\"data row1 col2\" >375</td>\n",
              "      <td id=\"T_68cd0_row1_col3\" class=\"data row1 col3\" >4.08%</td>\n",
              "    </tr>\n",
              "    <tr>\n",
              "      <th id=\"T_68cd0_level0_row2\" class=\"row_heading level0 row2\" >2</th>\n",
              "      <td id=\"T_68cd0_row2_col0\" class=\"data row2 col0\" >9</td>\n",
              "      <td id=\"T_68cd0_row2_col1\" class=\"data row2 col1\" >Morning</td>\n",
              "      <td id=\"T_68cd0_row2_col2\" class=\"data row2 col2\" >1006</td>\n",
              "      <td id=\"T_68cd0_row2_col3\" class=\"data row2 col3\" >10.95%</td>\n",
              "    </tr>\n",
              "    <tr>\n",
              "      <th id=\"T_68cd0_level0_row3\" class=\"row_heading level0 row3\" >3</th>\n",
              "      <td id=\"T_68cd0_row3_col0\" class=\"data row3 col0\" >10</td>\n",
              "      <td id=\"T_68cd0_row3_col1\" class=\"data row3 col1\" >Morning</td>\n",
              "      <td id=\"T_68cd0_row3_col2\" class=\"data row3 col2\" >1266</td>\n",
              "      <td id=\"T_68cd0_row3_col3\" class=\"data row3 col3\" >13.77%</td>\n",
              "    </tr>\n",
              "    <tr>\n",
              "      <th id=\"T_68cd0_level0_row4\" class=\"row_heading level0 row4\" >4</th>\n",
              "      <td id=\"T_68cd0_row4_col0\" class=\"data row4 col0\" >11</td>\n",
              "      <td id=\"T_68cd0_row4_col1\" class=\"data row4 col1\" >Morning</td>\n",
              "      <td id=\"T_68cd0_row4_col2\" class=\"data row4 col2\" >1439</td>\n",
              "      <td id=\"T_68cd0_row4_col3\" class=\"data row4 col3\" >15.66%</td>\n",
              "    </tr>\n",
              "    <tr>\n",
              "      <th id=\"T_68cd0_level0_row5\" class=\"row_heading level0 row5\" >5</th>\n",
              "      <td id=\"T_68cd0_row5_col0\" class=\"data row5 col0\" >12</td>\n",
              "      <td id=\"T_68cd0_row5_col1\" class=\"data row5 col1\" >Afternoon</td>\n",
              "      <td id=\"T_68cd0_row5_col2\" class=\"data row5 col2\" >1325</td>\n",
              "      <td id=\"T_68cd0_row5_col3\" class=\"data row5 col3\" >14.42%</td>\n",
              "    </tr>\n",
              "    <tr>\n",
              "      <th id=\"T_68cd0_level0_row6\" class=\"row_heading level0 row6\" >6</th>\n",
              "      <td id=\"T_68cd0_row6_col0\" class=\"data row6 col0\" >13</td>\n",
              "      <td id=\"T_68cd0_row6_col1\" class=\"data row6 col1\" >Afternoon</td>\n",
              "      <td id=\"T_68cd0_row6_col2\" class=\"data row6 col2\" >1143</td>\n",
              "      <td id=\"T_68cd0_row6_col3\" class=\"data row6 col3\" >12.44%</td>\n",
              "    </tr>\n",
              "    <tr>\n",
              "      <th id=\"T_68cd0_level0_row7\" class=\"row_heading level0 row7\" >7</th>\n",
              "      <td id=\"T_68cd0_row7_col0\" class=\"data row7 col0\" >14</td>\n",
              "      <td id=\"T_68cd0_row7_col1\" class=\"data row7 col1\" >Afternoon</td>\n",
              "      <td id=\"T_68cd0_row7_col2\" class=\"data row7 col2\" >1120</td>\n",
              "      <td id=\"T_68cd0_row7_col3\" class=\"data row7 col3\" >12.19%</td>\n",
              "    </tr>\n",
              "    <tr>\n",
              "      <th id=\"T_68cd0_level0_row8\" class=\"row_heading level0 row8\" >8</th>\n",
              "      <td id=\"T_68cd0_row8_col0\" class=\"data row8 col0\" >15</td>\n",
              "      <td id=\"T_68cd0_row8_col1\" class=\"data row8 col1\" >Afternoon</td>\n",
              "      <td id=\"T_68cd0_row8_col2\" class=\"data row8 col2\" >920</td>\n",
              "      <td id=\"T_68cd0_row8_col3\" class=\"data row8 col3\" >10.01%</td>\n",
              "    </tr>\n",
              "    <tr>\n",
              "      <th id=\"T_68cd0_level0_row9\" class=\"row_heading level0 row9\" >9</th>\n",
              "      <td id=\"T_68cd0_row9_col0\" class=\"data row9 col0\" >16</td>\n",
              "      <td id=\"T_68cd0_row9_col1\" class=\"data row9 col1\" >Afternoon</td>\n",
              "      <td id=\"T_68cd0_row9_col2\" class=\"data row9 col2\" >581</td>\n",
              "      <td id=\"T_68cd0_row9_col3\" class=\"data row9 col3\" >6.32%</td>\n",
              "    </tr>\n",
              "  </tbody>\n",
              "</table>\n"
            ]
          },
          "metadata": {},
          "execution_count": 21
        }
      ]
    },
    {
      "cell_type": "code",
      "source": [
        "# График распределения количества чеков по часам\n",
        "fig, ax = plt.subplots(figsize=(10, 4))\n",
        "sns.barplot(x='Hour', y='TransactionNo', data=hour,  palette='rocket')\n",
        "plt.title('Количество чеков в разрезе часов')\n",
        "plt.xlabel('часы')\n",
        "plt.ylabel('количество чеков')\n",
        "plt.show()"
      ],
      "metadata": {
        "id": "2e08NY9OmCqy",
        "colab": {
          "base_uri": "https://localhost:8080/",
          "height": 295
        },
        "outputId": "f2bd9b44-d9cf-434e-f90c-2aa57d76ec71"
      },
      "execution_count": 22,
      "outputs": [
        {
          "output_type": "display_data",
          "data": {
            "text/plain": [
              "<Figure size 720x288 with 1 Axes>"
            ],
            "image/png": "[encoded data removed]"
          },
          "metadata": {
            "needs_background": "dark"
          }
        }
      ]
    },
    {
      "cell_type": "markdown",
      "source": [
        "**Вывод: Самый пиковый час с 11 до 12 утра, в целом большинство чеков с 9 до 16 часов, после 16 количество чеков падает сразу на треть**\n",
        "\n",
        "---\n",
        "\n"
      ],
      "metadata": {
        "id": "LatP4y8WVOaG"
      }
    },
    {
      "cell_type": "markdown",
      "source": [
        "### Количество чеков в разрезе продуктов"
      ],
      "metadata": {
        "id": "N2N8GPr3WXdW"
      }
    },
    {
      "cell_type": "code",
      "source": [
        "# Вывод количества заказов в разрезе продуктов, ТОП-10\n",
        "item = df.groupby('Items').agg({'TransactionNo':'nunique'}).sort_values('TransactionNo', ascending=False).reset_index()\n",
        "item['Share'] = item['TransactionNo'] / item['TransactionNo'].sum()\n",
        "item.head(10).style.format({'Share': \"{:.2%}\"}).background_gradient(cmap=cm, subset=['Share']).format({'Share': \"{:.2%}\"})"
      ],
      "metadata": {
        "id": "79NIfj5X9Qhu",
        "colab": {
          "base_uri": "https://localhost:8080/",
          "height": 363
        },
        "outputId": "65211ca9-acfe-4bd0-bfc9-c45d2ddc5217"
      },
      "execution_count": 23,
      "outputs": [
        {
          "output_type": "execute_result",
          "data": {
            "text/plain": [
              "<pandas.io.formats.style.Styler at 0x7f46151a3e90>"
            ],
            "text/html": [
              "<style type=\"text/css\">\n",
              "#T_516ed_row0_col2 {\n",
              "  background-color: #a52a2a;\n",
              "  color: #f1f1f1;\n",
              "}\n",
              "#T_516ed_row1_col2 {\n",
              "  background-color: #c06e6e;\n",
              "  color: #f1f1f1;\n",
              "}\n",
              "#T_516ed_row2_col2 {\n",
              "  background-color: #e1c3c3;\n",
              "  color: #000000;\n",
              "}\n",
              "#T_516ed_row3_col2 {\n",
              "  background-color: #e7d4d4;\n",
              "  color: #000000;\n",
              "}\n",
              "#T_516ed_row4_col2 {\n",
              "  background-color: #eadbdb;\n",
              "  color: #000000;\n",
              "}\n",
              "#T_516ed_row5_col2 {\n",
              "  background-color: #ece1e1;\n",
              "  color: #000000;\n",
              "}\n",
              "#T_516ed_row6_col2 {\n",
              "  background-color: #efe7e7;\n",
              "  color: #000000;\n",
              "}\n",
              "#T_516ed_row7_col2 {\n",
              "  background-color: #f0e9e9;\n",
              "  color: #000000;\n",
              "}\n",
              "#T_516ed_row8_col2 {\n",
              "  background-color: #f0ebeb;\n",
              "  color: #000000;\n",
              "}\n",
              "#T_516ed_row9_col2 {\n",
              "  background-color: #f2f0f0;\n",
              "  color: #000000;\n",
              "}\n",
              "</style>\n",
              "<table id=\"T_516ed_\" class=\"dataframe\">\n",
              "  <thead>\n",
              "    <tr>\n",
              "      <th class=\"blank level0\" >&nbsp;</th>\n",
              "      <th class=\"col_heading level0 col0\" >Items</th>\n",
              "      <th class=\"col_heading level0 col1\" >TransactionNo</th>\n",
              "      <th class=\"col_heading level0 col2\" >Share</th>\n",
              "    </tr>\n",
              "  </thead>\n",
              "  <tbody>\n",
              "    <tr>\n",
              "      <th id=\"T_516ed_level0_row0\" class=\"row_heading level0 row0\" >0</th>\n",
              "      <td id=\"T_516ed_row0_col0\" class=\"data row0 col0\" >Coffee</td>\n",
              "      <td id=\"T_516ed_row0_col1\" class=\"data row0 col1\" >4453</td>\n",
              "      <td id=\"T_516ed_row0_col2\" class=\"data row0 col2\" >24.22%</td>\n",
              "    </tr>\n",
              "    <tr>\n",
              "      <th id=\"T_516ed_level0_row1\" class=\"row_heading level0 row1\" >1</th>\n",
              "      <td id=\"T_516ed_row1_col0\" class=\"data row1 col0\" >Bread</td>\n",
              "      <td id=\"T_516ed_row1_col1\" class=\"data row1 col1\" >3045</td>\n",
              "      <td id=\"T_516ed_row1_col2\" class=\"data row1 col2\" >16.56%</td>\n",
              "    </tr>\n",
              "    <tr>\n",
              "      <th id=\"T_516ed_level0_row2\" class=\"row_heading level0 row2\" >2</th>\n",
              "      <td id=\"T_516ed_row2_col0\" class=\"data row2 col0\" >Tea</td>\n",
              "      <td id=\"T_516ed_row2_col1\" class=\"data row2 col1\" >1305</td>\n",
              "      <td id=\"T_516ed_row2_col2\" class=\"data row2 col2\" >7.10%</td>\n",
              "    </tr>\n",
              "    <tr>\n",
              "      <th id=\"T_516ed_level0_row3\" class=\"row_heading level0 row3\" >3</th>\n",
              "      <td id=\"T_516ed_row3_col0\" class=\"data row3 col0\" >Cake</td>\n",
              "      <td id=\"T_516ed_row3_col1\" class=\"data row3 col1\" >955</td>\n",
              "      <td id=\"T_516ed_row3_col2\" class=\"data row3 col2\" >5.20%</td>\n",
              "    </tr>\n",
              "    <tr>\n",
              "      <th id=\"T_516ed_level0_row4\" class=\"row_heading level0 row4\" >4</th>\n",
              "      <td id=\"T_516ed_row4_col0\" class=\"data row4 col0\" >Pastry</td>\n",
              "      <td id=\"T_516ed_row4_col1\" class=\"data row4 col1\" >805</td>\n",
              "      <td id=\"T_516ed_row4_col2\" class=\"data row4 col2\" >4.38%</td>\n",
              "    </tr>\n",
              "    <tr>\n",
              "      <th id=\"T_516ed_level0_row5\" class=\"row_heading level0 row5\" >5</th>\n",
              "      <td id=\"T_516ed_row5_col0\" class=\"data row5 col0\" >Sandwich</td>\n",
              "      <td id=\"T_516ed_row5_col1\" class=\"data row5 col1\" >676</td>\n",
              "      <td id=\"T_516ed_row5_col2\" class=\"data row5 col2\" >3.68%</td>\n",
              "    </tr>\n",
              "    <tr>\n",
              "      <th id=\"T_516ed_level0_row6\" class=\"row_heading level0 row6\" >6</th>\n",
              "      <td id=\"T_516ed_row6_col0\" class=\"data row6 col0\" >Medialuna</td>\n",
              "      <td id=\"T_516ed_row6_col1\" class=\"data row6 col1\" >570</td>\n",
              "      <td id=\"T_516ed_row6_col2\" class=\"data row6 col2\" >3.10%</td>\n",
              "    </tr>\n",
              "    <tr>\n",
              "      <th id=\"T_516ed_level0_row7\" class=\"row_heading level0 row7\" >7</th>\n",
              "      <td id=\"T_516ed_row7_col0\" class=\"data row7 col0\" >Hot chocolate</td>\n",
              "      <td id=\"T_516ed_row7_col1\" class=\"data row7 col1\" >530</td>\n",
              "      <td id=\"T_516ed_row7_col2\" class=\"data row7 col2\" >2.88%</td>\n",
              "    </tr>\n",
              "    <tr>\n",
              "      <th id=\"T_516ed_level0_row8\" class=\"row_heading level0 row8\" >8</th>\n",
              "      <td id=\"T_516ed_row8_col0\" class=\"data row8 col0\" >Cookies</td>\n",
              "      <td id=\"T_516ed_row8_col1\" class=\"data row8 col1\" >495</td>\n",
              "      <td id=\"T_516ed_row8_col2\" class=\"data row8 col2\" >2.69%</td>\n",
              "    </tr>\n",
              "    <tr>\n",
              "      <th id=\"T_516ed_level0_row9\" class=\"row_heading level0 row9\" >9</th>\n",
              "      <td id=\"T_516ed_row9_col0\" class=\"data row9 col0\" >Brownie</td>\n",
              "      <td id=\"T_516ed_row9_col1\" class=\"data row9 col1\" >372</td>\n",
              "      <td id=\"T_516ed_row9_col2\" class=\"data row9 col2\" >2.02%</td>\n",
              "    </tr>\n",
              "  </tbody>\n",
              "</table>\n"
            ]
          },
          "metadata": {},
          "execution_count": 23
        }
      ]
    },
    {
      "cell_type": "code",
      "source": [
        "# График количества чеков в разрезе товаров\n",
        "fig, ax = plt.subplots(figsize=(10, 4))\n",
        "sns.barplot(x='Items', y='TransactionNo', data=item.head(10),  palette='rocket')\n",
        "plt.title('Количество чеков в разрезе ТОП-10 товаров')\n",
        "plt.xlabel('товары')\n",
        "plt.ylabel('количество чеков')\n",
        "plt.xticks(rotation=45)\n",
        "plt.show()"
      ],
      "metadata": {
        "id": "V2LzqrN8bMRX",
        "colab": {
          "base_uri": "https://localhost:8080/",
          "height": 341
        },
        "outputId": "a6a4e6ce-f02a-40ef-958d-1e193b4a086e"
      },
      "execution_count": 24,
      "outputs": [
        {
          "output_type": "display_data",
          "data": {
            "text/plain": [
              "<Figure size 720x288 with 1 Axes>"
            ],
            "image/png": "[encoded data removed]"
          },
          "metadata": {
            "needs_background": "dark"
          }
        }
      ]
    },
    {
      "cell_type": "markdown",
      "source": [
        "**Вывод: Кофе и хлеб чаще всего встречаются в чеках, остальные товары заметно менее популярны, формат заведения скорее всего - булочная или мини-пекарня, где хлеб - основной товар**\n",
        "\n",
        "---\n",
        "\n"
      ],
      "metadata": {
        "id": "9BCB4Srf0h5J"
      }
    },
    {
      "cell_type": "markdown",
      "source": [
        "### Распределение чеков по количеству строк"
      ],
      "metadata": {
        "id": "LEkgYHFb1gN0"
      }
    },
    {
      "cell_type": "code",
      "source": [
        "# Группировка по количеству строк в чеке\n",
        "items_per_transaction = df.groupby('TransactionNo').agg({'Items':'count'}).reset_index()\n",
        "items_per_transaction.columns = ['TransactionNo', 'ItemsNo']"
      ],
      "metadata": {
        "id": "uOckSmre-_wI"
      },
      "execution_count": 25,
      "outputs": []
    },
    {
      "cell_type": "code",
      "source": [
        "# Добавление столбца с количество строк в чеке в датасет\n",
        "df = pd.merge(df, items_per_transaction, on='TransactionNo')"
      ],
      "metadata": {
        "id": "yR1mrRb1BqQ8"
      },
      "execution_count": 26,
      "outputs": []
    },
    {
      "cell_type": "code",
      "source": [
        "# Распределение долей по количеству строк в чеке\n",
        "line_num = pd.DataFrame(df['ItemsNo'].value_counts(normalize=True))\n",
        "line_num.rename(columns={'ItemsNo':'line_share'}, inplace=True)\n",
        "line_num.style.format({'line_share':\"{:.2%}\"}).background_gradient(\n",
        "            cmap=cm)"
      ],
      "metadata": {
        "id": "EurMdMOBDFww",
        "colab": {
          "base_uri": "https://localhost:8080/",
          "height": 394
        },
        "outputId": "e47cc8b0-7f8a-4c84-d647-96b7fabab2d3"
      },
      "execution_count": 27,
      "outputs": [
        {
          "output_type": "execute_result",
          "data": {
            "text/plain": [
              "<pandas.io.formats.style.Styler at 0x7f461505d0d0>"
            ],
            "text/html": [
              "<style type=\"text/css\">\n",
              "#T_4ccec_row0_col0 {\n",
              "  background-color: #a52a2a;\n",
              "  color: #f1f1f1;\n",
              "}\n",
              "#T_4ccec_row1_col0 {\n",
              "  background-color: #b55252;\n",
              "  color: #f1f1f1;\n",
              "}\n",
              "#T_4ccec_row2_col0 {\n",
              "  background-color: #c37676;\n",
              "  color: #f1f1f1;\n",
              "}\n",
              "#T_4ccec_row3_col0 {\n",
              "  background-color: #c57c7c;\n",
              "  color: #f1f1f1;\n",
              "}\n",
              "#T_4ccec_row4_col0 {\n",
              "  background-color: #dcb7b7;\n",
              "  color: #000000;\n",
              "}\n",
              "#T_4ccec_row5_col0 {\n",
              "  background-color: #e8d6d6;\n",
              "  color: #000000;\n",
              "}\n",
              "#T_4ccec_row6_col0 {\n",
              "  background-color: #efe8e8;\n",
              "  color: #000000;\n",
              "}\n",
              "#T_4ccec_row7_col0 {\n",
              "  background-color: #f0ebeb;\n",
              "  color: #000000;\n",
              "}\n",
              "#T_4ccec_row8_col0, #T_4ccec_row9_col0 {\n",
              "  background-color: #f2efef;\n",
              "  color: #000000;\n",
              "}\n",
              "#T_4ccec_row10_col0 {\n",
              "  background-color: #f2f0f0;\n",
              "  color: #000000;\n",
              "}\n",
              "</style>\n",
              "<table id=\"T_4ccec_\" class=\"dataframe\">\n",
              "  <thead>\n",
              "    <tr>\n",
              "      <th class=\"blank level0\" >&nbsp;</th>\n",
              "      <th class=\"col_heading level0 col0\" >line_share</th>\n",
              "    </tr>\n",
              "  </thead>\n",
              "  <tbody>\n",
              "    <tr>\n",
              "      <th id=\"T_4ccec_level0_row0\" class=\"row_heading level0 row0\" >2</th>\n",
              "      <td id=\"T_4ccec_row0_col0\" class=\"data row0 col0\" >28.41%</td>\n",
              "    </tr>\n",
              "    <tr>\n",
              "      <th id=\"T_4ccec_level0_row1\" class=\"row_heading level0 row1\" >3</th>\n",
              "      <td id=\"T_4ccec_row1_col0\" class=\"data row1 col0\" >22.56%</td>\n",
              "    </tr>\n",
              "    <tr>\n",
              "      <th id=\"T_4ccec_level0_row2\" class=\"row_heading level0 row2\" >1</th>\n",
              "      <td id=\"T_4ccec_row2_col0\" class=\"data row2 col0\" >17.47%</td>\n",
              "    </tr>\n",
              "    <tr>\n",
              "      <th id=\"T_4ccec_level0_row3\" class=\"row_heading level0 row3\" >4</th>\n",
              "      <td id=\"T_4ccec_row3_col0\" class=\"data row3 col0\" >16.68%</td>\n",
              "    </tr>\n",
              "    <tr>\n",
              "      <th id=\"T_4ccec_level0_row4\" class=\"row_heading level0 row4\" >5</th>\n",
              "      <td id=\"T_4ccec_row4_col0\" class=\"data row4 col0\" >8.31%</td>\n",
              "    </tr>\n",
              "    <tr>\n",
              "      <th id=\"T_4ccec_level0_row5\" class=\"row_heading level0 row5\" >6</th>\n",
              "      <td id=\"T_4ccec_row5_col0\" class=\"data row5 col0\" >3.88%</td>\n",
              "    </tr>\n",
              "    <tr>\n",
              "      <th id=\"T_4ccec_level0_row6\" class=\"row_heading level0 row6\" >7</th>\n",
              "      <td id=\"T_4ccec_row6_col0\" class=\"data row6 col0\" >1.26%</td>\n",
              "    </tr>\n",
              "    <tr>\n",
              "      <th id=\"T_4ccec_level0_row7\" class=\"row_heading level0 row7\" >8</th>\n",
              "      <td id=\"T_4ccec_row7_col0\" class=\"data row7 col0\" >0.84%</td>\n",
              "    </tr>\n",
              "    <tr>\n",
              "      <th id=\"T_4ccec_level0_row8\" class=\"row_heading level0 row8\" >9</th>\n",
              "      <td id=\"T_4ccec_row8_col0\" class=\"data row8 col0\" >0.32%</td>\n",
              "    </tr>\n",
              "    <tr>\n",
              "      <th id=\"T_4ccec_level0_row9\" class=\"row_heading level0 row9\" >11</th>\n",
              "      <td id=\"T_4ccec_row9_col0\" class=\"data row9 col0\" >0.22%</td>\n",
              "    </tr>\n",
              "    <tr>\n",
              "      <th id=\"T_4ccec_level0_row10\" class=\"row_heading level0 row10\" >10</th>\n",
              "      <td id=\"T_4ccec_row10_col0\" class=\"data row10 col0\" >0.05%</td>\n",
              "    </tr>\n",
              "  </tbody>\n",
              "</table>\n"
            ]
          },
          "metadata": {},
          "execution_count": 27
        }
      ]
    },
    {
      "cell_type": "code",
      "source": [
        "# Вывод долей заказов в разрезе времени суток в % \n",
        "daypart_items_qty = df.groupby(['Daypart', 'ItemsNo']).agg({'TransactionNo':'nunique'})\n",
        "daypart_items_qty['Share'] = daypart_items_qty['TransactionNo'] / daypart_items_qty.groupby('Daypart')['TransactionNo'].sum()\n",
        "daypart_items_qty.sort_values(['Daypart','TransactionNo'], ascending=False).reset_index().style.format({'Share': \"{:.2%}\"}).background_gradient(\n",
        "            cmap=cm, subset=['Share']).background_gradient(cmap=cm, subset=['ItemsNo'])"
      ],
      "metadata": {
        "id": "7ZJokMNaDtbx",
        "colab": {
          "base_uri": "https://localhost:8080/",
          "height": 676
        },
        "outputId": "36ac8c9a-7788-4909-a72f-f9a089b1b195"
      },
      "execution_count": 28,
      "outputs": [
        {
          "output_type": "execute_result",
          "data": {
            "text/plain": [
              "<pandas.io.formats.style.Styler at 0x7f46150c6350>"
            ],
            "text/html": [
              "<style type=\"text/css\">\n",
              "#T_82df6_row0_col1, #T_82df6_row6_col3, #T_82df6_row7_col3, #T_82df6_row8_col3, #T_82df6_row9_col3, #T_82df6_row10_col1, #T_82df6_row18_col3, #T_82df6_row19_col3 {\n",
              "  background-color: #f2f0f0;\n",
              "  color: #000000;\n",
              "}\n",
              "#T_82df6_row0_col3, #T_82df6_row19_col1 {\n",
              "  background-color: #a52a2a;\n",
              "  color: #f1f1f1;\n",
              "}\n",
              "#T_82df6_row1_col1, #T_82df6_row11_col1 {\n",
              "  background-color: #ebdddd;\n",
              "  color: #000000;\n",
              "}\n",
              "#T_82df6_row1_col3 {\n",
              "  background-color: #b65555;\n",
              "  color: #f1f1f1;\n",
              "}\n",
              "#T_82df6_row2_col1, #T_82df6_row12_col1 {\n",
              "  background-color: #e3c9c8;\n",
              "  color: #000000;\n",
              "}\n",
              "#T_82df6_row2_col3 {\n",
              "  background-color: #d4a2a2;\n",
              "  color: #000000;\n",
              "}\n",
              "#T_82df6_row3_col1, #T_82df6_row13_col1 {\n",
              "  background-color: #dbb5b5;\n",
              "  color: #000000;\n",
              "}\n",
              "#T_82df6_row3_col3 {\n",
              "  background-color: #e3caca;\n",
              "  color: #000000;\n",
              "}\n",
              "#T_82df6_row4_col1, #T_82df6_row14_col1 {\n",
              "  background-color: #d3a1a1;\n",
              "  color: #000000;\n",
              "}\n",
              "#T_82df6_row4_col3 {\n",
              "  background-color: #ede4e4;\n",
              "  color: #000000;\n",
              "}\n",
              "#T_82df6_row5_col1, #T_82df6_row15_col1 {\n",
              "  background-color: #cb8d8d;\n",
              "  color: #f1f1f1;\n",
              "}\n",
              "#T_82df6_row5_col3 {\n",
              "  background-color: #f1ecec;\n",
              "  color: #000000;\n",
              "}\n",
              "#T_82df6_row6_col1, #T_82df6_row16_col1 {\n",
              "  background-color: #c47979;\n",
              "  color: #f1f1f1;\n",
              "}\n",
              "#T_82df6_row7_col1, #T_82df6_row17_col1 {\n",
              "  background-color: #bc6565;\n",
              "  color: #f1f1f1;\n",
              "}\n",
              "#T_82df6_row8_col1, #T_82df6_row18_col1 {\n",
              "  background-color: #b45252;\n",
              "  color: #f1f1f1;\n",
              "}\n",
              "#T_82df6_row9_col1 {\n",
              "  background-color: #ad3d3d;\n",
              "  color: #f1f1f1;\n",
              "}\n",
              "#T_82df6_row10_col3 {\n",
              "  background-color: #ad4040;\n",
              "  color: #f1f1f1;\n",
              "}\n",
              "#T_82df6_row11_col3 {\n",
              "  background-color: #b85c5c;\n",
              "  color: #f1f1f1;\n",
              "}\n",
              "#T_82df6_row12_col3 {\n",
              "  background-color: #d39f9f;\n",
              "  color: #000000;\n",
              "}\n",
              "#T_82df6_row13_col3 {\n",
              "  background-color: #dfbfbf;\n",
              "  color: #000000;\n",
              "}\n",
              "#T_82df6_row14_col3 {\n",
              "  background-color: #eadbdb;\n",
              "  color: #000000;\n",
              "}\n",
              "#T_82df6_row15_col3 {\n",
              "  background-color: #efe8e8;\n",
              "  color: #000000;\n",
              "}\n",
              "#T_82df6_row16_col3 {\n",
              "  background-color: #f1eeee;\n",
              "  color: #000000;\n",
              "}\n",
              "#T_82df6_row17_col3 {\n",
              "  background-color: #f2efef;\n",
              "  color: #000000;\n",
              "}\n",
              "</style>\n",
              "<table id=\"T_82df6_\" class=\"dataframe\">\n",
              "  <thead>\n",
              "    <tr>\n",
              "      <th class=\"blank level0\" >&nbsp;</th>\n",
              "      <th class=\"col_heading level0 col0\" >Daypart</th>\n",
              "      <th class=\"col_heading level0 col1\" >ItemsNo</th>\n",
              "      <th class=\"col_heading level0 col2\" >TransactionNo</th>\n",
              "      <th class=\"col_heading level0 col3\" >Share</th>\n",
              "    </tr>\n",
              "  </thead>\n",
              "  <tbody>\n",
              "    <tr>\n",
              "      <th id=\"T_82df6_level0_row0\" class=\"row_heading level0 row0\" >0</th>\n",
              "      <td id=\"T_82df6_row0_col0\" class=\"data row0 col0\" >Morning</td>\n",
              "      <td id=\"T_82df6_row0_col1\" class=\"data row0 col1\" >1</td>\n",
              "      <td id=\"T_82df6_row0_col2\" class=\"data row0 col2\" >1660</td>\n",
              "      <td id=\"T_82df6_row0_col3\" class=\"data row0 col3\" >40.47%</td>\n",
              "    </tr>\n",
              "    <tr>\n",
              "      <th id=\"T_82df6_level0_row1\" class=\"row_heading level0 row1\" >1</th>\n",
              "      <td id=\"T_82df6_row1_col0\" class=\"data row1 col0\" >Morning</td>\n",
              "      <td id=\"T_82df6_row1_col1\" class=\"data row1 col1\" >2</td>\n",
              "      <td id=\"T_82df6_row1_col2\" class=\"data row1 col2\" >1299</td>\n",
              "      <td id=\"T_82df6_row1_col3\" class=\"data row1 col3\" >31.67%</td>\n",
              "    </tr>\n",
              "    <tr>\n",
              "      <th id=\"T_82df6_level0_row2\" class=\"row_heading level0 row2\" >2</th>\n",
              "      <td id=\"T_82df6_row2_col0\" class=\"data row2 col0\" >Morning</td>\n",
              "      <td id=\"T_82df6_row2_col1\" class=\"data row2 col1\" >3</td>\n",
              "      <td id=\"T_82df6_row2_col2\" class=\"data row2 col2\" >662</td>\n",
              "      <td id=\"T_82df6_row2_col3\" class=\"data row2 col3\" >16.14%</td>\n",
              "    </tr>\n",
              "    <tr>\n",
              "      <th id=\"T_82df6_level0_row3\" class=\"row_heading level0 row3\" >3</th>\n",
              "      <td id=\"T_82df6_row3_col0\" class=\"data row3 col0\" >Morning</td>\n",
              "      <td id=\"T_82df6_row3_col1\" class=\"data row3 col1\" >4</td>\n",
              "      <td id=\"T_82df6_row3_col2\" class=\"data row3 col2\" >320</td>\n",
              "      <td id=\"T_82df6_row3_col3\" class=\"data row3 col3\" >7.80%</td>\n",
              "    </tr>\n",
              "    <tr>\n",
              "      <th id=\"T_82df6_level0_row4\" class=\"row_heading level0 row4\" >4</th>\n",
              "      <td id=\"T_82df6_row4_col0\" class=\"data row4 col0\" >Morning</td>\n",
              "      <td id=\"T_82df6_row4_col1\" class=\"data row4 col1\" >5</td>\n",
              "      <td id=\"T_82df6_row4_col2\" class=\"data row4 col2\" >111</td>\n",
              "      <td id=\"T_82df6_row4_col3\" class=\"data row4 col3\" >2.71%</td>\n",
              "    </tr>\n",
              "    <tr>\n",
              "      <th id=\"T_82df6_level0_row5\" class=\"row_heading level0 row5\" >5</th>\n",
              "      <td id=\"T_82df6_row5_col0\" class=\"data row5 col0\" >Morning</td>\n",
              "      <td id=\"T_82df6_row5_col1\" class=\"data row5 col1\" >6</td>\n",
              "      <td id=\"T_82df6_row5_col2\" class=\"data row5 col2\" >37</td>\n",
              "      <td id=\"T_82df6_row5_col3\" class=\"data row5 col3\" >0.90%</td>\n",
              "    </tr>\n",
              "    <tr>\n",
              "      <th id=\"T_82df6_level0_row6\" class=\"row_heading level0 row6\" >6</th>\n",
              "      <td id=\"T_82df6_row6_col0\" class=\"data row6 col0\" >Morning</td>\n",
              "      <td id=\"T_82df6_row6_col1\" class=\"data row6 col1\" >7</td>\n",
              "      <td id=\"T_82df6_row6_col2\" class=\"data row6 col2\" >6</td>\n",
              "      <td id=\"T_82df6_row6_col3\" class=\"data row6 col3\" >0.15%</td>\n",
              "    </tr>\n",
              "    <tr>\n",
              "      <th id=\"T_82df6_level0_row7\" class=\"row_heading level0 row7\" >7</th>\n",
              "      <td id=\"T_82df6_row7_col0\" class=\"data row7 col0\" >Morning</td>\n",
              "      <td id=\"T_82df6_row7_col1\" class=\"data row7 col1\" >8</td>\n",
              "      <td id=\"T_82df6_row7_col2\" class=\"data row7 col2\" >4</td>\n",
              "      <td id=\"T_82df6_row7_col3\" class=\"data row7 col3\" >0.10%</td>\n",
              "    </tr>\n",
              "    <tr>\n",
              "      <th id=\"T_82df6_level0_row8\" class=\"row_heading level0 row8\" >8</th>\n",
              "      <td id=\"T_82df6_row8_col0\" class=\"data row8 col0\" >Morning</td>\n",
              "      <td id=\"T_82df6_row8_col1\" class=\"data row8 col1\" >9</td>\n",
              "      <td id=\"T_82df6_row8_col2\" class=\"data row8 col2\" >2</td>\n",
              "      <td id=\"T_82df6_row8_col3\" class=\"data row8 col3\" >0.05%</td>\n",
              "    </tr>\n",
              "    <tr>\n",
              "      <th id=\"T_82df6_level0_row9\" class=\"row_heading level0 row9\" >9</th>\n",
              "      <td id=\"T_82df6_row9_col0\" class=\"data row9 col0\" >Morning</td>\n",
              "      <td id=\"T_82df6_row9_col1\" class=\"data row9 col1\" >10</td>\n",
              "      <td id=\"T_82df6_row9_col2\" class=\"data row9 col2\" >1</td>\n",
              "      <td id=\"T_82df6_row9_col3\" class=\"data row9 col3\" >0.02%</td>\n",
              "    </tr>\n",
              "    <tr>\n",
              "      <th id=\"T_82df6_level0_row10\" class=\"row_heading level0 row10\" >10</th>\n",
              "      <td id=\"T_82df6_row10_col0\" class=\"data row10 col0\" >Afternoon</td>\n",
              "      <td id=\"T_82df6_row10_col1\" class=\"data row10 col1\" >1</td>\n",
              "      <td id=\"T_82df6_row10_col2\" class=\"data row10 col2\" >1829</td>\n",
              "      <td id=\"T_82df6_row10_col3\" class=\"data row10 col3\" >35.94%</td>\n",
              "    </tr>\n",
              "    <tr>\n",
              "      <th id=\"T_82df6_level0_row11\" class=\"row_heading level0 row11\" >11</th>\n",
              "      <td id=\"T_82df6_row11_col0\" class=\"data row11 col0\" >Afternoon</td>\n",
              "      <td id=\"T_82df6_row11_col1\" class=\"data row11 col1\" >2</td>\n",
              "      <td id=\"T_82df6_row11_col2\" class=\"data row11 col2\" >1538</td>\n",
              "      <td id=\"T_82df6_row11_col3\" class=\"data row11 col3\" >30.22%</td>\n",
              "    </tr>\n",
              "    <tr>\n",
              "      <th id=\"T_82df6_level0_row12\" class=\"row_heading level0 row12\" >12</th>\n",
              "      <td id=\"T_82df6_row12_col0\" class=\"data row12 col0\" >Afternoon</td>\n",
              "      <td id=\"T_82df6_row12_col1\" class=\"data row12 col1\" >3</td>\n",
              "      <td id=\"T_82df6_row12_col2\" class=\"data row12 col2\" >840</td>\n",
              "      <td id=\"T_82df6_row12_col3\" class=\"data row12 col3\" >16.51%</td>\n",
              "    </tr>\n",
              "    <tr>\n",
              "      <th id=\"T_82df6_level0_row13\" class=\"row_heading level0 row13\" >13</th>\n",
              "      <td id=\"T_82df6_row13_col0\" class=\"data row13 col0\" >Afternoon</td>\n",
              "      <td id=\"T_82df6_row13_col1\" class=\"data row13 col1\" >4</td>\n",
              "      <td id=\"T_82df6_row13_col2\" class=\"data row13 col2\" >513</td>\n",
              "      <td id=\"T_82df6_row13_col3\" class=\"data row13 col3\" >10.08%</td>\n",
              "    </tr>\n",
              "    <tr>\n",
              "      <th id=\"T_82df6_level0_row14\" class=\"row_heading level0 row14\" >14</th>\n",
              "      <td id=\"T_82df6_row14_col0\" class=\"data row14 col0\" >Afternoon</td>\n",
              "      <td id=\"T_82df6_row14_col1\" class=\"data row14 col1\" >5</td>\n",
              "      <td id=\"T_82df6_row14_col2\" class=\"data row14 col2\" >221</td>\n",
              "      <td id=\"T_82df6_row14_col3\" class=\"data row14 col3\" >4.34%</td>\n",
              "    </tr>\n",
              "    <tr>\n",
              "      <th id=\"T_82df6_level0_row15\" class=\"row_heading level0 row15\" >15</th>\n",
              "      <td id=\"T_82df6_row15_col0\" class=\"data row15 col0\" >Afternoon</td>\n",
              "      <td id=\"T_82df6_row15_col1\" class=\"data row15 col1\" >6</td>\n",
              "      <td id=\"T_82df6_row15_col2\" class=\"data row15 col2\" >92</td>\n",
              "      <td id=\"T_82df6_row15_col3\" class=\"data row15 col3\" >1.81%</td>\n",
              "    </tr>\n",
              "    <tr>\n",
              "      <th id=\"T_82df6_level0_row16\" class=\"row_heading level0 row16\" >16</th>\n",
              "      <td id=\"T_82df6_row16_col0\" class=\"data row16 col0\" >Afternoon</td>\n",
              "      <td id=\"T_82df6_row16_col1\" class=\"data row16 col1\" >7</td>\n",
              "      <td id=\"T_82df6_row16_col2\" class=\"data row16 col2\" >30</td>\n",
              "      <td id=\"T_82df6_row16_col3\" class=\"data row16 col3\" >0.59%</td>\n",
              "    </tr>\n",
              "    <tr>\n",
              "      <th id=\"T_82df6_level0_row17\" class=\"row_heading level0 row17\" >17</th>\n",
              "      <td id=\"T_82df6_row17_col0\" class=\"data row17 col0\" >Afternoon</td>\n",
              "      <td id=\"T_82df6_row17_col1\" class=\"data row17 col1\" >8</td>\n",
              "      <td id=\"T_82df6_row17_col2\" class=\"data row17 col2\" >17</td>\n",
              "      <td id=\"T_82df6_row17_col3\" class=\"data row17 col3\" >0.33%</td>\n",
              "    </tr>\n",
              "    <tr>\n",
              "      <th id=\"T_82df6_level0_row18\" class=\"row_heading level0 row18\" >18</th>\n",
              "      <td id=\"T_82df6_row18_col0\" class=\"data row18 col0\" >Afternoon</td>\n",
              "      <td id=\"T_82df6_row18_col1\" class=\"data row18 col1\" >9</td>\n",
              "      <td id=\"T_82df6_row18_col2\" class=\"data row18 col2\" >5</td>\n",
              "      <td id=\"T_82df6_row18_col3\" class=\"data row18 col3\" >0.10%</td>\n",
              "    </tr>\n",
              "    <tr>\n",
              "      <th id=\"T_82df6_level0_row19\" class=\"row_heading level0 row19\" >19</th>\n",
              "      <td id=\"T_82df6_row19_col0\" class=\"data row19 col0\" >Afternoon</td>\n",
              "      <td id=\"T_82df6_row19_col1\" class=\"data row19 col1\" >11</td>\n",
              "      <td id=\"T_82df6_row19_col2\" class=\"data row19 col2\" >4</td>\n",
              "      <td id=\"T_82df6_row19_col3\" class=\"data row19 col3\" >0.08%</td>\n",
              "    </tr>\n",
              "  </tbody>\n",
              "</table>\n"
            ]
          },
          "metadata": {},
          "execution_count": 28
        }
      ]
    },
    {
      "cell_type": "code",
      "source": [
        "# График количества линий в чеке в разрезе времени суток\n",
        "order_dpart = ['Morning', 'Afternoon']\n",
        "fig, ax = plt.subplots(figsize=(14, 6))\n",
        "sns.barplot(\n",
        "    x='ItemsNo', y='TransactionNo',  hue ='Daypart', hue_order = order_dpart, data=daypart_items_qty.reset_index(), palette='rocket')\n",
        "plt.title('Распределение количества линий в разрезе времени суток')\n",
        "plt.xlabel('количество линий в чеке')\n",
        "plt.ylabel('количество чеков')\n",
        "plt.show()"
      ],
      "metadata": {
        "id": "PBrtykzuutD5",
        "colab": {
          "base_uri": "https://localhost:8080/",
          "height": 404
        },
        "outputId": "54303877-27cb-4e6f-f09b-9108f8db2c1d"
      },
      "execution_count": 29,
      "outputs": [
        {
          "output_type": "display_data",
          "data": {
            "text/plain": [
              "<Figure size 1008x432 with 1 Axes>"
            ],
            "image/png": "[encoded data removed]"
          },
          "metadata": {
            "needs_background": "dark"
          }
        }
      ]
    },
    {
      "cell_type": "markdown",
      "source": [
        "Вывод: Чеков с 2 и 3 покупками - половина, около трех четвертей чеков имеют от 1 до 4 покупок. Больше 80% чеков имеют от 1 до 5 строк (линий), днем меньше доля дневных чеков с 1 покупкой, но большая доля чеков с 4 строками, по сравнению с утром. Люди охотнее увеличивают чек днем, т.е. покупают больше позиций."
      ],
      "metadata": {
        "id": "8cLgBgmf16vP"
      }
    },
    {
      "cell_type": "markdown",
      "source": [
        "### Распределение чеков в зависимости от наличия в нем кофе"
      ],
      "metadata": {
        "id": "AnoY-ubE55e_"
      }
    },
    {
      "cell_type": "code",
      "source": [
        "# Добавление флага наличия кофе в чеке в каждую линию(транзакцию) под одним номером\n",
        "coffee_index = df.index[df['Items'] == 'Coffee'].to_list()\n",
        "coffee_transactions = list(set(df.query('index in @coffee_index')['TransactionNo']))\n",
        "df['coffee_flag'] = np.where(df['TransactionNo'].isin(coffee_transactions), 1, 0)"
      ],
      "metadata": {
        "id": "N-kIxNuACklC"
      },
      "execution_count": 30,
      "outputs": []
    },
    {
      "cell_type": "code",
      "source": [
        "# Группировка чеков с кофе по количеству и долям в разрезе количеств линий и времени суток\n",
        "with_coffee = df.query('coffee_flag == 1').groupby(['Daypart', 'ItemsNo']).agg({'TransactionNo':'nunique'})\n",
        "with_coffee['Share'] = with_coffee['TransactionNo'] / with_coffee.groupby('Daypart')['TransactionNo'].sum()"
      ],
      "metadata": {
        "id": "cINevrb22Bap"
      },
      "execution_count": 31,
      "outputs": []
    },
    {
      "cell_type": "code",
      "source": [
        "# Группировка чеков с кофе по количеству и долям в разрезе количеств линий и времени суток\n",
        "no_coffee = df.query('coffee_flag == 0').groupby(['Daypart', 'ItemsNo']).agg({'TransactionNo':'nunique'})\n",
        "no_coffee['Share'] = no_coffee['TransactionNo'] / no_coffee.groupby('Daypart')['TransactionNo'].sum()"
      ],
      "metadata": {
        "id": "_drf7yx43iSA"
      },
      "execution_count": 32,
      "outputs": []
    },
    {
      "cell_type": "code",
      "source": [
        "# Объеднинение группировок с кофе и без\n",
        "coffee_diff = pd.merge(with_coffee, no_coffee, on=['Daypart', 'ItemsNo'])\n",
        "coffee_diff.columns = ['coffee_orders_qty', 'coffee_orders_share', 'no_coffee_orders_qty', 'no_coffee_orders_share']\n",
        "coffee_diff['diff'] = coffee_diff['no_coffee_orders_share'] - coffee_diff['coffee_orders_share']\n",
        "coffee_diff.reset_index().style.background_gradient(\n",
        "            cmap=cm, subset=['diff']).format({'coffee_orders_share': \"{:.2%}\",'no_coffee_orders_share': \"{:.2%}\",'diff': \"{:.2%}\"})"
      ],
      "metadata": {
        "id": "Xq_lHERIHljt",
        "colab": {
          "base_uri": "https://localhost:8080/",
          "height": 582
        },
        "outputId": "e25279f7-c3a6-4e4c-dabf-07acfc4c6a47"
      },
      "execution_count": 33,
      "outputs": [
        {
          "output_type": "execute_result",
          "data": {
            "text/plain": [
              "<pandas.io.formats.style.Styler at 0x7f461506ec90>"
            ],
            "text/html": [
              "<style type=\"text/css\">\n",
              "#T_f9fa0_row0_col6 {\n",
              "  background-color: #a52a2a;\n",
              "  color: #f1f1f1;\n",
              "}\n",
              "#T_f9fa0_row1_col6 {\n",
              "  background-color: #e3c8c8;\n",
              "  color: #000000;\n",
              "}\n",
              "#T_f9fa0_row2_col6 {\n",
              "  background-color: #f2efef;\n",
              "  color: #000000;\n",
              "}\n",
              "#T_f9fa0_row3_col6 {\n",
              "  background-color: #eee5e5;\n",
              "  color: #000000;\n",
              "}\n",
              "#T_f9fa0_row4_col6 {\n",
              "  background-color: #e7d4d4;\n",
              "  color: #000000;\n",
              "}\n",
              "#T_f9fa0_row5_col6 {\n",
              "  background-color: #e1c5c5;\n",
              "  color: #000000;\n",
              "}\n",
              "#T_f9fa0_row6_col6 {\n",
              "  background-color: #dfc0c0;\n",
              "  color: #000000;\n",
              "}\n",
              "#T_f9fa0_row7_col6 {\n",
              "  background-color: #dfbebe;\n",
              "  color: #000000;\n",
              "}\n",
              "#T_f9fa0_row8_col6, #T_f9fa0_row9_col6, #T_f9fa0_row16_col6 {\n",
              "  background-color: #debcbc;\n",
              "  color: #000000;\n",
              "}\n",
              "#T_f9fa0_row10_col6 {\n",
              "  background-color: #a93535;\n",
              "  color: #f1f1f1;\n",
              "}\n",
              "#T_f9fa0_row11_col6 {\n",
              "  background-color: #e6d2d2;\n",
              "  color: #000000;\n",
              "}\n",
              "#T_f9fa0_row12_col6 {\n",
              "  background-color: #f2f0f0;\n",
              "  color: #000000;\n",
              "}\n",
              "#T_f9fa0_row13_col6 {\n",
              "  background-color: #ece1e1;\n",
              "  color: #000000;\n",
              "}\n",
              "#T_f9fa0_row14_col6 {\n",
              "  background-color: #e4cccc;\n",
              "  color: #000000;\n",
              "}\n",
              "#T_f9fa0_row15_col6 {\n",
              "  background-color: #e0c1c1;\n",
              "  color: #000000;\n",
              "}\n",
              "</style>\n",
              "<table id=\"T_f9fa0_\" class=\"dataframe\">\n",
              "  <thead>\n",
              "    <tr>\n",
              "      <th class=\"blank level0\" >&nbsp;</th>\n",
              "      <th class=\"col_heading level0 col0\" >Daypart</th>\n",
              "      <th class=\"col_heading level0 col1\" >ItemsNo</th>\n",
              "      <th class=\"col_heading level0 col2\" >coffee_orders_qty</th>\n",
              "      <th class=\"col_heading level0 col3\" >coffee_orders_share</th>\n",
              "      <th class=\"col_heading level0 col4\" >no_coffee_orders_qty</th>\n",
              "      <th class=\"col_heading level0 col5\" >no_coffee_orders_share</th>\n",
              "      <th class=\"col_heading level0 col6\" >diff</th>\n",
              "    </tr>\n",
              "  </thead>\n",
              "  <tbody>\n",
              "    <tr>\n",
              "      <th id=\"T_f9fa0_level0_row0\" class=\"row_heading level0 row0\" >0</th>\n",
              "      <td id=\"T_f9fa0_row0_col0\" class=\"data row0 col0\" >Afternoon</td>\n",
              "      <td id=\"T_f9fa0_row0_col1\" class=\"data row0 col1\" >1</td>\n",
              "      <td id=\"T_f9fa0_row0_col2\" class=\"data row0 col2\" >438</td>\n",
              "      <td id=\"T_f9fa0_row0_col3\" class=\"data row0 col3\" >18.72%</td>\n",
              "      <td id=\"T_f9fa0_row0_col4\" class=\"data row0 col4\" >1391</td>\n",
              "      <td id=\"T_f9fa0_row0_col5\" class=\"data row0 col5\" >50.60%</td>\n",
              "      <td id=\"T_f9fa0_row0_col6\" class=\"data row0 col6\" >31.88%</td>\n",
              "    </tr>\n",
              "    <tr>\n",
              "      <th id=\"T_f9fa0_level0_row1\" class=\"row_heading level0 row1\" >1</th>\n",
              "      <td id=\"T_f9fa0_row1_col0\" class=\"data row1 col0\" >Afternoon</td>\n",
              "      <td id=\"T_f9fa0_row1_col1\" class=\"data row1 col1\" >2</td>\n",
              "      <td id=\"T_f9fa0_row1_col2\" class=\"data row1 col2\" >740</td>\n",
              "      <td id=\"T_f9fa0_row1_col3\" class=\"data row1 col3\" >31.62%</td>\n",
              "      <td id=\"T_f9fa0_row1_col4\" class=\"data row1 col4\" >798</td>\n",
              "      <td id=\"T_f9fa0_row1_col5\" class=\"data row1 col5\" >29.03%</td>\n",
              "      <td id=\"T_f9fa0_row1_col6\" class=\"data row1 col6\" >-2.60%</td>\n",
              "    </tr>\n",
              "    <tr>\n",
              "      <th id=\"T_f9fa0_level0_row2\" class=\"row_heading level0 row2\" >2</th>\n",
              "      <td id=\"T_f9fa0_row2_col0\" class=\"data row2 col0\" >Afternoon</td>\n",
              "      <td id=\"T_f9fa0_row2_col1\" class=\"data row2 col1\" >3</td>\n",
              "      <td id=\"T_f9fa0_row2_col2\" class=\"data row2 col2\" >526</td>\n",
              "      <td id=\"T_f9fa0_row2_col3\" class=\"data row2 col3\" >22.48%</td>\n",
              "      <td id=\"T_f9fa0_row2_col4\" class=\"data row2 col4\" >314</td>\n",
              "      <td id=\"T_f9fa0_row2_col5\" class=\"data row2 col5\" >11.42%</td>\n",
              "      <td id=\"T_f9fa0_row2_col6\" class=\"data row2 col6\" >-11.06%</td>\n",
              "    </tr>\n",
              "    <tr>\n",
              "      <th id=\"T_f9fa0_level0_row3\" class=\"row_heading level0 row3\" >3</th>\n",
              "      <td id=\"T_f9fa0_row3_col0\" class=\"data row3 col0\" >Afternoon</td>\n",
              "      <td id=\"T_f9fa0_row3_col1\" class=\"data row3 col1\" >4</td>\n",
              "      <td id=\"T_f9fa0_row3_col2\" class=\"data row3 col2\" >350</td>\n",
              "      <td id=\"T_f9fa0_row3_col3\" class=\"data row3 col3\" >14.96%</td>\n",
              "      <td id=\"T_f9fa0_row3_col4\" class=\"data row3 col4\" >163</td>\n",
              "      <td id=\"T_f9fa0_row3_col5\" class=\"data row3 col5\" >5.93%</td>\n",
              "      <td id=\"T_f9fa0_row3_col6\" class=\"data row3 col6\" >-9.03%</td>\n",
              "    </tr>\n",
              "    <tr>\n",
              "      <th id=\"T_f9fa0_level0_row4\" class=\"row_heading level0 row4\" >4</th>\n",
              "      <td id=\"T_f9fa0_row4_col0\" class=\"data row4 col0\" >Afternoon</td>\n",
              "      <td id=\"T_f9fa0_row4_col1\" class=\"data row4 col1\" >5</td>\n",
              "      <td id=\"T_f9fa0_row4_col2\" class=\"data row4 col2\" >170</td>\n",
              "      <td id=\"T_f9fa0_row4_col3\" class=\"data row4 col3\" >7.26%</td>\n",
              "      <td id=\"T_f9fa0_row4_col4\" class=\"data row4 col4\" >51</td>\n",
              "      <td id=\"T_f9fa0_row4_col5\" class=\"data row4 col5\" >1.86%</td>\n",
              "      <td id=\"T_f9fa0_row4_col6\" class=\"data row4 col6\" >-5.41%</td>\n",
              "    </tr>\n",
              "    <tr>\n",
              "      <th id=\"T_f9fa0_level0_row5\" class=\"row_heading level0 row5\" >5</th>\n",
              "      <td id=\"T_f9fa0_row5_col0\" class=\"data row5 col0\" >Afternoon</td>\n",
              "      <td id=\"T_f9fa0_row5_col1\" class=\"data row5 col1\" >6</td>\n",
              "      <td id=\"T_f9fa0_row5_col2\" class=\"data row5 col2\" >67</td>\n",
              "      <td id=\"T_f9fa0_row5_col3\" class=\"data row5 col3\" >2.86%</td>\n",
              "      <td id=\"T_f9fa0_row5_col4\" class=\"data row5 col4\" >25</td>\n",
              "      <td id=\"T_f9fa0_row5_col5\" class=\"data row5 col5\" >0.91%</td>\n",
              "      <td id=\"T_f9fa0_row5_col6\" class=\"data row5 col6\" >-1.95%</td>\n",
              "    </tr>\n",
              "    <tr>\n",
              "      <th id=\"T_f9fa0_level0_row6\" class=\"row_heading level0 row6\" >6</th>\n",
              "      <td id=\"T_f9fa0_row6_col0\" class=\"data row6 col0\" >Afternoon</td>\n",
              "      <td id=\"T_f9fa0_row6_col1\" class=\"data row6 col1\" >7</td>\n",
              "      <td id=\"T_f9fa0_row6_col2\" class=\"data row6 col2\" >26</td>\n",
              "      <td id=\"T_f9fa0_row6_col3\" class=\"data row6 col3\" >1.11%</td>\n",
              "      <td id=\"T_f9fa0_row6_col4\" class=\"data row6 col4\" >4</td>\n",
              "      <td id=\"T_f9fa0_row6_col5\" class=\"data row6 col5\" >0.15%</td>\n",
              "      <td id=\"T_f9fa0_row6_col6\" class=\"data row6 col6\" >-0.97%</td>\n",
              "    </tr>\n",
              "    <tr>\n",
              "      <th id=\"T_f9fa0_level0_row7\" class=\"row_heading level0 row7\" >7</th>\n",
              "      <td id=\"T_f9fa0_row7_col0\" class=\"data row7 col0\" >Afternoon</td>\n",
              "      <td id=\"T_f9fa0_row7_col1\" class=\"data row7 col1\" >8</td>\n",
              "      <td id=\"T_f9fa0_row7_col2\" class=\"data row7 col2\" >16</td>\n",
              "      <td id=\"T_f9fa0_row7_col3\" class=\"data row7 col3\" >0.68%</td>\n",
              "      <td id=\"T_f9fa0_row7_col4\" class=\"data row7 col4\" >1</td>\n",
              "      <td id=\"T_f9fa0_row7_col5\" class=\"data row7 col5\" >0.04%</td>\n",
              "      <td id=\"T_f9fa0_row7_col6\" class=\"data row7 col6\" >-0.65%</td>\n",
              "    </tr>\n",
              "    <tr>\n",
              "      <th id=\"T_f9fa0_level0_row8\" class=\"row_heading level0 row8\" >8</th>\n",
              "      <td id=\"T_f9fa0_row8_col0\" class=\"data row8 col0\" >Afternoon</td>\n",
              "      <td id=\"T_f9fa0_row8_col1\" class=\"data row8 col1\" >9</td>\n",
              "      <td id=\"T_f9fa0_row8_col2\" class=\"data row8 col2\" >4</td>\n",
              "      <td id=\"T_f9fa0_row8_col3\" class=\"data row8 col3\" >0.17%</td>\n",
              "      <td id=\"T_f9fa0_row8_col4\" class=\"data row8 col4\" >1</td>\n",
              "      <td id=\"T_f9fa0_row8_col5\" class=\"data row8 col5\" >0.04%</td>\n",
              "      <td id=\"T_f9fa0_row8_col6\" class=\"data row8 col6\" >-0.13%</td>\n",
              "    </tr>\n",
              "    <tr>\n",
              "      <th id=\"T_f9fa0_level0_row9\" class=\"row_heading level0 row9\" >9</th>\n",
              "      <td id=\"T_f9fa0_row9_col0\" class=\"data row9 col0\" >Afternoon</td>\n",
              "      <td id=\"T_f9fa0_row9_col1\" class=\"data row9 col1\" >11</td>\n",
              "      <td id=\"T_f9fa0_row9_col2\" class=\"data row9 col2\" >3</td>\n",
              "      <td id=\"T_f9fa0_row9_col3\" class=\"data row9 col3\" >0.13%</td>\n",
              "      <td id=\"T_f9fa0_row9_col4\" class=\"data row9 col4\" >1</td>\n",
              "      <td id=\"T_f9fa0_row9_col5\" class=\"data row9 col5\" >0.04%</td>\n",
              "      <td id=\"T_f9fa0_row9_col6\" class=\"data row9 col6\" >-0.09%</td>\n",
              "    </tr>\n",
              "    <tr>\n",
              "      <th id=\"T_f9fa0_level0_row10\" class=\"row_heading level0 row10\" >10</th>\n",
              "      <td id=\"T_f9fa0_row10_col0\" class=\"data row10 col0\" >Morning</td>\n",
              "      <td id=\"T_f9fa0_row10_col1\" class=\"data row10 col1\" >1</td>\n",
              "      <td id=\"T_f9fa0_row10_col2\" class=\"data row10 col2\" >554</td>\n",
              "      <td id=\"T_f9fa0_row10_col3\" class=\"data row10 col3\" >26.22%</td>\n",
              "      <td id=\"T_f9fa0_row10_col4\" class=\"data row10 col4\" >1106</td>\n",
              "      <td id=\"T_f9fa0_row10_col5\" class=\"data row10 col5\" >55.61%</td>\n",
              "      <td id=\"T_f9fa0_row10_col6\" class=\"data row10 col6\" >29.39%</td>\n",
              "    </tr>\n",
              "    <tr>\n",
              "      <th id=\"T_f9fa0_level0_row11\" class=\"row_heading level0 row11\" >11</th>\n",
              "      <td id=\"T_f9fa0_row11_col0\" class=\"data row11 col0\" >Morning</td>\n",
              "      <td id=\"T_f9fa0_row11_col1\" class=\"data row11 col1\" >2</td>\n",
              "      <td id=\"T_f9fa0_row11_col2\" class=\"data row11 col2\" >719</td>\n",
              "      <td id=\"T_f9fa0_row11_col3\" class=\"data row11 col3\" >34.03%</td>\n",
              "      <td id=\"T_f9fa0_row11_col4\" class=\"data row11 col4\" >580</td>\n",
              "      <td id=\"T_f9fa0_row11_col5\" class=\"data row11 col5\" >29.16%</td>\n",
              "      <td id=\"T_f9fa0_row11_col6\" class=\"data row11 col6\" >-4.87%</td>\n",
              "    </tr>\n",
              "    <tr>\n",
              "      <th id=\"T_f9fa0_level0_row12\" class=\"row_heading level0 row12\" >12</th>\n",
              "      <td id=\"T_f9fa0_row12_col0\" class=\"data row12 col0\" >Morning</td>\n",
              "      <td id=\"T_f9fa0_row12_col1\" class=\"data row12 col1\" >3</td>\n",
              "      <td id=\"T_f9fa0_row12_col2\" class=\"data row12 col2\" >459</td>\n",
              "      <td id=\"T_f9fa0_row12_col3\" class=\"data row12 col3\" >21.72%</td>\n",
              "      <td id=\"T_f9fa0_row12_col4\" class=\"data row12 col4\" >203</td>\n",
              "      <td id=\"T_f9fa0_row12_col5\" class=\"data row12 col5\" >10.21%</td>\n",
              "      <td id=\"T_f9fa0_row12_col6\" class=\"data row12 col6\" >-11.52%</td>\n",
              "    </tr>\n",
              "    <tr>\n",
              "      <th id=\"T_f9fa0_level0_row13\" class=\"row_heading level0 row13\" >13</th>\n",
              "      <td id=\"T_f9fa0_row13_col0\" class=\"data row13 col0\" >Morning</td>\n",
              "      <td id=\"T_f9fa0_row13_col1\" class=\"data row13 col1\" >4</td>\n",
              "      <td id=\"T_f9fa0_row13_col2\" class=\"data row13 col2\" >247</td>\n",
              "      <td id=\"T_f9fa0_row13_col3\" class=\"data row13 col3\" >11.69%</td>\n",
              "      <td id=\"T_f9fa0_row13_col4\" class=\"data row13 col4\" >73</td>\n",
              "      <td id=\"T_f9fa0_row13_col5\" class=\"data row13 col5\" >3.67%</td>\n",
              "      <td id=\"T_f9fa0_row13_col6\" class=\"data row13 col6\" >-8.02%</td>\n",
              "    </tr>\n",
              "    <tr>\n",
              "      <th id=\"T_f9fa0_level0_row14\" class=\"row_heading level0 row14\" >14</th>\n",
              "      <td id=\"T_f9fa0_row14_col0\" class=\"data row14 col0\" >Morning</td>\n",
              "      <td id=\"T_f9fa0_row14_col1\" class=\"data row14 col1\" >5</td>\n",
              "      <td id=\"T_f9fa0_row14_col2\" class=\"data row14 col2\" >93</td>\n",
              "      <td id=\"T_f9fa0_row14_col3\" class=\"data row14 col3\" >4.40%</td>\n",
              "      <td id=\"T_f9fa0_row14_col4\" class=\"data row14 col4\" >18</td>\n",
              "      <td id=\"T_f9fa0_row14_col5\" class=\"data row14 col5\" >0.90%</td>\n",
              "      <td id=\"T_f9fa0_row14_col6\" class=\"data row14 col6\" >-3.50%</td>\n",
              "    </tr>\n",
              "    <tr>\n",
              "      <th id=\"T_f9fa0_level0_row15\" class=\"row_heading level0 row15\" >15</th>\n",
              "      <td id=\"T_f9fa0_row15_col0\" class=\"data row15 col0\" >Morning</td>\n",
              "      <td id=\"T_f9fa0_row15_col1\" class=\"data row15 col1\" >6</td>\n",
              "      <td id=\"T_f9fa0_row15_col2\" class=\"data row15 col2\" >30</td>\n",
              "      <td id=\"T_f9fa0_row15_col3\" class=\"data row15 col3\" >1.42%</td>\n",
              "      <td id=\"T_f9fa0_row15_col4\" class=\"data row15 col4\" >7</td>\n",
              "      <td id=\"T_f9fa0_row15_col5\" class=\"data row15 col5\" >0.35%</td>\n",
              "      <td id=\"T_f9fa0_row15_col6\" class=\"data row15 col6\" >-1.07%</td>\n",
              "    </tr>\n",
              "    <tr>\n",
              "      <th id=\"T_f9fa0_level0_row16\" class=\"row_heading level0 row16\" >16</th>\n",
              "      <td id=\"T_f9fa0_row16_col0\" class=\"data row16 col0\" >Morning</td>\n",
              "      <td id=\"T_f9fa0_row16_col1\" class=\"data row16 col1\" >7</td>\n",
              "      <td id=\"T_f9fa0_row16_col2\" class=\"data row16 col2\" >4</td>\n",
              "      <td id=\"T_f9fa0_row16_col3\" class=\"data row16 col3\" >0.19%</td>\n",
              "      <td id=\"T_f9fa0_row16_col4\" class=\"data row16 col4\" >2</td>\n",
              "      <td id=\"T_f9fa0_row16_col5\" class=\"data row16 col5\" >0.10%</td>\n",
              "      <td id=\"T_f9fa0_row16_col6\" class=\"data row16 col6\" >-0.09%</td>\n",
              "    </tr>\n",
              "  </tbody>\n",
              "</table>\n"
            ]
          },
          "metadata": {},
          "execution_count": 33
        }
      ]
    },
    {
      "cell_type": "code",
      "source": [
        ""
      ],
      "metadata": {
        "id": "33FoRJ-L2pXD"
      },
      "execution_count": 33,
      "outputs": []
    },
    {
      "cell_type": "code",
      "source": [
        "data = coffee_diff.reset_index()\n",
        "\n",
        "# График распределения количества чеков по числу линий и наличию кофе в чеке\n",
        "fig = go.Figure(\n",
        "    data=[\n",
        "        go.Bar(\n",
        "            name=\"With coffee\",\n",
        "            x=data[\"ItemsNo\"],\n",
        "            y=data[\"coffee_orders_qty\"],\n",
        "            marker=dict(color='#b84242'),\n",
        "            customdata = np.stack((data['Daypart'], data['coffee_orders_share']), axis=-1),\n",
        "            hovertemplate='<br>%{customdata[1]:.2%}<br>из %{customdata[0]} чеков с %{x}<br>Кол-во чеков: %{y}'  \n",
        "        ),    \n",
        "        go.Bar(\n",
        "            name=\"No coffee\",\n",
        "            x=data[\"ItemsNo\"],\n",
        "            y=data[\"no_coffee_orders_qty\"],\n",
        "            marker=dict(color='#a95aaa'),\n",
        "            customdata = np.stack((data['Daypart'], data['no_coffee_orders_share']), axis=-1),\n",
        "            hovertemplate='<br>%{customdata[1]:.2%}<br>из %{customdata[0]} чеков с %{x}<br>Кол-во чеков: %{y}'   \n",
        "        )\n",
        "    ],\n",
        "    layout=go.Layout(\n",
        "        title=\"Количество заказов по числу линй в чеке с кофе и без\",\n",
        "        yaxis_title=\"Количество чеков\",\n",
        "        xaxis_title=\"Количество линий в чеке\",\n",
        "    )\n",
        ")\n",
        "fig.update_layout(\n",
        "    xaxis = dict(\n",
        "        tickmode = 'array',\n",
        "        tickvals = [1, 2, 3, 4, 5, 6, 7, 8, 9, 10, 11],\n",
        "        ticktext = ['1 line', '2 lines', '3 lines', '4 lines', '5 lines', '6 lines', '7 lines', '8 lines', '9 lines', '10 lines', '11 lines']\n",
        "    )\n",
        ")\n",
        "fig.update_layout(legend = dict(bgcolor = 'rgba(0,0,0,0)'))\n",
        "fig.show()"
      ],
      "metadata": {
        "colab": {
          "base_uri": "https://localhost:8080/",
          "height": 542
        },
        "id": "PTf4ov4NwO0t",
        "outputId": "d532a31d-0aa0-4e86-b742-c52d655d4cf9"
      },
      "execution_count": 34,
      "outputs": [
        {
          "output_type": "display_data",
          "data": {
            "text/html": [
              "<html>\n",
              "<head><meta charset=\"utf-8\" /></head>\n",
              "<body>\n",
              "    <div>            <script src=\"https://cdnjs.cloudflare.com/ajax/libs/mathjax/2.7.5/MathJax.js?config=TeX-AMS-MML_SVG\"></script><script type=\"text/javascript\">if (window.MathJax) {MathJax.Hub.Config({SVG: {font: \"STIX-Web\"}});}</script>                <script type=\"text/javascript\">window.PlotlyConfig = {MathJaxConfig: 'local'};</script>\n",
              "        <script src=\"https://cdn.plot.ly/plotly-2.8.3.min.js\"></script>                <div id=\"9e4ffeff-f264-4e1f-a324-171b9153809a\" class=\"plotly-graph-div\" style=\"height:525px; width:100%;\"></div>            <script type=\"text/javascript\">                                    window.PLOTLYENV=window.PLOTLYENV || {};                                    if (document.getElementById(\"9e4ffeff-f264-4e1f-a324-171b9153809a\")) {                    Plotly.newPlot(                        \"9e4ffeff-f264-4e1f-a324-171b9153809a\",                        [{\"customdata\":[[\"Afternoon\",0.18717948717948718],[\"Afternoon\",0.3162393162393162],[\"Afternoon\",0.2247863247863248],[\"Afternoon\",0.14957264957264957],[\"Afternoon\",0.07264957264957266],[\"Afternoon\",0.02863247863247863],[\"Afternoon\",0.011111111111111112],[\"Afternoon\",0.006837606837606838],[\"Afternoon\",0.0017094017094017094],[\"Afternoon\",0.001282051282051282],[\"Morning\",0.26218646474207286],[\"Morning\",0.3402744912446758],[\"Morning\",0.2172266919072409],[\"Morning\",0.11689540937056318],[\"Morning\",0.04401325130146711],[\"Morning\",0.01419782300047326],[\"Morning\",0.001893043066729768]],\"hovertemplate\":\"<br>%{customdata[1]:.2%}<br>\\u0438\\u0437 %{customdata[0]} \\u0447\\u0435\\u043a\\u043e\\u0432 \\u0441 %{x}<br>\\u041a\\u043e\\u043b-\\u0432\\u043e \\u0447\\u0435\\u043a\\u043e\\u0432: %{y}\",\"marker\":{\"color\":\"#b84242\"},\"name\":\"With coffee\",\"x\":[1,2,3,4,5,6,7,8,9,11,1,2,3,4,5,6,7],\"y\":[438,740,526,350,170,67,26,16,4,3,554,719,459,247,93,30,4],\"type\":\"bar\"},{\"customdata\":[[\"Afternoon\",0.5060021826118588],[\"Afternoon\",0.29028737722808295],[\"Afternoon\",0.11422335394688977],[\"Afternoon\",0.05929428883230266],[\"Afternoon\",0.018552200800291015],[\"Afternoon\",0.009094216078574026],[\"Afternoon\",0.0014550745725718443],[\"Afternoon\",0.0003637686431429611],[\"Afternoon\",0.0003637686431429611],[\"Afternoon\",0.0003637686431429611],[\"Morning\",0.5560583207642031],[\"Morning\",0.29160382101558574],[\"Morning\",0.102061337355455],[\"Morning\",0.036701860231272],[\"Morning\",0.00904977375565611],[\"Morning\",0.003519356460532931],[\"Morning\",0.001005530417295123]],\"hovertemplate\":\"<br>%{customdata[1]:.2%}<br>\\u0438\\u0437 %{customdata[0]} \\u0447\\u0435\\u043a\\u043e\\u0432 \\u0441 %{x}<br>\\u041a\\u043e\\u043b-\\u0432\\u043e \\u0447\\u0435\\u043a\\u043e\\u0432: %{y}\",\"marker\":{\"color\":\"#a95aaa\"},\"name\":\"No coffee\",\"x\":[1,2,3,4,5,6,7,8,9,11,1,2,3,4,5,6,7],\"y\":[1391,798,314,163,51,25,4,1,1,1,1106,580,203,73,18,7,2],\"type\":\"bar\"}],                        {\"title\":{\"text\":\"\\u041a\\u043e\\u043b\\u0438\\u0447\\u0435\\u0441\\u0442\\u0432\\u043e \\u0437\\u0430\\u043a\\u0430\\u0437\\u043e\\u0432 \\u043f\\u043e \\u0447\\u0438\\u0441\\u043b\\u0443 \\u043b\\u0438\\u043d\\u0439 \\u0432 \\u0447\\u0435\\u043a\\u0435 \\u0441 \\u043a\\u043e\\u0444\\u0435 \\u0438 \\u0431\\u0435\\u0437\"},\"xaxis\":{\"title\":{\"text\":\"\\u041a\\u043e\\u043b\\u0438\\u0447\\u0435\\u0441\\u0442\\u0432\\u043e \\u043b\\u0438\\u043d\\u0438\\u0439 \\u0432 \\u0447\\u0435\\u043a\\u0435\"},\"tickmode\":\"array\",\"tickvals\":[1,2,3,4,5,6,7,8,9,10,11],\"ticktext\":[\"1 line\",\"2 lines\",\"3 lines\",\"4 lines\",\"5 lines\",\"6 lines\",\"7 lines\",\"8 lines\",\"9 lines\",\"10 lines\",\"11 lines\"]},\"yaxis\":{\"title\":{\"text\":\"\\u041a\\u043e\\u043b\\u0438\\u0447\\u0435\\u0441\\u0442\\u0432\\u043e \\u0447\\u0435\\u043a\\u043e\\u0432\"}},\"template\":{\"data\":{\"bar\":[{\"error_x\":{\"color\":\"rgb(36,36,36)\"},\"error_y\":{\"color\":\"rgb(36,36,36)\"},\"marker\":{\"line\":{\"color\":\"white\",\"width\":0.5},\"pattern\":{\"fillmode\":\"overlay\",\"size\":10,\"solidity\":0.2}},\"type\":\"bar\"}],\"barpolar\":[{\"marker\":{\"line\":{\"color\":\"white\",\"width\":0.5},\"pattern\":{\"fillmode\":\"overlay\",\"size\":10,\"solidity\":0.2}},\"type\":\"barpolar\"}],\"carpet\":[{\"aaxis\":{\"endlinecolor\":\"rgb(36,36,36)\",\"gridcolor\":\"white\",\"linecolor\":\"white\",\"minorgridcolor\":\"white\",\"startlinecolor\":\"rgb(36,36,36)\"},\"baxis\":{\"endlinecolor\":\"rgb(36,36,36)\",\"gridcolor\":\"white\",\"linecolor\":\"white\",\"minorgridcolor\":\"white\",\"startlinecolor\":\"rgb(36,36,36)\"},\"type\":\"carpet\"}],\"choropleth\":[{\"colorbar\":{\"outlinewidth\":1,\"tickcolor\":\"rgb(36,36,36)\",\"ticks\":\"outside\"},\"type\":\"choropleth\"}],\"contour\":[{\"colorbar\":{\"outlinewidth\":1,\"tickcolor\":\"rgb(36,36,36)\",\"ticks\":\"outside\"},\"colorscale\":[[0.0,\"#440154\"],[0.1111111111111111,\"#482878\"],[0.2222222222222222,\"#3e4989\"],[0.3333333333333333,\"#31688e\"],[0.4444444444444444,\"#26828e\"],[0.5555555555555556,\"#1f9e89\"],[0.6666666666666666,\"#35b779\"],[0.7777777777777778,\"#6ece58\"],[0.8888888888888888,\"#b5de2b\"],[1.0,\"#fde725\"]],\"type\":\"contour\"}],\"contourcarpet\":[{\"colorbar\":{\"outlinewidth\":1,\"tickcolor\":\"rgb(36,36,36)\",\"ticks\":\"outside\"},\"type\":\"contourcarpet\"}],\"heatmap\":[{\"colorbar\":{\"outlinewidth\":1,\"tickcolor\":\"rgb(36,36,36)\",\"ticks\":\"outside\"},\"colorscale\":[[0.0,\"#440154\"],[0.1111111111111111,\"#482878\"],[0.2222222222222222,\"#3e4989\"],[0.3333333333333333,\"#31688e\"],[0.4444444444444444,\"#26828e\"],[0.5555555555555556,\"#1f9e89\"],[0.6666666666666666,\"#35b779\"],[0.7777777777777778,\"#6ece58\"],[0.8888888888888888,\"#b5de2b\"],[1.0,\"#fde725\"]],\"type\":\"heatmap\"}],\"heatmapgl\":[{\"colorbar\":{\"outlinewidth\":1,\"tickcolor\":\"rgb(36,36,36)\",\"ticks\":\"outside\"},\"colorscale\":[[0.0,\"#440154\"],[0.1111111111111111,\"#482878\"],[0.2222222222222222,\"#3e4989\"],[0.3333333333333333,\"#31688e\"],[0.4444444444444444,\"#26828e\"],[0.5555555555555556,\"#1f9e89\"],[0.6666666666666666,\"#35b779\"],[0.7777777777777778,\"#6ece58\"],[0.8888888888888888,\"#b5de2b\"],[1.0,\"#fde725\"]],\"type\":\"heatmapgl\"}],\"histogram\":[{\"marker\":{\"line\":{\"color\":\"white\",\"width\":0.6}},\"type\":\"histogram\"}],\"histogram2d\":[{\"colorbar\":{\"outlinewidth\":1,\"tickcolor\":\"rgb(36,36,36)\",\"ticks\":\"outside\"},\"colorscale\":[[0.0,\"#440154\"],[0.1111111111111111,\"#482878\"],[0.2222222222222222,\"#3e4989\"],[0.3333333333333333,\"#31688e\"],[0.4444444444444444,\"#26828e\"],[0.5555555555555556,\"#1f9e89\"],[0.6666666666666666,\"#35b779\"],[0.7777777777777778,\"#6ece58\"],[0.8888888888888888,\"#b5de2b\"],[1.0,\"#fde725\"]],\"type\":\"histogram2d\"}],\"histogram2dcontour\":[{\"colorbar\":{\"outlinewidth\":1,\"tickcolor\":\"rgb(36,36,36)\",\"ticks\":\"outside\"},\"colorscale\":[[0.0,\"#440154\"],[0.1111111111111111,\"#482878\"],[0.2222222222222222,\"#3e4989\"],[0.3333333333333333,\"#31688e\"],[0.4444444444444444,\"#26828e\"],[0.5555555555555556,\"#1f9e89\"],[0.6666666666666666,\"#35b779\"],[0.7777777777777778,\"#6ece58\"],[0.8888888888888888,\"#b5de2b\"],[1.0,\"#fde725\"]],\"type\":\"histogram2dcontour\"}],\"mesh3d\":[{\"colorbar\":{\"outlinewidth\":1,\"tickcolor\":\"rgb(36,36,36)\",\"ticks\":\"outside\"},\"type\":\"mesh3d\"}],\"parcoords\":[{\"line\":{\"colorbar\":{\"outlinewidth\":1,\"tickcolor\":\"rgb(36,36,36)\",\"ticks\":\"outside\"}},\"type\":\"parcoords\"}],\"pie\":[{\"automargin\":true,\"type\":\"pie\"}],\"scatter\":[{\"marker\":{\"colorbar\":{\"outlinewidth\":1,\"tickcolor\":\"rgb(36,36,36)\",\"ticks\":\"outside\"}},\"type\":\"scatter\"}],\"scatter3d\":[{\"line\":{\"colorbar\":{\"outlinewidth\":1,\"tickcolor\":\"rgb(36,36,36)\",\"ticks\":\"outside\"}},\"marker\":{\"colorbar\":{\"outlinewidth\":1,\"tickcolor\":\"rgb(36,36,36)\",\"ticks\":\"outside\"}},\"type\":\"scatter3d\"}],\"scattercarpet\":[{\"marker\":{\"colorbar\":{\"outlinewidth\":1,\"tickcolor\":\"rgb(36,36,36)\",\"ticks\":\"outside\"}},\"type\":\"scattercarpet\"}],\"scattergeo\":[{\"marker\":{\"colorbar\":{\"outlinewidth\":1,\"tickcolor\":\"rgb(36,36,36)\",\"ticks\":\"outside\"}},\"type\":\"scattergeo\"}],\"scattergl\":[{\"marker\":{\"colorbar\":{\"outlinewidth\":1,\"tickcolor\":\"rgb(36,36,36)\",\"ticks\":\"outside\"}},\"type\":\"scattergl\"}],\"scattermapbox\":[{\"marker\":{\"colorbar\":{\"outlinewidth\":1,\"tickcolor\":\"rgb(36,36,36)\",\"ticks\":\"outside\"}},\"type\":\"scattermapbox\"}],\"scatterpolar\":[{\"marker\":{\"colorbar\":{\"outlinewidth\":1,\"tickcolor\":\"rgb(36,36,36)\",\"ticks\":\"outside\"}},\"type\":\"scatterpolar\"}],\"scatterpolargl\":[{\"marker\":{\"colorbar\":{\"outlinewidth\":1,\"tickcolor\":\"rgb(36,36,36)\",\"ticks\":\"outside\"}},\"type\":\"scatterpolargl\"}],\"scatterternary\":[{\"marker\":{\"colorbar\":{\"outlinewidth\":1,\"tickcolor\":\"rgb(36,36,36)\",\"ticks\":\"outside\"}},\"type\":\"scatterternary\"}],\"surface\":[{\"colorbar\":{\"outlinewidth\":1,\"tickcolor\":\"rgb(36,36,36)\",\"ticks\":\"outside\"},\"colorscale\":[[0.0,\"#440154\"],[0.1111111111111111,\"#482878\"],[0.2222222222222222,\"#3e4989\"],[0.3333333333333333,\"#31688e\"],[0.4444444444444444,\"#26828e\"],[0.5555555555555556,\"#1f9e89\"],[0.6666666666666666,\"#35b779\"],[0.7777777777777778,\"#6ece58\"],[0.8888888888888888,\"#b5de2b\"],[1.0,\"#fde725\"]],\"type\":\"surface\"}],\"table\":[{\"cells\":{\"fill\":{\"color\":\"rgb(237,237,237)\"},\"line\":{\"color\":\"white\"}},\"header\":{\"fill\":{\"color\":\"rgb(217,217,217)\"},\"line\":{\"color\":\"white\"}},\"type\":\"table\"}]},\"layout\":{\"annotationdefaults\":{\"arrowhead\":0,\"arrowwidth\":1},\"autotypenumbers\":\"strict\",\"coloraxis\":{\"colorbar\":{\"outlinewidth\":1,\"tickcolor\":\"rgb(36,36,36)\",\"ticks\":\"outside\"}},\"colorscale\":{\"diverging\":[[0.0,\"rgb(103,0,31)\"],[0.1,\"rgb(178,24,43)\"],[0.2,\"rgb(214,96,77)\"],[0.3,\"rgb(244,165,130)\"],[0.4,\"rgb(253,219,199)\"],[0.5,\"rgb(247,247,247)\"],[0.6,\"rgb(209,229,240)\"],[0.7,\"rgb(146,197,222)\"],[0.8,\"rgb(67,147,195)\"],[0.9,\"rgb(33,102,172)\"],[1.0,\"rgb(5,48,97)\"]],\"sequential\":[[0.0,\"#440154\"],[0.1111111111111111,\"#482878\"],[0.2222222222222222,\"#3e4989\"],[0.3333333333333333,\"#31688e\"],[0.4444444444444444,\"#26828e\"],[0.5555555555555556,\"#1f9e89\"],[0.6666666666666666,\"#35b779\"],[0.7777777777777778,\"#6ece58\"],[0.8888888888888888,\"#b5de2b\"],[1.0,\"#fde725\"]],\"sequentialminus\":[[0.0,\"#440154\"],[0.1111111111111111,\"#482878\"],[0.2222222222222222,\"#3e4989\"],[0.3333333333333333,\"#31688e\"],[0.4444444444444444,\"#26828e\"],[0.5555555555555556,\"#1f9e89\"],[0.6666666666666666,\"#35b779\"],[0.7777777777777778,\"#6ece58\"],[0.8888888888888888,\"#b5de2b\"],[1.0,\"#fde725\"]]},\"colorway\":[\"#1F77B4\",\"#FF7F0E\",\"#2CA02C\",\"#D62728\",\"#9467BD\",\"#8C564B\",\"#E377C2\",\"#7F7F7F\",\"#BCBD22\",\"#17BECF\"],\"font\":{\"color\":\"rgb(36,36,36)\"},\"geo\":{\"bgcolor\":\"white\",\"lakecolor\":\"white\",\"landcolor\":\"white\",\"showlakes\":true,\"showland\":true,\"subunitcolor\":\"white\"},\"hoverlabel\":{\"align\":\"left\"},\"hovermode\":\"closest\",\"mapbox\":{\"style\":\"light\"},\"paper_bgcolor\":\"white\",\"plot_bgcolor\":\"white\",\"polar\":{\"angularaxis\":{\"gridcolor\":\"rgb(232,232,232)\",\"linecolor\":\"rgb(36,36,36)\",\"showgrid\":false,\"showline\":true,\"ticks\":\"outside\"},\"bgcolor\":\"white\",\"radialaxis\":{\"gridcolor\":\"rgb(232,232,232)\",\"linecolor\":\"rgb(36,36,36)\",\"showgrid\":false,\"showline\":true,\"ticks\":\"outside\"}},\"scene\":{\"xaxis\":{\"backgroundcolor\":\"white\",\"gridcolor\":\"rgb(232,232,232)\",\"gridwidth\":2,\"linecolor\":\"rgb(36,36,36)\",\"showbackground\":true,\"showgrid\":false,\"showline\":true,\"ticks\":\"outside\",\"zeroline\":false,\"zerolinecolor\":\"rgb(36,36,36)\"},\"yaxis\":{\"backgroundcolor\":\"white\",\"gridcolor\":\"rgb(232,232,232)\",\"gridwidth\":2,\"linecolor\":\"rgb(36,36,36)\",\"showbackground\":true,\"showgrid\":false,\"showline\":true,\"ticks\":\"outside\",\"zeroline\":false,\"zerolinecolor\":\"rgb(36,36,36)\"},\"zaxis\":{\"backgroundcolor\":\"white\",\"gridcolor\":\"rgb(232,232,232)\",\"gridwidth\":2,\"linecolor\":\"rgb(36,36,36)\",\"showbackground\":true,\"showgrid\":false,\"showline\":true,\"ticks\":\"outside\",\"zeroline\":false,\"zerolinecolor\":\"rgb(36,36,36)\"}},\"shapedefaults\":{\"fillcolor\":\"black\",\"line\":{\"width\":0},\"opacity\":0.3},\"ternary\":{\"aaxis\":{\"gridcolor\":\"rgb(232,232,232)\",\"linecolor\":\"rgb(36,36,36)\",\"showgrid\":false,\"showline\":true,\"ticks\":\"outside\"},\"baxis\":{\"gridcolor\":\"rgb(232,232,232)\",\"linecolor\":\"rgb(36,36,36)\",\"showgrid\":false,\"showline\":true,\"ticks\":\"outside\"},\"bgcolor\":\"white\",\"caxis\":{\"gridcolor\":\"rgb(232,232,232)\",\"linecolor\":\"rgb(36,36,36)\",\"showgrid\":false,\"showline\":true,\"ticks\":\"outside\"}},\"title\":{\"x\":0.05},\"xaxis\":{\"automargin\":true,\"gridcolor\":\"rgb(232,232,232)\",\"linecolor\":\"rgb(36,36,36)\",\"showgrid\":false,\"showline\":true,\"ticks\":\"outside\",\"title\":{\"standoff\":15},\"zeroline\":false,\"zerolinecolor\":\"rgb(36,36,36)\"},\"yaxis\":{\"automargin\":true,\"gridcolor\":\"rgb(232,232,232)\",\"linecolor\":\"rgb(36,36,36)\",\"showgrid\":false,\"showline\":true,\"ticks\":\"outside\",\"title\":{\"standoff\":15},\"zeroline\":false,\"zerolinecolor\":\"rgb(36,36,36)\"}}},\"legend\":{\"bgcolor\":\"rgba(0,0,0,0)\"}},                        {\"responsive\": true}                    ).then(function(){\n",
              "                            \n",
              "var gd = document.getElementById('9e4ffeff-f264-4e1f-a324-171b9153809a');\n",
              "var x = new MutationObserver(function (mutations, observer) {{\n",
              "        var display = window.getComputedStyle(gd).display;\n",
              "        if (!display || display === 'none') {{\n",
              "            console.log([gd, 'removed!']);\n",
              "            Plotly.purge(gd);\n",
              "            observer.disconnect();\n",
              "        }}\n",
              "}});\n",
              "\n",
              "// Listen for the removal of the full notebook cells\n",
              "var notebookContainer = gd.closest('#notebook-container');\n",
              "if (notebookContainer) {{\n",
              "    x.observe(notebookContainer, {childList: true});\n",
              "}}\n",
              "\n",
              "// Listen for the clearing of the current output cell\n",
              "var outputEl = gd.closest('.output');\n",
              "if (outputEl) {{\n",
              "    x.observe(outputEl, {childList: true});\n",
              "}}\n",
              "\n",
              "                        })                };                            </script>        </div>\n",
              "</body>\n",
              "</html>"
            ]
          },
          "metadata": {}
        }
      ]
    },
    {
      "cell_type": "markdown",
      "source": [
        "Вывод: При сравнении долей чеков с кофе и без по времени суток, видно что в чеках с кофе уменьшается доля чеков с одной покупкой и увеличивается доля чеков с 3 - 4 строками, в утренних заказах чуть более увеличивается доля чеков с 3 строками, в дневных с 4. Если люди заказывают кофе, то берут что-то еще, особенно в дневные часы. Кофе - якорный товар для покупок остального ассортимента. Возможно кофе и позиции к кофе берут с собой либо есть возможность выпить его на месте. Если стимулировать покупку кофе то будет расти продажи остальных позиций."
      ],
      "metadata": {
        "id": "AnbXtH1l6csM"
      }
    },
    {
      "cell_type": "markdown",
      "source": [
        "## Проверка гипотез"
      ],
      "metadata": {
        "id": "n9ISZ_fx_Eeo"
      }
    },
    {
      "cell_type": "markdown",
      "source": [
        "### Функции для оценки распределения значений и средних в выборках и проверки гипотиз"
      ],
      "metadata": {
        "id": "w_03oR8nHX1z"
      }
    },
    {
      "cell_type": "markdown",
      "source": [
        "Проверка статистических гипотез будет производится:\n",
        "\n",
        "1. C помощью параметрического Т-теста \n",
        "2. С помощью непараметрического тетса Манна-Уитни\n",
        "3. C помощью бутстрапирования выборок\n",
        "\n",
        "Для соблюдения требований Т-теста будет оцениватся распределение значений и их средних, проверятся гипотеза о равенстве дисперсий."
      ],
      "metadata": {
        "id": "64Qzg-FPJEx_"
      }
    },
    {
      "cell_type": "code",
      "source": [
        "# Функция визуализации распределения значений  либо средних значений в двух выборках\n",
        "def dist_evaluation(\n",
        "    groupA, # выборка А\n",
        "    groupB, # выборка Б\n",
        "    title_name, # наименование визуализации\n",
        "    sub_title_a, # титул выборки А\n",
        "    sub_title_b # титул выборки Б\n",
        "):\n",
        "\n",
        "  fig, axes = plt.subplots(2, 2, figsize=(14, 8))\n",
        "  fig.suptitle(title_name)\n",
        "  sns.set_palette(\"rocket_r\", 2, .85  ,color_codes=True)\n",
        "  sns.histplot(groupA, ax=axes[0,0], kde=False, bins=10)\n",
        "  axes[0,0].set_title(sub_title_a)\n",
        "  axes[0,0].set_xlabel('кол-во строк чека')\n",
        "  axes[0,0].set_ylabel('частота')\n",
        "  sns.histplot(groupB, ax=axes[0,1], kde=False, bins=10)\n",
        "  axes[0,1].set_title(sub_title_b)\n",
        "  axes[0,1].set_xlabel('кол-во строк чека')\n",
        "  axes[0,1].set_ylabel('частота')\n",
        "  qqplot(groupA, line='s', ax=axes[1,0])\n",
        "  qqplot(groupB, line='s', ax=axes[1,1])\n",
        "  plt.show()"
      ],
      "metadata": {
        "id": "P0lgDSjLIApi"
      },
      "execution_count": 35,
      "outputs": []
    },
    {
      "cell_type": "code",
      "source": [
        "# Функция теста Левене на проверку равенства дисперсий\n",
        "def levene_test(groupA, groupB, alpha_level):\n",
        "\n",
        "  alpha = alpha_level\n",
        "  results = st.levene(a_with_coffee['ItemsNo'], b_no_coffee['ItemsNo'])\n",
        "  print('p-значение:', results.pvalue)\n",
        "\n",
        "  if (results.pvalue < alpha):\n",
        "      print(\"Необходимо отвергнуть нулевую гипотезу о равенстве дисперсий популяций из которых взяты выборки\")\n",
        "  else:\n",
        "      print(\"Не нужно отвергать нулевую гипотезу о равенстве дисперсий популяций из которых взяты выборки\")"
      ],
      "metadata": {
        "id": "h-s18zWnIaOO"
      },
      "execution_count": 36,
      "outputs": []
    },
    {
      "cell_type": "code",
      "source": [
        "# Функция Т теста в модификации Уэлча\n",
        "def t_test(groupA, groupB, alpha_level):\n",
        "\n",
        "  alpha = alpha_level\n",
        "  results = st.ttest_ind(a_with_coffee['ItemsNo'], b_no_coffee['ItemsNo'], equal_var=False) \n",
        "  print('p-значение:', results.pvalue)\n",
        "\n",
        "  if (results.pvalue < alpha):\n",
        "      print(\"Необходимо отвергнуть нулевую гипотезу\")\n",
        "  else:\n",
        "      print(\"Не нужно отвергать нулевую гипотезу\")"
      ],
      "metadata": {
        "id": "8-pXZNznItOK"
      },
      "execution_count": 37,
      "outputs": []
    },
    {
      "cell_type": "code",
      "source": [
        "# Функция теста Манна-Уитни\n",
        "def test_mw(groupA, groupB, alpha_level):\n",
        "\n",
        "  alpha = alpha_level\n",
        "  results = st.mannwhitneyu(a_with_coffee['ItemsNo'], b_no_coffee['ItemsNo']) \n",
        "  print('p-значение:', results.pvalue)\n",
        "\n",
        "  if (results.pvalue < alpha):\n",
        "      print(\"Необходимо отвергнуть нулевую гипотезу\")\n",
        "  else:\n",
        "      print(\"Не нужно отвергать нулевую гипотезу\")"
      ],
      "metadata": {
        "id": "8zgPxZWsIpAp"
      },
      "execution_count": 38,
      "outputs": []
    },
    {
      "cell_type": "code",
      "execution_count": 39,
      "metadata": {
        "id": "7RzTZI3xI4rJ"
      },
      "outputs": [],
      "source": [
        "# Функция бутстрапирования\n",
        "def get_bootstrap(\n",
        "    data_column_1, # числовые значения первой выборки\n",
        "    data_column_2, # числовые значения второй выборки\n",
        "    boot_it, # количество бутстрэп-подвыборок\n",
        "    statistic, # интересующая нас статистика\n",
        "    bootstrap_conf_level, # доверительный интервал\n",
        "    alpha # уровень значимости\n",
        "):\n",
        "    pvalue = []\n",
        "    boot_len = max([len(data_column_1), len(data_column_2)])#Количество сэмплов\n",
        "    boot_data = []\n",
        "    for i in tqdm(range(boot_it)): # извлекаем подвыборки\n",
        "        samples_1 = data_column_1.sample(\n",
        "            boot_len, \n",
        "            replace = True # параметр возвращения\n",
        "        ).values\n",
        "        \n",
        "        samples_2 = data_column_2.sample(\n",
        "            boot_len, # чтобы сохранить дисперсию, берем такой же размер выборки\n",
        "            replace = True\n",
        "        ).values\n",
        "        \n",
        "        boot_data.append(statistic(samples_1-samples_2)) # складываем в список разницу между статистикой\n",
        "    pd_boot_data = pd.DataFrame(boot_data) # пришем результаты в датафрейм\n",
        "        \n",
        "    left_quant = (1 - bootstrap_conf_level)/2\n",
        "    right_quant = 1 - (1 - bootstrap_conf_level) / 2\n",
        "    quants = pd_boot_data.quantile([left_quant, right_quant])\n",
        "        \n",
        "    p_1 = norm.cdf(\n",
        "        x = 0, \n",
        "        loc = np.mean(boot_data), \n",
        "        scale = np.std(boot_data)\n",
        "    )\n",
        "    p_2 = norm.cdf(\n",
        "        x = 0, \n",
        "        loc = -np.mean(boot_data), \n",
        "        scale = np.std(boot_data)\n",
        "    )\n",
        "    p_value = min(p_1, p_2) * 2\n",
        "        \n",
        "    # Визуализация\n",
        "    plt.subplots(figsize=(10, 4))\n",
        "    _, _, bars = plt.hist(pd_boot_data[0], bins=50)\n",
        "    for bar in bars:\n",
        "        if abs(bar.get_x()) <= quants.iloc[0][0] or abs(bar.get_x()) >= quants.iloc[1][0]:\n",
        "            bar.set_facecolor('red')\n",
        "        else: \n",
        "            bar.set_facecolor('blue')\n",
        "            bar.set_edgecolor('black')\n",
        "    plt.style.use('dark_background')\n",
        "    plt.grid(color='w', linestyle='-', linewidth=0.3)\n",
        "    plt.vlines(quants,ymin=0,ymax=65,linestyle='--', color='yellow')\n",
        "    plt.xlabel('значение среднего разности двух выборок')\n",
        "    plt.ylabel('частота')\n",
        "    plt.title(\"Распределение средних разности между двумя выборками\")\n",
        "    plt.show()\n",
        "\n",
        "    print('')   \n",
        "    print('Вероятность попадания среднего разностей двух выборок в доверительный интервал при верной H0:', p_value, \"\\n\")\n",
        "\n",
        "    if (p_value < alpha):\n",
        "        print(\"Необходимо отвергнуть нулевую гипотезу\", \"\\n\")\n",
        "    else:\n",
        "        print(\"Не нужно отвергать нулевую гипотезу\", \"\\n\")\n",
        "\n",
        "    print('Границы доверительного интервала среднего разностей двух выборок', quants, \"\\n\")\n",
        "    \n",
        "    print('Среднее разностей значений в исследуемой выборке', abs(data_column_1.mean() - data_column_2.mean()))"
      ]
    },
    {
      "cell_type": "markdown",
      "source": [
        "### Наличие кофе в чеке увеличивает количество строк в чеке"
      ],
      "metadata": {
        "id": "gJk1rh8z_LtD"
      }
    },
    {
      "cell_type": "code",
      "source": [
        "# Выборка чеков с кофе\n",
        "a_with_coffee = df.query('coffee_flag == 1').groupby(\n",
        "    'TransactionNo').agg({'ItemsNo':'mean'}).reset_index()\n",
        "a_with_coffee['ItemsNo'] = a_with_coffee['ItemsNo'].astype(int)\n",
        "a_with_coffee.head(2)   "
      ],
      "metadata": {
        "colab": {
          "base_uri": "https://localhost:8080/",
          "height": 112
        },
        "id": "C2DO0EvtWStM",
        "outputId": "2248afa9-031e-4d65-8e50-9e0f97bd09c9"
      },
      "execution_count": 40,
      "outputs": [
        {
          "output_type": "execute_result",
          "data": {
            "text/plain": [
              "   TransactionNo  ItemsNo\n",
              "0              5        3\n",
              "1              7        4"
            ],
            "text/html": [
              "\n",
              "  <div id=\"df-3776df6a-02bd-4f3d-9fb0-9a599b162fcb\">\n",
              "    <div class=\"colab-df-container\">\n",
              "      <div>\n",
              "<style scoped>\n",
              "    .dataframe tbody tr th:only-of-type {\n",
              "        vertical-align: middle;\n",
              "    }\n",
              "\n",
              "    .dataframe tbody tr th {\n",
              "        vertical-align: top;\n",
              "    }\n",
              "\n",
              "    .dataframe thead th {\n",
              "        text-align: right;\n",
              "    }\n",
              "</style>\n",
              "<table border=\"1\" class=\"dataframe\">\n",
              "  <thead>\n",
              "    <tr style=\"text-align: right;\">\n",
              "      <th></th>\n",
              "      <th>TransactionNo</th>\n",
              "      <th>ItemsNo</th>\n",
              "    </tr>\n",
              "  </thead>\n",
              "  <tbody>\n",
              "    <tr>\n",
              "      <th>0</th>\n",
              "      <td>5</td>\n",
              "      <td>3</td>\n",
              "    </tr>\n",
              "    <tr>\n",
              "      <th>1</th>\n",
              "      <td>7</td>\n",
              "      <td>4</td>\n",
              "    </tr>\n",
              "  </tbody>\n",
              "</table>\n",
              "</div>\n",
              "      <button class=\"colab-df-convert\" onclick=\"convertToInteractive('df-3776df6a-02bd-4f3d-9fb0-9a599b162fcb')\"\n",
              "              title=\"Convert this dataframe to an interactive table.\"\n",
              "              style=\"display:none;\">\n",
              "        \n",
              "  <svg xmlns=\"http://www.w3.org/2000/svg\" height=\"24px\"viewBox=\"0 0 24 24\"\n",
              "       width=\"24px\">\n",
              "    <path d=\"M0 0h24v24H0V0z\" fill=\"none\"/>\n",
              "    <path d=\"M18.56 5.44l.94 2.06.94-2.06 2.06-.94-2.06-.94-.94-2.06-.94 2.06-2.06.94zm-11 1L8.5 8.5l.94-2.06 2.06-.94-2.06-.94L8.5 2.5l-.94 2.06-2.06.94zm10 10l.94 2.06.94-2.06 2.06-.94-2.06-.94-.94-2.06-.94 2.06-2.06.94z\"/><path d=\"M17.41 7.96l-1.37-1.37c-.4-.4-.92-.59-1.43-.59-.52 0-1.04.2-1.43.59L10.3 9.45l-7.72 7.72c-.78.78-.78 2.05 0 2.83L4 21.41c.39.39.9.59 1.41.59.51 0 1.02-.2 1.41-.59l7.78-7.78 2.81-2.81c.8-.78.8-2.07 0-2.86zM5.41 20L4 18.59l7.72-7.72 1.47 1.35L5.41 20z\"/>\n",
              "  </svg>\n",
              "      </button>\n",
              "      \n",
              "  <style>\n",
              "    .colab-df-container {\n",
              "      display:flex;\n",
              "      flex-wrap:wrap;\n",
              "      gap: 12px;\n",
              "    }\n",
              "\n",
              "    .colab-df-convert {\n",
              "      background-color: #E8F0FE;\n",
              "      border: none;\n",
              "      border-radius: 50%;\n",
              "      cursor: pointer;\n",
              "      display: none;\n",
              "      fill: #1967D2;\n",
              "      height: 32px;\n",
              "      padding: 0 0 0 0;\n",
              "      width: 32px;\n",
              "    }\n",
              "\n",
              "    .colab-df-convert:hover {\n",
              "      background-color: #E2EBFA;\n",
              "      box-shadow: 0px 1px 2px rgba(60, 64, 67, 0.3), 0px 1px 3px 1px rgba(60, 64, 67, 0.15);\n",
              "      fill: #174EA6;\n",
              "    }\n",
              "\n",
              "    [theme=dark] .colab-df-convert {\n",
              "      background-color: #3B4455;\n",
              "      fill: #D2E3FC;\n",
              "    }\n",
              "\n",
              "    [theme=dark] .colab-df-convert:hover {\n",
              "      background-color: #434B5C;\n",
              "      box-shadow: 0px 1px 3px 1px rgba(0, 0, 0, 0.15);\n",
              "      filter: drop-shadow(0px 1px 2px rgba(0, 0, 0, 0.3));\n",
              "      fill: #FFFFFF;\n",
              "    }\n",
              "  </style>\n",
              "\n",
              "      <script>\n",
              "        const buttonEl =\n",
              "          document.querySelector('#df-3776df6a-02bd-4f3d-9fb0-9a599b162fcb button.colab-df-convert');\n",
              "        buttonEl.style.display =\n",
              "          google.colab.kernel.accessAllowed ? 'block' : 'none';\n",
              "\n",
              "        async function convertToInteractive(key) {\n",
              "          const element = document.querySelector('#df-3776df6a-02bd-4f3d-9fb0-9a599b162fcb');\n",
              "          const dataTable =\n",
              "            await google.colab.kernel.invokeFunction('convertToInteractive',\n",
              "                                                     [key], {});\n",
              "          if (!dataTable) return;\n",
              "\n",
              "          const docLinkHtml = 'Like what you see? Visit the ' +\n",
              "            '<a target=\"_blank\" href=https://colab.research.google.com/notebooks/data_table.ipynb>data table notebook</a>'\n",
              "            + ' to learn more about interactive tables.';\n",
              "          element.innerHTML = '';\n",
              "          dataTable['output_type'] = 'display_data';\n",
              "          await google.colab.output.renderOutput(dataTable, element);\n",
              "          const docLink = document.createElement('div');\n",
              "          docLink.innerHTML = docLinkHtml;\n",
              "          element.appendChild(docLink);\n",
              "        }\n",
              "      </script>\n",
              "    </div>\n",
              "  </div>\n",
              "  "
            ]
          },
          "metadata": {},
          "execution_count": 40
        }
      ]
    },
    {
      "cell_type": "code",
      "source": [
        "# Выборка чеков без кофе\n",
        "b_no_coffee = df.query('coffee_flag == 0').groupby(\n",
        "    'TransactionNo').agg({'ItemsNo':'mean'}).reset_index()\n",
        "b_no_coffee['ItemsNo'] = b_no_coffee['ItemsNo'].astype(int)\n",
        "b_no_coffee.head(2)"
      ],
      "metadata": {
        "colab": {
          "base_uri": "https://localhost:8080/",
          "height": 112
        },
        "id": "-cvD0F0-aVcB",
        "outputId": "03e6bd1a-801e-4c86-aad0-9e81f03f59bc"
      },
      "execution_count": 41,
      "outputs": [
        {
          "output_type": "execute_result",
          "data": {
            "text/plain": [
              "   TransactionNo  ItemsNo\n",
              "0              1        1\n",
              "1              2        2"
            ],
            "text/html": [
              "\n",
              "  <div id=\"df-b34f65c8-3f07-41cf-9541-b390ed392f65\">\n",
              "    <div class=\"colab-df-container\">\n",
              "      <div>\n",
              "<style scoped>\n",
              "    .dataframe tbody tr th:only-of-type {\n",
              "        vertical-align: middle;\n",
              "    }\n",
              "\n",
              "    .dataframe tbody tr th {\n",
              "        vertical-align: top;\n",
              "    }\n",
              "\n",
              "    .dataframe thead th {\n",
              "        text-align: right;\n",
              "    }\n",
              "</style>\n",
              "<table border=\"1\" class=\"dataframe\">\n",
              "  <thead>\n",
              "    <tr style=\"text-align: right;\">\n",
              "      <th></th>\n",
              "      <th>TransactionNo</th>\n",
              "      <th>ItemsNo</th>\n",
              "    </tr>\n",
              "  </thead>\n",
              "  <tbody>\n",
              "    <tr>\n",
              "      <th>0</th>\n",
              "      <td>1</td>\n",
              "      <td>1</td>\n",
              "    </tr>\n",
              "    <tr>\n",
              "      <th>1</th>\n",
              "      <td>2</td>\n",
              "      <td>2</td>\n",
              "    </tr>\n",
              "  </tbody>\n",
              "</table>\n",
              "</div>\n",
              "      <button class=\"colab-df-convert\" onclick=\"convertToInteractive('df-b34f65c8-3f07-41cf-9541-b390ed392f65')\"\n",
              "              title=\"Convert this dataframe to an interactive table.\"\n",
              "              style=\"display:none;\">\n",
              "        \n",
              "  <svg xmlns=\"http://www.w3.org/2000/svg\" height=\"24px\"viewBox=\"0 0 24 24\"\n",
              "       width=\"24px\">\n",
              "    <path d=\"M0 0h24v24H0V0z\" fill=\"none\"/>\n",
              "    <path d=\"M18.56 5.44l.94 2.06.94-2.06 2.06-.94-2.06-.94-.94-2.06-.94 2.06-2.06.94zm-11 1L8.5 8.5l.94-2.06 2.06-.94-2.06-.94L8.5 2.5l-.94 2.06-2.06.94zm10 10l.94 2.06.94-2.06 2.06-.94-2.06-.94-.94-2.06-.94 2.06-2.06.94z\"/><path d=\"M17.41 7.96l-1.37-1.37c-.4-.4-.92-.59-1.43-.59-.52 0-1.04.2-1.43.59L10.3 9.45l-7.72 7.72c-.78.78-.78 2.05 0 2.83L4 21.41c.39.39.9.59 1.41.59.51 0 1.02-.2 1.41-.59l7.78-7.78 2.81-2.81c.8-.78.8-2.07 0-2.86zM5.41 20L4 18.59l7.72-7.72 1.47 1.35L5.41 20z\"/>\n",
              "  </svg>\n",
              "      </button>\n",
              "      \n",
              "  <style>\n",
              "    .colab-df-container {\n",
              "      display:flex;\n",
              "      flex-wrap:wrap;\n",
              "      gap: 12px;\n",
              "    }\n",
              "\n",
              "    .colab-df-convert {\n",
              "      background-color: #E8F0FE;\n",
              "      border: none;\n",
              "      border-radius: 50%;\n",
              "      cursor: pointer;\n",
              "      display: none;\n",
              "      fill: #1967D2;\n",
              "      height: 32px;\n",
              "      padding: 0 0 0 0;\n",
              "      width: 32px;\n",
              "    }\n",
              "\n",
              "    .colab-df-convert:hover {\n",
              "      background-color: #E2EBFA;\n",
              "      box-shadow: 0px 1px 2px rgba(60, 64, 67, 0.3), 0px 1px 3px 1px rgba(60, 64, 67, 0.15);\n",
              "      fill: #174EA6;\n",
              "    }\n",
              "\n",
              "    [theme=dark] .colab-df-convert {\n",
              "      background-color: #3B4455;\n",
              "      fill: #D2E3FC;\n",
              "    }\n",
              "\n",
              "    [theme=dark] .colab-df-convert:hover {\n",
              "      background-color: #434B5C;\n",
              "      box-shadow: 0px 1px 3px 1px rgba(0, 0, 0, 0.15);\n",
              "      filter: drop-shadow(0px 1px 2px rgba(0, 0, 0, 0.3));\n",
              "      fill: #FFFFFF;\n",
              "    }\n",
              "  </style>\n",
              "\n",
              "      <script>\n",
              "        const buttonEl =\n",
              "          document.querySelector('#df-b34f65c8-3f07-41cf-9541-b390ed392f65 button.colab-df-convert');\n",
              "        buttonEl.style.display =\n",
              "          google.colab.kernel.accessAllowed ? 'block' : 'none';\n",
              "\n",
              "        async function convertToInteractive(key) {\n",
              "          const element = document.querySelector('#df-b34f65c8-3f07-41cf-9541-b390ed392f65');\n",
              "          const dataTable =\n",
              "            await google.colab.kernel.invokeFunction('convertToInteractive',\n",
              "                                                     [key], {});\n",
              "          if (!dataTable) return;\n",
              "\n",
              "          const docLinkHtml = 'Like what you see? Visit the ' +\n",
              "            '<a target=\"_blank\" href=https://colab.research.google.com/notebooks/data_table.ipynb>data table notebook</a>'\n",
              "            + ' to learn more about interactive tables.';\n",
              "          element.innerHTML = '';\n",
              "          dataTable['output_type'] = 'display_data';\n",
              "          await google.colab.output.renderOutput(dataTable, element);\n",
              "          const docLink = document.createElement('div');\n",
              "          docLink.innerHTML = docLinkHtml;\n",
              "          element.appendChild(docLink);\n",
              "        }\n",
              "      </script>\n",
              "    </div>\n",
              "  </div>\n",
              "  "
            ]
          },
          "metadata": {},
          "execution_count": 41
        }
      ]
    },
    {
      "cell_type": "code",
      "source": [
        "# Группировка статистик по флагу наличия кофе в чеке\n",
        "coffee_metrics = df.groupby('coffee_flag').agg({'TransactionNo':'nunique'}).reset_index()\n",
        "coffee_metrics['Share'] = (coffee_metrics['TransactionNo'] / coffee_metrics['TransactionNo'].sum())*100\n",
        "coffee_metrics"
      ],
      "metadata": {
        "colab": {
          "base_uri": "https://localhost:8080/",
          "height": 112
        },
        "id": "K9afhs3QARZ-",
        "outputId": "14078ba6-a7d3-411b-dc03-5371e38a1355"
      },
      "execution_count": 42,
      "outputs": [
        {
          "output_type": "execute_result",
          "data": {
            "text/plain": [
              "   coffee_flag  TransactionNo     Share\n",
              "0            0           4738  51.55043\n",
              "1            1           4453  48.44957"
            ],
            "text/html": [
              "\n",
              "  <div id=\"df-ca7d35d6-1eba-4f8c-be39-42b41b44322f\">\n",
              "    <div class=\"colab-df-container\">\n",
              "      <div>\n",
              "<style scoped>\n",
              "    .dataframe tbody tr th:only-of-type {\n",
              "        vertical-align: middle;\n",
              "    }\n",
              "\n",
              "    .dataframe tbody tr th {\n",
              "        vertical-align: top;\n",
              "    }\n",
              "\n",
              "    .dataframe thead th {\n",
              "        text-align: right;\n",
              "    }\n",
              "</style>\n",
              "<table border=\"1\" class=\"dataframe\">\n",
              "  <thead>\n",
              "    <tr style=\"text-align: right;\">\n",
              "      <th></th>\n",
              "      <th>coffee_flag</th>\n",
              "      <th>TransactionNo</th>\n",
              "      <th>Share</th>\n",
              "    </tr>\n",
              "  </thead>\n",
              "  <tbody>\n",
              "    <tr>\n",
              "      <th>0</th>\n",
              "      <td>0</td>\n",
              "      <td>4738</td>\n",
              "      <td>51.55043</td>\n",
              "    </tr>\n",
              "    <tr>\n",
              "      <th>1</th>\n",
              "      <td>1</td>\n",
              "      <td>4453</td>\n",
              "      <td>48.44957</td>\n",
              "    </tr>\n",
              "  </tbody>\n",
              "</table>\n",
              "</div>\n",
              "      <button class=\"colab-df-convert\" onclick=\"convertToInteractive('df-ca7d35d6-1eba-4f8c-be39-42b41b44322f')\"\n",
              "              title=\"Convert this dataframe to an interactive table.\"\n",
              "              style=\"display:none;\">\n",
              "        \n",
              "  <svg xmlns=\"http://www.w3.org/2000/svg\" height=\"24px\"viewBox=\"0 0 24 24\"\n",
              "       width=\"24px\">\n",
              "    <path d=\"M0 0h24v24H0V0z\" fill=\"none\"/>\n",
              "    <path d=\"M18.56 5.44l.94 2.06.94-2.06 2.06-.94-2.06-.94-.94-2.06-.94 2.06-2.06.94zm-11 1L8.5 8.5l.94-2.06 2.06-.94-2.06-.94L8.5 2.5l-.94 2.06-2.06.94zm10 10l.94 2.06.94-2.06 2.06-.94-2.06-.94-.94-2.06-.94 2.06-2.06.94z\"/><path d=\"M17.41 7.96l-1.37-1.37c-.4-.4-.92-.59-1.43-.59-.52 0-1.04.2-1.43.59L10.3 9.45l-7.72 7.72c-.78.78-.78 2.05 0 2.83L4 21.41c.39.39.9.59 1.41.59.51 0 1.02-.2 1.41-.59l7.78-7.78 2.81-2.81c.8-.78.8-2.07 0-2.86zM5.41 20L4 18.59l7.72-7.72 1.47 1.35L5.41 20z\"/>\n",
              "  </svg>\n",
              "      </button>\n",
              "      \n",
              "  <style>\n",
              "    .colab-df-container {\n",
              "      display:flex;\n",
              "      flex-wrap:wrap;\n",
              "      gap: 12px;\n",
              "    }\n",
              "\n",
              "    .colab-df-convert {\n",
              "      background-color: #E8F0FE;\n",
              "      border: none;\n",
              "      border-radius: 50%;\n",
              "      cursor: pointer;\n",
              "      display: none;\n",
              "      fill: #1967D2;\n",
              "      height: 32px;\n",
              "      padding: 0 0 0 0;\n",
              "      width: 32px;\n",
              "    }\n",
              "\n",
              "    .colab-df-convert:hover {\n",
              "      background-color: #E2EBFA;\n",
              "      box-shadow: 0px 1px 2px rgba(60, 64, 67, 0.3), 0px 1px 3px 1px rgba(60, 64, 67, 0.15);\n",
              "      fill: #174EA6;\n",
              "    }\n",
              "\n",
              "    [theme=dark] .colab-df-convert {\n",
              "      background-color: #3B4455;\n",
              "      fill: #D2E3FC;\n",
              "    }\n",
              "\n",
              "    [theme=dark] .colab-df-convert:hover {\n",
              "      background-color: #434B5C;\n",
              "      box-shadow: 0px 1px 3px 1px rgba(0, 0, 0, 0.15);\n",
              "      filter: drop-shadow(0px 1px 2px rgba(0, 0, 0, 0.3));\n",
              "      fill: #FFFFFF;\n",
              "    }\n",
              "  </style>\n",
              "\n",
              "      <script>\n",
              "        const buttonEl =\n",
              "          document.querySelector('#df-ca7d35d6-1eba-4f8c-be39-42b41b44322f button.colab-df-convert');\n",
              "        buttonEl.style.display =\n",
              "          google.colab.kernel.accessAllowed ? 'block' : 'none';\n",
              "\n",
              "        async function convertToInteractive(key) {\n",
              "          const element = document.querySelector('#df-ca7d35d6-1eba-4f8c-be39-42b41b44322f');\n",
              "          const dataTable =\n",
              "            await google.colab.kernel.invokeFunction('convertToInteractive',\n",
              "                                                     [key], {});\n",
              "          if (!dataTable) return;\n",
              "\n",
              "          const docLinkHtml = 'Like what you see? Visit the ' +\n",
              "            '<a target=\"_blank\" href=https://colab.research.google.com/notebooks/data_table.ipynb>data table notebook</a>'\n",
              "            + ' to learn more about interactive tables.';\n",
              "          element.innerHTML = '';\n",
              "          dataTable['output_type'] = 'display_data';\n",
              "          await google.colab.output.renderOutput(dataTable, element);\n",
              "          const docLink = document.createElement('div');\n",
              "          docLink.innerHTML = docLinkHtml;\n",
              "          element.appendChild(docLink);\n",
              "        }\n",
              "      </script>\n",
              "    </div>\n",
              "  </div>\n",
              "  "
            ]
          },
          "metadata": {},
          "execution_count": 42
        }
      ]
    },
    {
      "cell_type": "code",
      "source": [
        "# Статистики групп с кофе и без\n",
        "coffee_statistics = pd.merge(a_with_coffee['ItemsNo'].describe().to_frame(), b_no_coffee['ItemsNo'].describe().to_frame(),left_index=True, right_index=True)\n",
        "coffee_statistics.columns=['with_coffee','no_coffee']\n",
        "coffee_statistics"
      ],
      "metadata": {
        "colab": {
          "base_uri": "https://localhost:8080/",
          "height": 300
        },
        "id": "RRCJY4uFAasd",
        "outputId": "66a4c9f1-c58f-4c03-a1b9-b5080f0269b0"
      },
      "execution_count": 43,
      "outputs": [
        {
          "output_type": "execute_result",
          "data": {
            "text/plain": [
              "       with_coffee    no_coffee\n",
              "count  4453.000000  4738.000000\n",
              "mean      2.608803     1.763402\n",
              "std       1.398283     1.041849\n",
              "min       1.000000     1.000000\n",
              "25%       2.000000     1.000000\n",
              "50%       2.000000     1.000000\n",
              "75%       3.000000     2.000000\n",
              "max      11.000000    11.000000"
            ],
            "text/html": [
              "\n",
              "  <div id=\"df-f73c2897-4766-4d78-8b05-75f10479cd09\">\n",
              "    <div class=\"colab-df-container\">\n",
              "      <div>\n",
              "<style scoped>\n",
              "    .dataframe tbody tr th:only-of-type {\n",
              "        vertical-align: middle;\n",
              "    }\n",
              "\n",
              "    .dataframe tbody tr th {\n",
              "        vertical-align: top;\n",
              "    }\n",
              "\n",
              "    .dataframe thead th {\n",
              "        text-align: right;\n",
              "    }\n",
              "</style>\n",
              "<table border=\"1\" class=\"dataframe\">\n",
              "  <thead>\n",
              "    <tr style=\"text-align: right;\">\n",
              "      <th></th>\n",
              "      <th>with_coffee</th>\n",
              "      <th>no_coffee</th>\n",
              "    </tr>\n",
              "  </thead>\n",
              "  <tbody>\n",
              "    <tr>\n",
              "      <th>count</th>\n",
              "      <td>4453.000000</td>\n",
              "      <td>4738.000000</td>\n",
              "    </tr>\n",
              "    <tr>\n",
              "      <th>mean</th>\n",
              "      <td>2.608803</td>\n",
              "      <td>1.763402</td>\n",
              "    </tr>\n",
              "    <tr>\n",
              "      <th>std</th>\n",
              "      <td>1.398283</td>\n",
              "      <td>1.041849</td>\n",
              "    </tr>\n",
              "    <tr>\n",
              "      <th>min</th>\n",
              "      <td>1.000000</td>\n",
              "      <td>1.000000</td>\n",
              "    </tr>\n",
              "    <tr>\n",
              "      <th>25%</th>\n",
              "      <td>2.000000</td>\n",
              "      <td>1.000000</td>\n",
              "    </tr>\n",
              "    <tr>\n",
              "      <th>50%</th>\n",
              "      <td>2.000000</td>\n",
              "      <td>1.000000</td>\n",
              "    </tr>\n",
              "    <tr>\n",
              "      <th>75%</th>\n",
              "      <td>3.000000</td>\n",
              "      <td>2.000000</td>\n",
              "    </tr>\n",
              "    <tr>\n",
              "      <th>max</th>\n",
              "      <td>11.000000</td>\n",
              "      <td>11.000000</td>\n",
              "    </tr>\n",
              "  </tbody>\n",
              "</table>\n",
              "</div>\n",
              "      <button class=\"colab-df-convert\" onclick=\"convertToInteractive('df-f73c2897-4766-4d78-8b05-75f10479cd09')\"\n",
              "              title=\"Convert this dataframe to an interactive table.\"\n",
              "              style=\"display:none;\">\n",
              "        \n",
              "  <svg xmlns=\"http://www.w3.org/2000/svg\" height=\"24px\"viewBox=\"0 0 24 24\"\n",
              "       width=\"24px\">\n",
              "    <path d=\"M0 0h24v24H0V0z\" fill=\"none\"/>\n",
              "    <path d=\"M18.56 5.44l.94 2.06.94-2.06 2.06-.94-2.06-.94-.94-2.06-.94 2.06-2.06.94zm-11 1L8.5 8.5l.94-2.06 2.06-.94-2.06-.94L8.5 2.5l-.94 2.06-2.06.94zm10 10l.94 2.06.94-2.06 2.06-.94-2.06-.94-.94-2.06-.94 2.06-2.06.94z\"/><path d=\"M17.41 7.96l-1.37-1.37c-.4-.4-.92-.59-1.43-.59-.52 0-1.04.2-1.43.59L10.3 9.45l-7.72 7.72c-.78.78-.78 2.05 0 2.83L4 21.41c.39.39.9.59 1.41.59.51 0 1.02-.2 1.41-.59l7.78-7.78 2.81-2.81c.8-.78.8-2.07 0-2.86zM5.41 20L4 18.59l7.72-7.72 1.47 1.35L5.41 20z\"/>\n",
              "  </svg>\n",
              "      </button>\n",
              "      \n",
              "  <style>\n",
              "    .colab-df-container {\n",
              "      display:flex;\n",
              "      flex-wrap:wrap;\n",
              "      gap: 12px;\n",
              "    }\n",
              "\n",
              "    .colab-df-convert {\n",
              "      background-color: #E8F0FE;\n",
              "      border: none;\n",
              "      border-radius: 50%;\n",
              "      cursor: pointer;\n",
              "      display: none;\n",
              "      fill: #1967D2;\n",
              "      height: 32px;\n",
              "      padding: 0 0 0 0;\n",
              "      width: 32px;\n",
              "    }\n",
              "\n",
              "    .colab-df-convert:hover {\n",
              "      background-color: #E2EBFA;\n",
              "      box-shadow: 0px 1px 2px rgba(60, 64, 67, 0.3), 0px 1px 3px 1px rgba(60, 64, 67, 0.15);\n",
              "      fill: #174EA6;\n",
              "    }\n",
              "\n",
              "    [theme=dark] .colab-df-convert {\n",
              "      background-color: #3B4455;\n",
              "      fill: #D2E3FC;\n",
              "    }\n",
              "\n",
              "    [theme=dark] .colab-df-convert:hover {\n",
              "      background-color: #434B5C;\n",
              "      box-shadow: 0px 1px 3px 1px rgba(0, 0, 0, 0.15);\n",
              "      filter: drop-shadow(0px 1px 2px rgba(0, 0, 0, 0.3));\n",
              "      fill: #FFFFFF;\n",
              "    }\n",
              "  </style>\n",
              "\n",
              "      <script>\n",
              "        const buttonEl =\n",
              "          document.querySelector('#df-f73c2897-4766-4d78-8b05-75f10479cd09 button.colab-df-convert');\n",
              "        buttonEl.style.display =\n",
              "          google.colab.kernel.accessAllowed ? 'block' : 'none';\n",
              "\n",
              "        async function convertToInteractive(key) {\n",
              "          const element = document.querySelector('#df-f73c2897-4766-4d78-8b05-75f10479cd09');\n",
              "          const dataTable =\n",
              "            await google.colab.kernel.invokeFunction('convertToInteractive',\n",
              "                                                     [key], {});\n",
              "          if (!dataTable) return;\n",
              "\n",
              "          const docLinkHtml = 'Like what you see? Visit the ' +\n",
              "            '<a target=\"_blank\" href=https://colab.research.google.com/notebooks/data_table.ipynb>data table notebook</a>'\n",
              "            + ' to learn more about interactive tables.';\n",
              "          element.innerHTML = '';\n",
              "          dataTable['output_type'] = 'display_data';\n",
              "          await google.colab.output.renderOutput(dataTable, element);\n",
              "          const docLink = document.createElement('div');\n",
              "          docLink.innerHTML = docLinkHtml;\n",
              "          element.appendChild(docLink);\n",
              "        }\n",
              "      </script>\n",
              "    </div>\n",
              "  </div>\n",
              "  "
            ]
          },
          "metadata": {},
          "execution_count": 43
        }
      ]
    },
    {
      "cell_type": "markdown",
      "source": [
        "Среднее и медиана в чеках с кофе по выборке - больше чем в чеках без кофе, выборочное различие достаточно сильное\n",
        "\n",
        "---\n",
        "\n"
      ],
      "metadata": {
        "id": "LXNY5bNyDpfZ"
      }
    },
    {
      "cell_type": "code",
      "source": [
        "# Оценка распределения количества линий в чеках с кофе и без\n",
        "dist_evaluation(\n",
        "    a_with_coffee['ItemsNo'],\n",
        "    b_no_coffee['ItemsNo'],\n",
        "    'Распределение количества строк в чеке с кофе и без',\n",
        "    'С кофе',\n",
        "    'Без кофе'\n",
        ")"
      ],
      "metadata": {
        "colab": {
          "base_uri": "https://localhost:8080/",
          "height": 554
        },
        "id": "XgXFNw77sYtL",
        "outputId": "887a45c6-f57c-4085-dd07-c27aca70f819"
      },
      "execution_count": 44,
      "outputs": [
        {
          "output_type": "display_data",
          "data": {
            "text/plain": [
              "<Figure size 1008x576 with 4 Axes>"
            ],
            "image/png": "[encoded data removed]"
          },
          "metadata": {
            "needs_background": "dark"
          }
        }
      ]
    },
    {
      "cell_type": "markdown",
      "source": [
        "Распределение количества строк в обоих группах довольно далеки от нормального, поэтому нужно проверить нормальность распределения средних, для этого можно использовать рандомное сэмплирование выборок с повторением значений."
      ],
      "metadata": {
        "id": "27oqAoNyAr_F"
      }
    },
    {
      "cell_type": "code",
      "source": [
        "# Получение ряда средних значений 1000 сэмплов в каждой группе\n",
        "a1 = pd.Series([a_with_coffee['ItemsNo'].sample(4453, replace=True).mean() for _ in range(1000)])\n",
        "b1 = pd.Series([b_no_coffee['ItemsNo'].sample(4453, replace=True).mean() for _ in range(1000)])"
      ],
      "metadata": {
        "id": "gI5-0DfRic7C"
      },
      "execution_count": 45,
      "outputs": []
    },
    {
      "cell_type": "code",
      "source": [
        "dist_evaluation(\n",
        "    a1,\n",
        "    b1,\n",
        "    'Распределение среднего строк в чеке с кофе и без',\n",
        "    'С кофе',\n",
        "    'Без кофе')"
      ],
      "metadata": {
        "colab": {
          "base_uri": "https://localhost:8080/",
          "height": 554
        },
        "id": "VGp1HVznpp5B",
        "outputId": "3892b270-8c08-414f-e48b-c1b4b08fcd59"
      },
      "execution_count": 46,
      "outputs": [
        {
          "output_type": "display_data",
          "data": {
            "text/plain": [
              "<Figure size 1008x576 with 4 Axes>"
            ],
            "image/png": "[encoded data removed]"
          },
          "metadata": {
            "needs_background": "dark"
          }
        }
      ]
    },
    {
      "cell_type": "markdown",
      "source": [
        "Распределение самого значения количества строк в обоих выборках не похоже на нормальное, но распределение средних говорит о нормальности. Поэтому возможно применения теста Уэлча, после проверки одинаковости дисперсий тестом Левне, либо теста Манна-Уитни, который не предъявляет требований к нормальности распределения"
      ],
      "metadata": {
        "id": "tnWAPi_bD8P_"
      }
    },
    {
      "cell_type": "markdown",
      "source": [
        "***ГИПОТЕЗА***\n",
        "\n",
        "<br>**H0** - среднее количество строк в чеках с кофе и без кофе не различаются\n",
        "<br>**H1** - среднее количество строк в чеках с кофе и без кофе различаются\n",
        "\n",
        "<br>Уровень статистической значимости - 0.05"
      ],
      "metadata": {
        "id": "R_7t8k2oCd5e"
      }
    },
    {
      "cell_type": "code",
      "source": [
        "# Проверка равенства дисперсий тестом Левене\n",
        "levene_test(a_with_coffee['ItemsNo'], b_no_coffee['ItemsNo'], 0.05)"
      ],
      "metadata": {
        "colab": {
          "base_uri": "https://localhost:8080/"
        },
        "id": "1WpoGXDavby0",
        "outputId": "ba71b9c1-1099-4e28-8ae2-b70aab6df9e6"
      },
      "execution_count": 47,
      "outputs": [
        {
          "output_type": "stream",
          "name": "stdout",
          "text": [
            "p-значение: 2.2943074543600556e-38\n",
            "Необходимо отвергнуть нулевую гипотезу о равенстве дисперсий популяций из которых взяты выборки\n"
          ]
        }
      ]
    },
    {
      "cell_type": "markdown",
      "source": [
        "Вероятность что дисперсии совокупностей из которых взяты выборки эквивалентны ничтожна, поэтому Т тест будет в модификации теста Уэлча, который подразумевает что дисперсии могут быть не равны"
      ],
      "metadata": {
        "id": "7HWfq7K5LHgd"
      }
    },
    {
      "cell_type": "code",
      "source": [
        "# Проверка гипотезы Т тестом для выборок с разной дисперсией\n",
        "t_test(a_with_coffee['ItemsNo'], b_no_coffee['ItemsNo'], 0.05)"
      ],
      "metadata": {
        "colab": {
          "base_uri": "https://localhost:8080/"
        },
        "id": "i-8qPWTVxLU-",
        "outputId": "6fdeac2c-c5dc-4bfd-a85f-ab9a42fd527f"
      },
      "execution_count": 48,
      "outputs": [
        {
          "output_type": "stream",
          "name": "stdout",
          "text": [
            "p-значение: 1.194160338308203e-220\n",
            "Необходимо отвергнуть нулевую гипотезу\n"
          ]
        }
      ]
    },
    {
      "cell_type": "code",
      "source": [
        "test_mw(a_with_coffee['ItemsNo'], b_no_coffee['ItemsNo'], 0.05)"
      ],
      "metadata": {
        "colab": {
          "base_uri": "https://localhost:8080/"
        },
        "id": "sdnVWzUYyi2d",
        "outputId": "06c6db37-4b97-4f7c-85a5-3ccd69a985fd"
      },
      "execution_count": 49,
      "outputs": [
        {
          "output_type": "stream",
          "name": "stdout",
          "text": [
            "p-значение: 6.197219842784843e-247\n",
            "Необходимо отвергнуть нулевую гипотезу\n"
          ]
        }
      ]
    },
    {
      "cell_type": "code",
      "source": [
        "# Проверка гипотезы бутстрепом\n",
        "get_bootstrap(\n",
        "    a_with_coffee['ItemsNo'], # числовые значения первой выборки\n",
        "    b_no_coffee['ItemsNo'], # числовые значения второй выборки\n",
        "    boot_it = 1000, # количество бутстрэп-подвыборок\n",
        "    statistic = np.mean, # расчитываемая статистика\n",
        "    bootstrap_conf_level = 0.95,\n",
        "    alpha = 0.05 # уровень значимости\n",
        ")"
      ],
      "metadata": {
        "colab": {
          "base_uri": "https://localhost:8080/",
          "referenced_widgets": [
            "9255be9fd61d4fcfa1cf2df93895ed39",
            "b522d61e3c4748af99adea3d4e4ea082",
            "dbece7933ca440cb85d3aad2cbd74e90",
            "be3a17b9a1c74b49ad67c426e60b7192",
            "f5b030d86a524ff7a611ce78ce30cbdc",
            "eee377af4a3943aca8112efa88acfe29",
            "59a5452fcee247fca9c29953ccca0588",
            "41d1508a5f8f42cebda59318f85d2a24",
            "0b51a12ae2e24e4a88158c53cc0a652b",
            "aa695a6ea4164d1f94cf7a4cde5ca84c",
            "ad58d524831b4fd0a415d941379a20d3"
          ],
          "height": 500
        },
        "id": "k-mOL1AABTEY",
        "outputId": "4776018b-67e0-410c-d49e-726ae4e7663f"
      },
      "execution_count": 50,
      "outputs": [
        {
          "output_type": "display_data",
          "data": {
            "text/plain": [
              "  0%|          | 0/1000 [00:00<?, ?it/s]"
            ],
            "application/vnd.jupyter.widget-view+json": {
              "version_major": 2,
              "version_minor": 0,
              "model_id": "9255be9fd61d4fcfa1cf2df93895ed39"
            }
          },
          "metadata": {}
        },
        {
          "output_type": "display_data",
          "data": {
            "text/plain": [
              "<Figure size 720x288 with 1 Axes>"
            ],
            "image/png": "[encoded data removed]"
          },
          "metadata": {
            "needs_background": "dark"
          }
        },
        {
          "output_type": "stream",
          "name": "stdout",
          "text": [
            "\n",
            "Вероятность попадания среднего разностей двух выборок в доверительный интервал при верной H0: 6.138734183540678e-262 \n",
            "\n",
            "Необходимо отвергнуть нулевую гипотезу \n",
            "\n",
            "Границы доверительного интервала среднего разностей двух выборок               0\n",
            "0.025  0.798639\n",
            "0.975  0.894692 \n",
            "\n",
            "Среднее разностей значений в исследуемой выборке 0.8454007746780148\n"
          ]
        }
      ]
    },
    {
      "cell_type": "markdown",
      "source": [
        "Вывод: оба статистических теста и бутстраприрование показали значимые статистические различия в количестве строк в чеках с кофе и без. Наличие кофе в чеке способствует увеличению покупок в чеке."
      ],
      "metadata": {
        "id": "D1HOFXubNJM4"
      }
    },
    {
      "cell_type": "markdown",
      "source": [
        "### Количество строк в чеке днем больше чем утром"
      ],
      "metadata": {
        "id": "Obgec-9OQ8rY"
      }
    },
    {
      "cell_type": "code",
      "source": [
        "# Выборка утренних чеков\n",
        "a_morning = df.query('Daypart == \"Morning\"').groupby(\n",
        "    'TransactionNo').agg({'ItemsNo':'mean', 'coffee_flag':'mean'}).reset_index()\n",
        "a_morning[['ItemsNo', 'coffee_flag']] = a_morning[['ItemsNo', 'coffee_flag']].astype(int)\n",
        "a_morning.head(2)"
      ],
      "metadata": {
        "colab": {
          "base_uri": "https://localhost:8080/",
          "height": 112
        },
        "id": "LadDDfQfjO96",
        "outputId": "0f273671-a76c-4fbc-d013-8117099fe93d"
      },
      "execution_count": 51,
      "outputs": [
        {
          "output_type": "execute_result",
          "data": {
            "text/plain": [
              "   TransactionNo  ItemsNo  coffee_flag\n",
              "0              1        1            0\n",
              "1              2        2            0"
            ],
            "text/html": [
              "\n",
              "  <div id=\"df-ff3c0412-2482-4050-a95e-12ddb4538b81\">\n",
              "    <div class=\"colab-df-container\">\n",
              "      <div>\n",
              "<style scoped>\n",
              "    .dataframe tbody tr th:only-of-type {\n",
              "        vertical-align: middle;\n",
              "    }\n",
              "\n",
              "    .dataframe tbody tr th {\n",
              "        vertical-align: top;\n",
              "    }\n",
              "\n",
              "    .dataframe thead th {\n",
              "        text-align: right;\n",
              "    }\n",
              "</style>\n",
              "<table border=\"1\" class=\"dataframe\">\n",
              "  <thead>\n",
              "    <tr style=\"text-align: right;\">\n",
              "      <th></th>\n",
              "      <th>TransactionNo</th>\n",
              "      <th>ItemsNo</th>\n",
              "      <th>coffee_flag</th>\n",
              "    </tr>\n",
              "  </thead>\n",
              "  <tbody>\n",
              "    <tr>\n",
              "      <th>0</th>\n",
              "      <td>1</td>\n",
              "      <td>1</td>\n",
              "      <td>0</td>\n",
              "    </tr>\n",
              "    <tr>\n",
              "      <th>1</th>\n",
              "      <td>2</td>\n",
              "      <td>2</td>\n",
              "      <td>0</td>\n",
              "    </tr>\n",
              "  </tbody>\n",
              "</table>\n",
              "</div>\n",
              "      <button class=\"colab-df-convert\" onclick=\"convertToInteractive('df-ff3c0412-2482-4050-a95e-12ddb4538b81')\"\n",
              "              title=\"Convert this dataframe to an interactive table.\"\n",
              "              style=\"display:none;\">\n",
              "        \n",
              "  <svg xmlns=\"http://www.w3.org/2000/svg\" height=\"24px\"viewBox=\"0 0 24 24\"\n",
              "       width=\"24px\">\n",
              "    <path d=\"M0 0h24v24H0V0z\" fill=\"none\"/>\n",
              "    <path d=\"M18.56 5.44l.94 2.06.94-2.06 2.06-.94-2.06-.94-.94-2.06-.94 2.06-2.06.94zm-11 1L8.5 8.5l.94-2.06 2.06-.94-2.06-.94L8.5 2.5l-.94 2.06-2.06.94zm10 10l.94 2.06.94-2.06 2.06-.94-2.06-.94-.94-2.06-.94 2.06-2.06.94z\"/><path d=\"M17.41 7.96l-1.37-1.37c-.4-.4-.92-.59-1.43-.59-.52 0-1.04.2-1.43.59L10.3 9.45l-7.72 7.72c-.78.78-.78 2.05 0 2.83L4 21.41c.39.39.9.59 1.41.59.51 0 1.02-.2 1.41-.59l7.78-7.78 2.81-2.81c.8-.78.8-2.07 0-2.86zM5.41 20L4 18.59l7.72-7.72 1.47 1.35L5.41 20z\"/>\n",
              "  </svg>\n",
              "      </button>\n",
              "      \n",
              "  <style>\n",
              "    .colab-df-container {\n",
              "      display:flex;\n",
              "      flex-wrap:wrap;\n",
              "      gap: 12px;\n",
              "    }\n",
              "\n",
              "    .colab-df-convert {\n",
              "      background-color: #E8F0FE;\n",
              "      border: none;\n",
              "      border-radius: 50%;\n",
              "      cursor: pointer;\n",
              "      display: none;\n",
              "      fill: #1967D2;\n",
              "      height: 32px;\n",
              "      padding: 0 0 0 0;\n",
              "      width: 32px;\n",
              "    }\n",
              "\n",
              "    .colab-df-convert:hover {\n",
              "      background-color: #E2EBFA;\n",
              "      box-shadow: 0px 1px 2px rgba(60, 64, 67, 0.3), 0px 1px 3px 1px rgba(60, 64, 67, 0.15);\n",
              "      fill: #174EA6;\n",
              "    }\n",
              "\n",
              "    [theme=dark] .colab-df-convert {\n",
              "      background-color: #3B4455;\n",
              "      fill: #D2E3FC;\n",
              "    }\n",
              "\n",
              "    [theme=dark] .colab-df-convert:hover {\n",
              "      background-color: #434B5C;\n",
              "      box-shadow: 0px 1px 3px 1px rgba(0, 0, 0, 0.15);\n",
              "      filter: drop-shadow(0px 1px 2px rgba(0, 0, 0, 0.3));\n",
              "      fill: #FFFFFF;\n",
              "    }\n",
              "  </style>\n",
              "\n",
              "      <script>\n",
              "        const buttonEl =\n",
              "          document.querySelector('#df-ff3c0412-2482-4050-a95e-12ddb4538b81 button.colab-df-convert');\n",
              "        buttonEl.style.display =\n",
              "          google.colab.kernel.accessAllowed ? 'block' : 'none';\n",
              "\n",
              "        async function convertToInteractive(key) {\n",
              "          const element = document.querySelector('#df-ff3c0412-2482-4050-a95e-12ddb4538b81');\n",
              "          const dataTable =\n",
              "            await google.colab.kernel.invokeFunction('convertToInteractive',\n",
              "                                                     [key], {});\n",
              "          if (!dataTable) return;\n",
              "\n",
              "          const docLinkHtml = 'Like what you see? Visit the ' +\n",
              "            '<a target=\"_blank\" href=https://colab.research.google.com/notebooks/data_table.ipynb>data table notebook</a>'\n",
              "            + ' to learn more about interactive tables.';\n",
              "          element.innerHTML = '';\n",
              "          dataTable['output_type'] = 'display_data';\n",
              "          await google.colab.output.renderOutput(dataTable, element);\n",
              "          const docLink = document.createElement('div');\n",
              "          docLink.innerHTML = docLinkHtml;\n",
              "          element.appendChild(docLink);\n",
              "        }\n",
              "      </script>\n",
              "    </div>\n",
              "  </div>\n",
              "  "
            ]
          },
          "metadata": {},
          "execution_count": 51
        }
      ]
    },
    {
      "cell_type": "code",
      "source": [
        "# Выборка дневных чеков\n",
        "b_afternoon = df.query('Daypart == \"Afternoon\"').groupby(\n",
        "    'TransactionNo').agg({'ItemsNo':'mean', 'coffee_flag':'mean'}).reset_index()\n",
        "b_afternoon[['ItemsNo', 'coffee_flag']] = b_afternoon[['ItemsNo', 'coffee_flag']].astype(int)\n",
        "b_afternoon.head(2)"
      ],
      "metadata": {
        "colab": {
          "base_uri": "https://localhost:8080/",
          "height": 112
        },
        "id": "NdxI1EDHavoy",
        "outputId": "e5646c83-e684-4d62-8016-f190313cd707"
      },
      "execution_count": 52,
      "outputs": [
        {
          "output_type": "execute_result",
          "data": {
            "text/plain": [
              "   TransactionNo  ItemsNo  coffee_flag\n",
              "0             43        2            0\n",
              "1             44        2            1"
            ],
            "text/html": [
              "\n",
              "  <div id=\"df-6e1a8313-d6d8-4669-8508-7bda6c98f641\">\n",
              "    <div class=\"colab-df-container\">\n",
              "      <div>\n",
              "<style scoped>\n",
              "    .dataframe tbody tr th:only-of-type {\n",
              "        vertical-align: middle;\n",
              "    }\n",
              "\n",
              "    .dataframe tbody tr th {\n",
              "        vertical-align: top;\n",
              "    }\n",
              "\n",
              "    .dataframe thead th {\n",
              "        text-align: right;\n",
              "    }\n",
              "</style>\n",
              "<table border=\"1\" class=\"dataframe\">\n",
              "  <thead>\n",
              "    <tr style=\"text-align: right;\">\n",
              "      <th></th>\n",
              "      <th>TransactionNo</th>\n",
              "      <th>ItemsNo</th>\n",
              "      <th>coffee_flag</th>\n",
              "    </tr>\n",
              "  </thead>\n",
              "  <tbody>\n",
              "    <tr>\n",
              "      <th>0</th>\n",
              "      <td>43</td>\n",
              "      <td>2</td>\n",
              "      <td>0</td>\n",
              "    </tr>\n",
              "    <tr>\n",
              "      <th>1</th>\n",
              "      <td>44</td>\n",
              "      <td>2</td>\n",
              "      <td>1</td>\n",
              "    </tr>\n",
              "  </tbody>\n",
              "</table>\n",
              "</div>\n",
              "      <button class=\"colab-df-convert\" onclick=\"convertToInteractive('df-6e1a8313-d6d8-4669-8508-7bda6c98f641')\"\n",
              "              title=\"Convert this dataframe to an interactive table.\"\n",
              "              style=\"display:none;\">\n",
              "        \n",
              "  <svg xmlns=\"http://www.w3.org/2000/svg\" height=\"24px\"viewBox=\"0 0 24 24\"\n",
              "       width=\"24px\">\n",
              "    <path d=\"M0 0h24v24H0V0z\" fill=\"none\"/>\n",
              "    <path d=\"M18.56 5.44l.94 2.06.94-2.06 2.06-.94-2.06-.94-.94-2.06-.94 2.06-2.06.94zm-11 1L8.5 8.5l.94-2.06 2.06-.94-2.06-.94L8.5 2.5l-.94 2.06-2.06.94zm10 10l.94 2.06.94-2.06 2.06-.94-2.06-.94-.94-2.06-.94 2.06-2.06.94z\"/><path d=\"M17.41 7.96l-1.37-1.37c-.4-.4-.92-.59-1.43-.59-.52 0-1.04.2-1.43.59L10.3 9.45l-7.72 7.72c-.78.78-.78 2.05 0 2.83L4 21.41c.39.39.9.59 1.41.59.51 0 1.02-.2 1.41-.59l7.78-7.78 2.81-2.81c.8-.78.8-2.07 0-2.86zM5.41 20L4 18.59l7.72-7.72 1.47 1.35L5.41 20z\"/>\n",
              "  </svg>\n",
              "      </button>\n",
              "      \n",
              "  <style>\n",
              "    .colab-df-container {\n",
              "      display:flex;\n",
              "      flex-wrap:wrap;\n",
              "      gap: 12px;\n",
              "    }\n",
              "\n",
              "    .colab-df-convert {\n",
              "      background-color: #E8F0FE;\n",
              "      border: none;\n",
              "      border-radius: 50%;\n",
              "      cursor: pointer;\n",
              "      display: none;\n",
              "      fill: #1967D2;\n",
              "      height: 32px;\n",
              "      padding: 0 0 0 0;\n",
              "      width: 32px;\n",
              "    }\n",
              "\n",
              "    .colab-df-convert:hover {\n",
              "      background-color: #E2EBFA;\n",
              "      box-shadow: 0px 1px 2px rgba(60, 64, 67, 0.3), 0px 1px 3px 1px rgba(60, 64, 67, 0.15);\n",
              "      fill: #174EA6;\n",
              "    }\n",
              "\n",
              "    [theme=dark] .colab-df-convert {\n",
              "      background-color: #3B4455;\n",
              "      fill: #D2E3FC;\n",
              "    }\n",
              "\n",
              "    [theme=dark] .colab-df-convert:hover {\n",
              "      background-color: #434B5C;\n",
              "      box-shadow: 0px 1px 3px 1px rgba(0, 0, 0, 0.15);\n",
              "      filter: drop-shadow(0px 1px 2px rgba(0, 0, 0, 0.3));\n",
              "      fill: #FFFFFF;\n",
              "    }\n",
              "  </style>\n",
              "\n",
              "      <script>\n",
              "        const buttonEl =\n",
              "          document.querySelector('#df-6e1a8313-d6d8-4669-8508-7bda6c98f641 button.colab-df-convert');\n",
              "        buttonEl.style.display =\n",
              "          google.colab.kernel.accessAllowed ? 'block' : 'none';\n",
              "\n",
              "        async function convertToInteractive(key) {\n",
              "          const element = document.querySelector('#df-6e1a8313-d6d8-4669-8508-7bda6c98f641');\n",
              "          const dataTable =\n",
              "            await google.colab.kernel.invokeFunction('convertToInteractive',\n",
              "                                                     [key], {});\n",
              "          if (!dataTable) return;\n",
              "\n",
              "          const docLinkHtml = 'Like what you see? Visit the ' +\n",
              "            '<a target=\"_blank\" href=https://colab.research.google.com/notebooks/data_table.ipynb>data table notebook</a>'\n",
              "            + ' to learn more about interactive tables.';\n",
              "          element.innerHTML = '';\n",
              "          dataTable['output_type'] = 'display_data';\n",
              "          await google.colab.output.renderOutput(dataTable, element);\n",
              "          const docLink = document.createElement('div');\n",
              "          docLink.innerHTML = docLinkHtml;\n",
              "          element.appendChild(docLink);\n",
              "        }\n",
              "      </script>\n",
              "    </div>\n",
              "  </div>\n",
              "  "
            ]
          },
          "metadata": {},
          "execution_count": 52
        }
      ]
    },
    {
      "cell_type": "code",
      "source": [
        "# Группировка количества чеков по времени суток\n",
        "daypart_metrics = df.groupby('Daypart').agg({'TransactionNo':'nunique'}).reset_index()\n",
        "daypart_metrics['Share'] = (daypart_metrics['TransactionNo'] / daypart_metrics['TransactionNo'].sum())*100\n",
        "daypart_metrics"
      ],
      "metadata": {
        "colab": {
          "base_uri": "https://localhost:8080/",
          "height": 112
        },
        "outputId": "5aef4d3a-cef7-4bc7-93d7-26012ac00008",
        "id": "jEJr-PdlR-74"
      },
      "execution_count": 53,
      "outputs": [
        {
          "output_type": "execute_result",
          "data": {
            "text/plain": [
              "     Daypart  TransactionNo      Share\n",
              "0  Afternoon           5089  55.369383\n",
              "1    Morning           4102  44.630617"
            ],
            "text/html": [
              "\n",
              "  <div id=\"df-d3590365-5e1f-4d6d-97aa-239fc1740d6b\">\n",
              "    <div class=\"colab-df-container\">\n",
              "      <div>\n",
              "<style scoped>\n",
              "    .dataframe tbody tr th:only-of-type {\n",
              "        vertical-align: middle;\n",
              "    }\n",
              "\n",
              "    .dataframe tbody tr th {\n",
              "        vertical-align: top;\n",
              "    }\n",
              "\n",
              "    .dataframe thead th {\n",
              "        text-align: right;\n",
              "    }\n",
              "</style>\n",
              "<table border=\"1\" class=\"dataframe\">\n",
              "  <thead>\n",
              "    <tr style=\"text-align: right;\">\n",
              "      <th></th>\n",
              "      <th>Daypart</th>\n",
              "      <th>TransactionNo</th>\n",
              "      <th>Share</th>\n",
              "    </tr>\n",
              "  </thead>\n",
              "  <tbody>\n",
              "    <tr>\n",
              "      <th>0</th>\n",
              "      <td>Afternoon</td>\n",
              "      <td>5089</td>\n",
              "      <td>55.369383</td>\n",
              "    </tr>\n",
              "    <tr>\n",
              "      <th>1</th>\n",
              "      <td>Morning</td>\n",
              "      <td>4102</td>\n",
              "      <td>44.630617</td>\n",
              "    </tr>\n",
              "  </tbody>\n",
              "</table>\n",
              "</div>\n",
              "      <button class=\"colab-df-convert\" onclick=\"convertToInteractive('df-d3590365-5e1f-4d6d-97aa-239fc1740d6b')\"\n",
              "              title=\"Convert this dataframe to an interactive table.\"\n",
              "              style=\"display:none;\">\n",
              "        \n",
              "  <svg xmlns=\"http://www.w3.org/2000/svg\" height=\"24px\"viewBox=\"0 0 24 24\"\n",
              "       width=\"24px\">\n",
              "    <path d=\"M0 0h24v24H0V0z\" fill=\"none\"/>\n",
              "    <path d=\"M18.56 5.44l.94 2.06.94-2.06 2.06-.94-2.06-.94-.94-2.06-.94 2.06-2.06.94zm-11 1L8.5 8.5l.94-2.06 2.06-.94-2.06-.94L8.5 2.5l-.94 2.06-2.06.94zm10 10l.94 2.06.94-2.06 2.06-.94-2.06-.94-.94-2.06-.94 2.06-2.06.94z\"/><path d=\"M17.41 7.96l-1.37-1.37c-.4-.4-.92-.59-1.43-.59-.52 0-1.04.2-1.43.59L10.3 9.45l-7.72 7.72c-.78.78-.78 2.05 0 2.83L4 21.41c.39.39.9.59 1.41.59.51 0 1.02-.2 1.41-.59l7.78-7.78 2.81-2.81c.8-.78.8-2.07 0-2.86zM5.41 20L4 18.59l7.72-7.72 1.47 1.35L5.41 20z\"/>\n",
              "  </svg>\n",
              "      </button>\n",
              "      \n",
              "  <style>\n",
              "    .colab-df-container {\n",
              "      display:flex;\n",
              "      flex-wrap:wrap;\n",
              "      gap: 12px;\n",
              "    }\n",
              "\n",
              "    .colab-df-convert {\n",
              "      background-color: #E8F0FE;\n",
              "      border: none;\n",
              "      border-radius: 50%;\n",
              "      cursor: pointer;\n",
              "      display: none;\n",
              "      fill: #1967D2;\n",
              "      height: 32px;\n",
              "      padding: 0 0 0 0;\n",
              "      width: 32px;\n",
              "    }\n",
              "\n",
              "    .colab-df-convert:hover {\n",
              "      background-color: #E2EBFA;\n",
              "      box-shadow: 0px 1px 2px rgba(60, 64, 67, 0.3), 0px 1px 3px 1px rgba(60, 64, 67, 0.15);\n",
              "      fill: #174EA6;\n",
              "    }\n",
              "\n",
              "    [theme=dark] .colab-df-convert {\n",
              "      background-color: #3B4455;\n",
              "      fill: #D2E3FC;\n",
              "    }\n",
              "\n",
              "    [theme=dark] .colab-df-convert:hover {\n",
              "      background-color: #434B5C;\n",
              "      box-shadow: 0px 1px 3px 1px rgba(0, 0, 0, 0.15);\n",
              "      filter: drop-shadow(0px 1px 2px rgba(0, 0, 0, 0.3));\n",
              "      fill: #FFFFFF;\n",
              "    }\n",
              "  </style>\n",
              "\n",
              "      <script>\n",
              "        const buttonEl =\n",
              "          document.querySelector('#df-d3590365-5e1f-4d6d-97aa-239fc1740d6b button.colab-df-convert');\n",
              "        buttonEl.style.display =\n",
              "          google.colab.kernel.accessAllowed ? 'block' : 'none';\n",
              "\n",
              "        async function convertToInteractive(key) {\n",
              "          const element = document.querySelector('#df-d3590365-5e1f-4d6d-97aa-239fc1740d6b');\n",
              "          const dataTable =\n",
              "            await google.colab.kernel.invokeFunction('convertToInteractive',\n",
              "                                                     [key], {});\n",
              "          if (!dataTable) return;\n",
              "\n",
              "          const docLinkHtml = 'Like what you see? Visit the ' +\n",
              "            '<a target=\"_blank\" href=https://colab.research.google.com/notebooks/data_table.ipynb>data table notebook</a>'\n",
              "            + ' to learn more about interactive tables.';\n",
              "          element.innerHTML = '';\n",
              "          dataTable['output_type'] = 'display_data';\n",
              "          await google.colab.output.renderOutput(dataTable, element);\n",
              "          const docLink = document.createElement('div');\n",
              "          docLink.innerHTML = docLinkHtml;\n",
              "          element.appendChild(docLink);\n",
              "        }\n",
              "      </script>\n",
              "    </div>\n",
              "  </div>\n",
              "  "
            ]
          },
          "metadata": {},
          "execution_count": 53
        }
      ]
    },
    {
      "cell_type": "code",
      "source": [
        "# Статистики групп с кофе и без\n",
        "daypart_statistics = pd.merge(a_morning['ItemsNo'].describe().to_frame(), b_afternoon['ItemsNo'].describe().to_frame(),left_index=True, right_index=True)\n",
        "daypart_statistics.columns=['with_coffee','no_coffee']\n",
        "daypart_statistics"
      ],
      "metadata": {
        "colab": {
          "base_uri": "https://localhost:8080/",
          "height": 300
        },
        "outputId": "66c3958f-2240-4f6c-a9cb-dcf2c51d924e",
        "id": "Jc1xH_QMSPuC"
      },
      "execution_count": 54,
      "outputs": [
        {
          "output_type": "execute_result",
          "data": {
            "text/plain": [
              "       with_coffee    no_coffee\n",
              "count  4102.000000  5089.000000\n",
              "mean      2.048513     2.273335\n",
              "std       1.172653     1.383073\n",
              "min       1.000000     1.000000\n",
              "25%       1.000000     1.000000\n",
              "50%       2.000000     2.000000\n",
              "75%       3.000000     3.000000\n",
              "max      10.000000    11.000000"
            ],
            "text/html": [
              "\n",
              "  <div id=\"df-ebe6ddb5-b251-44a6-b4e0-bb72b4d23445\">\n",
              "    <div class=\"colab-df-container\">\n",
              "      <div>\n",
              "<style scoped>\n",
              "    .dataframe tbody tr th:only-of-type {\n",
              "        vertical-align: middle;\n",
              "    }\n",
              "\n",
              "    .dataframe tbody tr th {\n",
              "        vertical-align: top;\n",
              "    }\n",
              "\n",
              "    .dataframe thead th {\n",
              "        text-align: right;\n",
              "    }\n",
              "</style>\n",
              "<table border=\"1\" class=\"dataframe\">\n",
              "  <thead>\n",
              "    <tr style=\"text-align: right;\">\n",
              "      <th></th>\n",
              "      <th>with_coffee</th>\n",
              "      <th>no_coffee</th>\n",
              "    </tr>\n",
              "  </thead>\n",
              "  <tbody>\n",
              "    <tr>\n",
              "      <th>count</th>\n",
              "      <td>4102.000000</td>\n",
              "      <td>5089.000000</td>\n",
              "    </tr>\n",
              "    <tr>\n",
              "      <th>mean</th>\n",
              "      <td>2.048513</td>\n",
              "      <td>2.273335</td>\n",
              "    </tr>\n",
              "    <tr>\n",
              "      <th>std</th>\n",
              "      <td>1.172653</td>\n",
              "      <td>1.383073</td>\n",
              "    </tr>\n",
              "    <tr>\n",
              "      <th>min</th>\n",
              "      <td>1.000000</td>\n",
              "      <td>1.000000</td>\n",
              "    </tr>\n",
              "    <tr>\n",
              "      <th>25%</th>\n",
              "      <td>1.000000</td>\n",
              "      <td>1.000000</td>\n",
              "    </tr>\n",
              "    <tr>\n",
              "      <th>50%</th>\n",
              "      <td>2.000000</td>\n",
              "      <td>2.000000</td>\n",
              "    </tr>\n",
              "    <tr>\n",
              "      <th>75%</th>\n",
              "      <td>3.000000</td>\n",
              "      <td>3.000000</td>\n",
              "    </tr>\n",
              "    <tr>\n",
              "      <th>max</th>\n",
              "      <td>10.000000</td>\n",
              "      <td>11.000000</td>\n",
              "    </tr>\n",
              "  </tbody>\n",
              "</table>\n",
              "</div>\n",
              "      <button class=\"colab-df-convert\" onclick=\"convertToInteractive('df-ebe6ddb5-b251-44a6-b4e0-bb72b4d23445')\"\n",
              "              title=\"Convert this dataframe to an interactive table.\"\n",
              "              style=\"display:none;\">\n",
              "        \n",
              "  <svg xmlns=\"http://www.w3.org/2000/svg\" height=\"24px\"viewBox=\"0 0 24 24\"\n",
              "       width=\"24px\">\n",
              "    <path d=\"M0 0h24v24H0V0z\" fill=\"none\"/>\n",
              "    <path d=\"M18.56 5.44l.94 2.06.94-2.06 2.06-.94-2.06-.94-.94-2.06-.94 2.06-2.06.94zm-11 1L8.5 8.5l.94-2.06 2.06-.94-2.06-.94L8.5 2.5l-.94 2.06-2.06.94zm10 10l.94 2.06.94-2.06 2.06-.94-2.06-.94-.94-2.06-.94 2.06-2.06.94z\"/><path d=\"M17.41 7.96l-1.37-1.37c-.4-.4-.92-.59-1.43-.59-.52 0-1.04.2-1.43.59L10.3 9.45l-7.72 7.72c-.78.78-.78 2.05 0 2.83L4 21.41c.39.39.9.59 1.41.59.51 0 1.02-.2 1.41-.59l7.78-7.78 2.81-2.81c.8-.78.8-2.07 0-2.86zM5.41 20L4 18.59l7.72-7.72 1.47 1.35L5.41 20z\"/>\n",
              "  </svg>\n",
              "      </button>\n",
              "      \n",
              "  <style>\n",
              "    .colab-df-container {\n",
              "      display:flex;\n",
              "      flex-wrap:wrap;\n",
              "      gap: 12px;\n",
              "    }\n",
              "\n",
              "    .colab-df-convert {\n",
              "      background-color: #E8F0FE;\n",
              "      border: none;\n",
              "      border-radius: 50%;\n",
              "      cursor: pointer;\n",
              "      display: none;\n",
              "      fill: #1967D2;\n",
              "      height: 32px;\n",
              "      padding: 0 0 0 0;\n",
              "      width: 32px;\n",
              "    }\n",
              "\n",
              "    .colab-df-convert:hover {\n",
              "      background-color: #E2EBFA;\n",
              "      box-shadow: 0px 1px 2px rgba(60, 64, 67, 0.3), 0px 1px 3px 1px rgba(60, 64, 67, 0.15);\n",
              "      fill: #174EA6;\n",
              "    }\n",
              "\n",
              "    [theme=dark] .colab-df-convert {\n",
              "      background-color: #3B4455;\n",
              "      fill: #D2E3FC;\n",
              "    }\n",
              "\n",
              "    [theme=dark] .colab-df-convert:hover {\n",
              "      background-color: #434B5C;\n",
              "      box-shadow: 0px 1px 3px 1px rgba(0, 0, 0, 0.15);\n",
              "      filter: drop-shadow(0px 1px 2px rgba(0, 0, 0, 0.3));\n",
              "      fill: #FFFFFF;\n",
              "    }\n",
              "  </style>\n",
              "\n",
              "      <script>\n",
              "        const buttonEl =\n",
              "          document.querySelector('#df-ebe6ddb5-b251-44a6-b4e0-bb72b4d23445 button.colab-df-convert');\n",
              "        buttonEl.style.display =\n",
              "          google.colab.kernel.accessAllowed ? 'block' : 'none';\n",
              "\n",
              "        async function convertToInteractive(key) {\n",
              "          const element = document.querySelector('#df-ebe6ddb5-b251-44a6-b4e0-bb72b4d23445');\n",
              "          const dataTable =\n",
              "            await google.colab.kernel.invokeFunction('convertToInteractive',\n",
              "                                                     [key], {});\n",
              "          if (!dataTable) return;\n",
              "\n",
              "          const docLinkHtml = 'Like what you see? Visit the ' +\n",
              "            '<a target=\"_blank\" href=https://colab.research.google.com/notebooks/data_table.ipynb>data table notebook</a>'\n",
              "            + ' to learn more about interactive tables.';\n",
              "          element.innerHTML = '';\n",
              "          dataTable['output_type'] = 'display_data';\n",
              "          await google.colab.output.renderOutput(dataTable, element);\n",
              "          const docLink = document.createElement('div');\n",
              "          docLink.innerHTML = docLinkHtml;\n",
              "          element.appendChild(docLink);\n",
              "        }\n",
              "      </script>\n",
              "    </div>\n",
              "  </div>\n",
              "  "
            ]
          },
          "metadata": {},
          "execution_count": 54
        }
      ]
    },
    {
      "cell_type": "code",
      "source": [
        "dist_evaluation(\n",
        "    a_morning['ItemsNo'],\n",
        "    b_afternoon['ItemsNo'],\n",
        "    'Распределение количества строк в чеке утром и днем',\n",
        "    'Утро',\n",
        "    'День'\n",
        ")"
      ],
      "metadata": {
        "colab": {
          "base_uri": "https://localhost:8080/",
          "height": 554
        },
        "id": "Vgbl_PxbZkj7",
        "outputId": "c290bdce-08ce-46a9-9b9a-c244613ef8ee"
      },
      "execution_count": 55,
      "outputs": [
        {
          "output_type": "display_data",
          "data": {
            "text/plain": [
              "<Figure size 1008x576 with 4 Axes>"
            ],
            "image/png": "[encoded data removed]"
          },
          "metadata": {}
        }
      ]
    },
    {
      "cell_type": "markdown",
      "source": [
        "Распределение количества строк в утренней и вечерней выборке также не похоже на нормальное, поэтому нужно проверить распределение среднего выборок путем сэмплирования."
      ],
      "metadata": {
        "id": "sZifOxlwkIj-"
      }
    },
    {
      "cell_type": "code",
      "source": [
        "# Получение ряда средних значений 1000 сэмплов в каждой группе\n",
        "a2 = pd.Series([a_morning['ItemsNo'].sample(4102, replace=True).mean() for _ in range(1000)])\n",
        "b2 = pd.Series([b_afternoon['ItemsNo'].sample(5089, replace=True).mean() for _ in range(1000)])"
      ],
      "metadata": {
        "id": "cK5QA6-Ohz0d"
      },
      "execution_count": 56,
      "outputs": []
    },
    {
      "cell_type": "code",
      "source": [
        "dist_evaluation(\n",
        "    a2,\n",
        "    b2,\n",
        "    'Распределение среднего количества строк в чеке утром и днем',\n",
        "    'Утро',\n",
        "    'День'\n",
        ")"
      ],
      "metadata": {
        "colab": {
          "base_uri": "https://localhost:8080/",
          "height": 554
        },
        "id": "DTG8malvaHZe",
        "outputId": "5e55e15d-bc75-4aba-ce18-8795cc57a2d3"
      },
      "execution_count": 57,
      "outputs": [
        {
          "output_type": "display_data",
          "data": {
            "text/plain": [
              "<Figure size 1008x576 with 4 Axes>"
            ],
            "image/png": "[encoded data removed]"
          },
          "metadata": {}
        }
      ]
    },
    {
      "cell_type": "markdown",
      "source": [
        "Распределение средних в выборках после сэмплирования выглядит близко к нормальном. Возможно применение Т теста в модификации Уэлча, с параметром разности дисперсий, после проверки их тестом Левне."
      ],
      "metadata": {
        "id": "kZElIMZZTKQB"
      }
    },
    {
      "cell_type": "markdown",
      "source": [
        "Распределение средних в выборках после сэмплирования выглядит близко к нормальном. Возможно применение Т теста в модификации Уэлча, с параметром разности дисперсий, после проверки их тестом Левне."
      ],
      "metadata": {
        "id": "O301FYSlj1OU"
      }
    },
    {
      "cell_type": "markdown",
      "source": [
        "***ГИПОТЕЗА***\n",
        "\n",
        "<br>**H0** - среднее количество строк в чеках утром и днем не различаются\n",
        "<br>**H1** - среднее количество строк в чеках утром и днем различаются\n",
        "\n",
        "<br>Уровень статистической значимости - 95\n",
        "\n"
      ],
      "metadata": {
        "id": "umKNL1V6Tgxn"
      }
    },
    {
      "cell_type": "code",
      "source": [
        "# Проверка равенства дисперсий тестом Левене\n",
        "levene_test(a_morning['ItemsNo'], b_afternoon['ItemsNo'], 0.05)"
      ],
      "metadata": {
        "colab": {
          "base_uri": "https://localhost:8080/"
        },
        "id": "be6Dqvmbac4z",
        "outputId": "01605278-0107-4bb8-de53-f67210d8db47"
      },
      "execution_count": 58,
      "outputs": [
        {
          "output_type": "stream",
          "name": "stdout",
          "text": [
            "p-значение: 2.2943074543600556e-38\n",
            "Необходимо отвергнуть нулевую гипотезу о равенстве дисперсий популяций из которых взяты выборки\n"
          ]
        }
      ]
    },
    {
      "cell_type": "markdown",
      "source": [
        "Тест на эквивалентность дисперсий также показал статистические различия, поэтому Т тест в этом случае будет также с параметром qual_var=False"
      ],
      "metadata": {
        "id": "qlHJzklFUGKZ"
      }
    },
    {
      "cell_type": "code",
      "source": [
        "# Проверка гипотезы Т тестом для выборок с разной дисперсией\n",
        "t_test(a_morning['ItemsNo'], b_afternoon['ItemsNo'], 0.05)"
      ],
      "metadata": {
        "colab": {
          "base_uri": "https://localhost:8080/"
        },
        "id": "KYvyYLQ7av6c",
        "outputId": "a9130d5f-238d-415d-c765-daea8dc05f17"
      },
      "execution_count": 59,
      "outputs": [
        {
          "output_type": "stream",
          "name": "stdout",
          "text": [
            "p-значение: 1.194160338308203e-220\n",
            "Необходимо отвергнуть нулевую гипотезу\n"
          ]
        }
      ]
    },
    {
      "cell_type": "code",
      "source": [
        "# Проверка гипотезы тестом Манна-Уитни\n",
        "test_mw(a_morning['ItemsNo'], b_afternoon['ItemsNo'], 0.05)"
      ],
      "metadata": {
        "colab": {
          "base_uri": "https://localhost:8080/"
        },
        "id": "ybKC-trHa3Db",
        "outputId": "13865e1e-a1ae-4537-fd26-b904d4f167f6"
      },
      "execution_count": 60,
      "outputs": [
        {
          "output_type": "stream",
          "name": "stdout",
          "text": [
            "p-значение: 6.197219842784843e-247\n",
            "Необходимо отвергнуть нулевую гипотезу\n"
          ]
        }
      ]
    },
    {
      "cell_type": "code",
      "source": [
        "# Проверка гипотезы бутстрепом\n",
        "get_bootstrap(\n",
        "    b_afternoon['ItemsNo'], # числовые значения первой выборки\n",
        "    a_morning['ItemsNo'], # числовые значения второй выборки\n",
        "    boot_it = 1000, # количество бутстрэп-подвыборок\n",
        "    statistic = np.mean, # расчитываемая статистика\n",
        "    bootstrap_conf_level = 0.95,\n",
        "    alpha = 0.05 # уровень значимости\n",
        ")"
      ],
      "metadata": {
        "colab": {
          "base_uri": "https://localhost:8080/",
          "height": 500,
          "referenced_widgets": [
            "356de714c5d14503a2015ed61eb616af",
            "db036bfadb6c4a88a9935e5b0cfe33d7",
            "2910445c2233483ca1b5e1d18e015d16",
            "824f3c848ece414fb7e84a4f72e82640",
            "9ca12e17bb594acaa7e57d56630a0cd7",
            "3d2af20dda494aff9221f132fea2bee6",
            "915655fd7922477eb1156f864c21ec4b",
            "9e1f5b4fb8ce4929a98e69073419615f",
            "55fad7e24772403b9dcbcb643b89f9c9",
            "25e8e9d2f69d4675b79e4e4b112f3ae8",
            "935a00ce8f7d45c696e2750e6e489e6f"
          ]
        },
        "id": "VUHP0rp8bF1t",
        "outputId": "23777975-7eba-48df-f433-0c996098bec2"
      },
      "execution_count": 61,
      "outputs": [
        {
          "output_type": "display_data",
          "data": {
            "text/plain": [
              "  0%|          | 0/1000 [00:00<?, ?it/s]"
            ],
            "application/vnd.jupyter.widget-view+json": {
              "version_major": 2,
              "version_minor": 0,
              "model_id": "356de714c5d14503a2015ed61eb616af"
            }
          },
          "metadata": {}
        },
        {
          "output_type": "display_data",
          "data": {
            "text/plain": [
              "<Figure size 720x288 with 1 Axes>"
            ],
            "image/png": "[encoded data removed]"
          },
          "metadata": {}
        },
        {
          "output_type": "stream",
          "name": "stdout",
          "text": [
            "\n",
            "Вероятность попадания среднего разностей двух выборок в доверительный интервал при верной H0: 7.669071430218035e-19 \n",
            "\n",
            "Необходимо отвергнуть нулевую гипотезу \n",
            "\n",
            "Границы доверительного интервала среднего разностей двух выборок               0\n",
            "0.025  0.174887\n",
            "0.975  0.273364 \n",
            "\n",
            "Среднее разностей значений в исследуемой выборке 0.2248217228218259\n"
          ]
        }
      ]
    },
    {
      "cell_type": "markdown",
      "source": [
        "Вывод: оба статистических теста и бутстрапирование показали сильные статистические различия между средними количества чеков утром и днем. Дневные чеки имеют больше строк, люди покупают больше и увеличивают чек по количеству позиций в дневные часы."
      ],
      "metadata": {
        "id": "HsRZz4oYU_J7"
      }
    },
    {
      "cell_type": "markdown",
      "source": [
        "### Количество линий в чеке с кофе днем больше чем утром"
      ],
      "metadata": {
        "id": "MPMVDt31bqRq"
      }
    },
    {
      "cell_type": "markdown",
      "source": [
        "ГИПОТЕЗА\n",
        "\n",
        "\n",
        "H0 - среднее количество строк в чеках с кофе утром и днем не различаются\n",
        "<br>H1 - среднее количество строк в чеках с кофе утром и днем различаются\n",
        "\n",
        "\n",
        "Уровень статистической значимости - 95"
      ],
      "metadata": {
        "id": "Z5ZEY6tmcSkh"
      }
    },
    {
      "cell_type": "code",
      "source": [
        "# Группировка утренних чеков по наличию кофе в чеке\n",
        "morning_coffee = a_morning.groupby('coffee_flag').agg({'ItemsNo':['count','mean']}).reset_index()\n",
        "morning_coffee.columns = ['coffee_flag', 'qty', 'lines_mean']\n",
        "morning_coffee['share'] = morning_coffee['qty'] / morning_coffee['qty'].sum()\n",
        "morning_coffee"
      ],
      "metadata": {
        "colab": {
          "base_uri": "https://localhost:8080/",
          "height": 112
        },
        "id": "_aB4eKgJ8xiO",
        "outputId": "8148916e-80d5-4974-957b-33e140624dcc"
      },
      "execution_count": 62,
      "outputs": [
        {
          "output_type": "execute_result",
          "data": {
            "text/plain": [
              "   coffee_flag   qty  lines_mean     share\n",
              "0            0  1989    1.665661  0.484885\n",
              "1            1  2113    2.408897  0.515115"
            ],
            "text/html": [
              "\n",
              "  <div id=\"df-0470ce4a-452b-4b3c-88c8-8991a4a8c62f\">\n",
              "    <div class=\"colab-df-container\">\n",
              "      <div>\n",
              "<style scoped>\n",
              "    .dataframe tbody tr th:only-of-type {\n",
              "        vertical-align: middle;\n",
              "    }\n",
              "\n",
              "    .dataframe tbody tr th {\n",
              "        vertical-align: top;\n",
              "    }\n",
              "\n",
              "    .dataframe thead th {\n",
              "        text-align: right;\n",
              "    }\n",
              "</style>\n",
              "<table border=\"1\" class=\"dataframe\">\n",
              "  <thead>\n",
              "    <tr style=\"text-align: right;\">\n",
              "      <th></th>\n",
              "      <th>coffee_flag</th>\n",
              "      <th>qty</th>\n",
              "      <th>lines_mean</th>\n",
              "      <th>share</th>\n",
              "    </tr>\n",
              "  </thead>\n",
              "  <tbody>\n",
              "    <tr>\n",
              "      <th>0</th>\n",
              "      <td>0</td>\n",
              "      <td>1989</td>\n",
              "      <td>1.665661</td>\n",
              "      <td>0.484885</td>\n",
              "    </tr>\n",
              "    <tr>\n",
              "      <th>1</th>\n",
              "      <td>1</td>\n",
              "      <td>2113</td>\n",
              "      <td>2.408897</td>\n",
              "      <td>0.515115</td>\n",
              "    </tr>\n",
              "  </tbody>\n",
              "</table>\n",
              "</div>\n",
              "      <button class=\"colab-df-convert\" onclick=\"convertToInteractive('df-0470ce4a-452b-4b3c-88c8-8991a4a8c62f')\"\n",
              "              title=\"Convert this dataframe to an interactive table.\"\n",
              "              style=\"display:none;\">\n",
              "        \n",
              "  <svg xmlns=\"http://www.w3.org/2000/svg\" height=\"24px\"viewBox=\"0 0 24 24\"\n",
              "       width=\"24px\">\n",
              "    <path d=\"M0 0h24v24H0V0z\" fill=\"none\"/>\n",
              "    <path d=\"M18.56 5.44l.94 2.06.94-2.06 2.06-.94-2.06-.94-.94-2.06-.94 2.06-2.06.94zm-11 1L8.5 8.5l.94-2.06 2.06-.94-2.06-.94L8.5 2.5l-.94 2.06-2.06.94zm10 10l.94 2.06.94-2.06 2.06-.94-2.06-.94-.94-2.06-.94 2.06-2.06.94z\"/><path d=\"M17.41 7.96l-1.37-1.37c-.4-.4-.92-.59-1.43-.59-.52 0-1.04.2-1.43.59L10.3 9.45l-7.72 7.72c-.78.78-.78 2.05 0 2.83L4 21.41c.39.39.9.59 1.41.59.51 0 1.02-.2 1.41-.59l7.78-7.78 2.81-2.81c.8-.78.8-2.07 0-2.86zM5.41 20L4 18.59l7.72-7.72 1.47 1.35L5.41 20z\"/>\n",
              "  </svg>\n",
              "      </button>\n",
              "      \n",
              "  <style>\n",
              "    .colab-df-container {\n",
              "      display:flex;\n",
              "      flex-wrap:wrap;\n",
              "      gap: 12px;\n",
              "    }\n",
              "\n",
              "    .colab-df-convert {\n",
              "      background-color: #E8F0FE;\n",
              "      border: none;\n",
              "      border-radius: 50%;\n",
              "      cursor: pointer;\n",
              "      display: none;\n",
              "      fill: #1967D2;\n",
              "      height: 32px;\n",
              "      padding: 0 0 0 0;\n",
              "      width: 32px;\n",
              "    }\n",
              "\n",
              "    .colab-df-convert:hover {\n",
              "      background-color: #E2EBFA;\n",
              "      box-shadow: 0px 1px 2px rgba(60, 64, 67, 0.3), 0px 1px 3px 1px rgba(60, 64, 67, 0.15);\n",
              "      fill: #174EA6;\n",
              "    }\n",
              "\n",
              "    [theme=dark] .colab-df-convert {\n",
              "      background-color: #3B4455;\n",
              "      fill: #D2E3FC;\n",
              "    }\n",
              "\n",
              "    [theme=dark] .colab-df-convert:hover {\n",
              "      background-color: #434B5C;\n",
              "      box-shadow: 0px 1px 3px 1px rgba(0, 0, 0, 0.15);\n",
              "      filter: drop-shadow(0px 1px 2px rgba(0, 0, 0, 0.3));\n",
              "      fill: #FFFFFF;\n",
              "    }\n",
              "  </style>\n",
              "\n",
              "      <script>\n",
              "        const buttonEl =\n",
              "          document.querySelector('#df-0470ce4a-452b-4b3c-88c8-8991a4a8c62f button.colab-df-convert');\n",
              "        buttonEl.style.display =\n",
              "          google.colab.kernel.accessAllowed ? 'block' : 'none';\n",
              "\n",
              "        async function convertToInteractive(key) {\n",
              "          const element = document.querySelector('#df-0470ce4a-452b-4b3c-88c8-8991a4a8c62f');\n",
              "          const dataTable =\n",
              "            await google.colab.kernel.invokeFunction('convertToInteractive',\n",
              "                                                     [key], {});\n",
              "          if (!dataTable) return;\n",
              "\n",
              "          const docLinkHtml = 'Like what you see? Visit the ' +\n",
              "            '<a target=\"_blank\" href=https://colab.research.google.com/notebooks/data_table.ipynb>data table notebook</a>'\n",
              "            + ' to learn more about interactive tables.';\n",
              "          element.innerHTML = '';\n",
              "          dataTable['output_type'] = 'display_data';\n",
              "          await google.colab.output.renderOutput(dataTable, element);\n",
              "          const docLink = document.createElement('div');\n",
              "          docLink.innerHTML = docLinkHtml;\n",
              "          element.appendChild(docLink);\n",
              "        }\n",
              "      </script>\n",
              "    </div>\n",
              "  </div>\n",
              "  "
            ]
          },
          "metadata": {},
          "execution_count": 62
        }
      ]
    },
    {
      "cell_type": "code",
      "source": [
        "# Группировка дневных чеков по наличию кофе в чеке\n",
        "afternoon_coffee = b_afternoon.groupby('coffee_flag').agg({'ItemsNo':['count', 'mean']}).reset_index()\n",
        "afternoon_coffee.columns = ['coffee_flag', 'qty', 'lines_mean']\n",
        "afternoon_coffee['share'] = afternoon_coffee['qty'] / afternoon_coffee['qty'].sum()\n",
        "afternoon_coffee"
      ],
      "metadata": {
        "colab": {
          "base_uri": "https://localhost:8080/",
          "height": 112
        },
        "id": "lQcGhxFZ9lUY",
        "outputId": "ad297771-bc35-4f8e-cdca-67db415045a2"
      },
      "execution_count": 63,
      "outputs": [
        {
          "output_type": "execute_result",
          "data": {
            "text/plain": [
              "   coffee_flag   qty  lines_mean     share\n",
              "0            0  2749    1.834121  0.540185\n",
              "1            1  2340    2.789316  0.459815"
            ],
            "text/html": [
              "\n",
              "  <div id=\"df-1b327002-8826-4518-8905-7cd2d5f97532\">\n",
              "    <div class=\"colab-df-container\">\n",
              "      <div>\n",
              "<style scoped>\n",
              "    .dataframe tbody tr th:only-of-type {\n",
              "        vertical-align: middle;\n",
              "    }\n",
              "\n",
              "    .dataframe tbody tr th {\n",
              "        vertical-align: top;\n",
              "    }\n",
              "\n",
              "    .dataframe thead th {\n",
              "        text-align: right;\n",
              "    }\n",
              "</style>\n",
              "<table border=\"1\" class=\"dataframe\">\n",
              "  <thead>\n",
              "    <tr style=\"text-align: right;\">\n",
              "      <th></th>\n",
              "      <th>coffee_flag</th>\n",
              "      <th>qty</th>\n",
              "      <th>lines_mean</th>\n",
              "      <th>share</th>\n",
              "    </tr>\n",
              "  </thead>\n",
              "  <tbody>\n",
              "    <tr>\n",
              "      <th>0</th>\n",
              "      <td>0</td>\n",
              "      <td>2749</td>\n",
              "      <td>1.834121</td>\n",
              "      <td>0.540185</td>\n",
              "    </tr>\n",
              "    <tr>\n",
              "      <th>1</th>\n",
              "      <td>1</td>\n",
              "      <td>2340</td>\n",
              "      <td>2.789316</td>\n",
              "      <td>0.459815</td>\n",
              "    </tr>\n",
              "  </tbody>\n",
              "</table>\n",
              "</div>\n",
              "      <button class=\"colab-df-convert\" onclick=\"convertToInteractive('df-1b327002-8826-4518-8905-7cd2d5f97532')\"\n",
              "              title=\"Convert this dataframe to an interactive table.\"\n",
              "              style=\"display:none;\">\n",
              "        \n",
              "  <svg xmlns=\"http://www.w3.org/2000/svg\" height=\"24px\"viewBox=\"0 0 24 24\"\n",
              "       width=\"24px\">\n",
              "    <path d=\"M0 0h24v24H0V0z\" fill=\"none\"/>\n",
              "    <path d=\"M18.56 5.44l.94 2.06.94-2.06 2.06-.94-2.06-.94-.94-2.06-.94 2.06-2.06.94zm-11 1L8.5 8.5l.94-2.06 2.06-.94-2.06-.94L8.5 2.5l-.94 2.06-2.06.94zm10 10l.94 2.06.94-2.06 2.06-.94-2.06-.94-.94-2.06-.94 2.06-2.06.94z\"/><path d=\"M17.41 7.96l-1.37-1.37c-.4-.4-.92-.59-1.43-.59-.52 0-1.04.2-1.43.59L10.3 9.45l-7.72 7.72c-.78.78-.78 2.05 0 2.83L4 21.41c.39.39.9.59 1.41.59.51 0 1.02-.2 1.41-.59l7.78-7.78 2.81-2.81c.8-.78.8-2.07 0-2.86zM5.41 20L4 18.59l7.72-7.72 1.47 1.35L5.41 20z\"/>\n",
              "  </svg>\n",
              "      </button>\n",
              "      \n",
              "  <style>\n",
              "    .colab-df-container {\n",
              "      display:flex;\n",
              "      flex-wrap:wrap;\n",
              "      gap: 12px;\n",
              "    }\n",
              "\n",
              "    .colab-df-convert {\n",
              "      background-color: #E8F0FE;\n",
              "      border: none;\n",
              "      border-radius: 50%;\n",
              "      cursor: pointer;\n",
              "      display: none;\n",
              "      fill: #1967D2;\n",
              "      height: 32px;\n",
              "      padding: 0 0 0 0;\n",
              "      width: 32px;\n",
              "    }\n",
              "\n",
              "    .colab-df-convert:hover {\n",
              "      background-color: #E2EBFA;\n",
              "      box-shadow: 0px 1px 2px rgba(60, 64, 67, 0.3), 0px 1px 3px 1px rgba(60, 64, 67, 0.15);\n",
              "      fill: #174EA6;\n",
              "    }\n",
              "\n",
              "    [theme=dark] .colab-df-convert {\n",
              "      background-color: #3B4455;\n",
              "      fill: #D2E3FC;\n",
              "    }\n",
              "\n",
              "    [theme=dark] .colab-df-convert:hover {\n",
              "      background-color: #434B5C;\n",
              "      box-shadow: 0px 1px 3px 1px rgba(0, 0, 0, 0.15);\n",
              "      filter: drop-shadow(0px 1px 2px rgba(0, 0, 0, 0.3));\n",
              "      fill: #FFFFFF;\n",
              "    }\n",
              "  </style>\n",
              "\n",
              "      <script>\n",
              "        const buttonEl =\n",
              "          document.querySelector('#df-1b327002-8826-4518-8905-7cd2d5f97532 button.colab-df-convert');\n",
              "        buttonEl.style.display =\n",
              "          google.colab.kernel.accessAllowed ? 'block' : 'none';\n",
              "\n",
              "        async function convertToInteractive(key) {\n",
              "          const element = document.querySelector('#df-1b327002-8826-4518-8905-7cd2d5f97532');\n",
              "          const dataTable =\n",
              "            await google.colab.kernel.invokeFunction('convertToInteractive',\n",
              "                                                     [key], {});\n",
              "          if (!dataTable) return;\n",
              "\n",
              "          const docLinkHtml = 'Like what you see? Visit the ' +\n",
              "            '<a target=\"_blank\" href=https://colab.research.google.com/notebooks/data_table.ipynb>data table notebook</a>'\n",
              "            + ' to learn more about interactive tables.';\n",
              "          element.innerHTML = '';\n",
              "          dataTable['output_type'] = 'display_data';\n",
              "          await google.colab.output.renderOutput(dataTable, element);\n",
              "          const docLink = document.createElement('div');\n",
              "          docLink.innerHTML = docLinkHtml;\n",
              "          element.appendChild(docLink);\n",
              "        }\n",
              "      </script>\n",
              "    </div>\n",
              "  </div>\n",
              "  "
            ]
          },
          "metadata": {},
          "execution_count": 63
        }
      ]
    },
    {
      "cell_type": "code",
      "source": [
        "# Выборка утренних чеков с кофе\n",
        "morning_coffee_lines = df.query('coffee_flag == 1 and Daypart == \"Morning\"').groupby(\n",
        "    'TransactionNo').agg({'ItemsNo':'mean', 'coffee_flag':'mean'}).reset_index()\n",
        "morning_coffee_lines[['ItemsNo', 'coffee_flag']] = morning_coffee_lines[['ItemsNo', 'coffee_flag']].astype(int)\n",
        "morning_coffee_lines.sample(2)"
      ],
      "metadata": {
        "colab": {
          "base_uri": "https://localhost:8080/",
          "height": 112
        },
        "id": "OnYOwcu01d7V",
        "outputId": "994d0bfe-c9d8-4440-9213-a56af4d36790"
      },
      "execution_count": 64,
      "outputs": [
        {
          "output_type": "execute_result",
          "data": {
            "text/plain": [
              "      TransactionNo  ItemsNo  coffee_flag\n",
              "1894           8680        3            1\n",
              "1773           8167        2            1"
            ],
            "text/html": [
              "\n",
              "  <div id=\"df-a3c63151-6bc6-48ec-bd84-1b0257ff1ab2\">\n",
              "    <div class=\"colab-df-container\">\n",
              "      <div>\n",
              "<style scoped>\n",
              "    .dataframe tbody tr th:only-of-type {\n",
              "        vertical-align: middle;\n",
              "    }\n",
              "\n",
              "    .dataframe tbody tr th {\n",
              "        vertical-align: top;\n",
              "    }\n",
              "\n",
              "    .dataframe thead th {\n",
              "        text-align: right;\n",
              "    }\n",
              "</style>\n",
              "<table border=\"1\" class=\"dataframe\">\n",
              "  <thead>\n",
              "    <tr style=\"text-align: right;\">\n",
              "      <th></th>\n",
              "      <th>TransactionNo</th>\n",
              "      <th>ItemsNo</th>\n",
              "      <th>coffee_flag</th>\n",
              "    </tr>\n",
              "  </thead>\n",
              "  <tbody>\n",
              "    <tr>\n",
              "      <th>1894</th>\n",
              "      <td>8680</td>\n",
              "      <td>3</td>\n",
              "      <td>1</td>\n",
              "    </tr>\n",
              "    <tr>\n",
              "      <th>1773</th>\n",
              "      <td>8167</td>\n",
              "      <td>2</td>\n",
              "      <td>1</td>\n",
              "    </tr>\n",
              "  </tbody>\n",
              "</table>\n",
              "</div>\n",
              "      <button class=\"colab-df-convert\" onclick=\"convertToInteractive('df-a3c63151-6bc6-48ec-bd84-1b0257ff1ab2')\"\n",
              "              title=\"Convert this dataframe to an interactive table.\"\n",
              "              style=\"display:none;\">\n",
              "        \n",
              "  <svg xmlns=\"http://www.w3.org/2000/svg\" height=\"24px\"viewBox=\"0 0 24 24\"\n",
              "       width=\"24px\">\n",
              "    <path d=\"M0 0h24v24H0V0z\" fill=\"none\"/>\n",
              "    <path d=\"M18.56 5.44l.94 2.06.94-2.06 2.06-.94-2.06-.94-.94-2.06-.94 2.06-2.06.94zm-11 1L8.5 8.5l.94-2.06 2.06-.94-2.06-.94L8.5 2.5l-.94 2.06-2.06.94zm10 10l.94 2.06.94-2.06 2.06-.94-2.06-.94-.94-2.06-.94 2.06-2.06.94z\"/><path d=\"M17.41 7.96l-1.37-1.37c-.4-.4-.92-.59-1.43-.59-.52 0-1.04.2-1.43.59L10.3 9.45l-7.72 7.72c-.78.78-.78 2.05 0 2.83L4 21.41c.39.39.9.59 1.41.59.51 0 1.02-.2 1.41-.59l7.78-7.78 2.81-2.81c.8-.78.8-2.07 0-2.86zM5.41 20L4 18.59l7.72-7.72 1.47 1.35L5.41 20z\"/>\n",
              "  </svg>\n",
              "      </button>\n",
              "      \n",
              "  <style>\n",
              "    .colab-df-container {\n",
              "      display:flex;\n",
              "      flex-wrap:wrap;\n",
              "      gap: 12px;\n",
              "    }\n",
              "\n",
              "    .colab-df-convert {\n",
              "      background-color: #E8F0FE;\n",
              "      border: none;\n",
              "      border-radius: 50%;\n",
              "      cursor: pointer;\n",
              "      display: none;\n",
              "      fill: #1967D2;\n",
              "      height: 32px;\n",
              "      padding: 0 0 0 0;\n",
              "      width: 32px;\n",
              "    }\n",
              "\n",
              "    .colab-df-convert:hover {\n",
              "      background-color: #E2EBFA;\n",
              "      box-shadow: 0px 1px 2px rgba(60, 64, 67, 0.3), 0px 1px 3px 1px rgba(60, 64, 67, 0.15);\n",
              "      fill: #174EA6;\n",
              "    }\n",
              "\n",
              "    [theme=dark] .colab-df-convert {\n",
              "      background-color: #3B4455;\n",
              "      fill: #D2E3FC;\n",
              "    }\n",
              "\n",
              "    [theme=dark] .colab-df-convert:hover {\n",
              "      background-color: #434B5C;\n",
              "      box-shadow: 0px 1px 3px 1px rgba(0, 0, 0, 0.15);\n",
              "      filter: drop-shadow(0px 1px 2px rgba(0, 0, 0, 0.3));\n",
              "      fill: #FFFFFF;\n",
              "    }\n",
              "  </style>\n",
              "\n",
              "      <script>\n",
              "        const buttonEl =\n",
              "          document.querySelector('#df-a3c63151-6bc6-48ec-bd84-1b0257ff1ab2 button.colab-df-convert');\n",
              "        buttonEl.style.display =\n",
              "          google.colab.kernel.accessAllowed ? 'block' : 'none';\n",
              "\n",
              "        async function convertToInteractive(key) {\n",
              "          const element = document.querySelector('#df-a3c63151-6bc6-48ec-bd84-1b0257ff1ab2');\n",
              "          const dataTable =\n",
              "            await google.colab.kernel.invokeFunction('convertToInteractive',\n",
              "                                                     [key], {});\n",
              "          if (!dataTable) return;\n",
              "\n",
              "          const docLinkHtml = 'Like what you see? Visit the ' +\n",
              "            '<a target=\"_blank\" href=https://colab.research.google.com/notebooks/data_table.ipynb>data table notebook</a>'\n",
              "            + ' to learn more about interactive tables.';\n",
              "          element.innerHTML = '';\n",
              "          dataTable['output_type'] = 'display_data';\n",
              "          await google.colab.output.renderOutput(dataTable, element);\n",
              "          const docLink = document.createElement('div');\n",
              "          docLink.innerHTML = docLinkHtml;\n",
              "          element.appendChild(docLink);\n",
              "        }\n",
              "      </script>\n",
              "    </div>\n",
              "  </div>\n",
              "  "
            ]
          },
          "metadata": {},
          "execution_count": 64
        }
      ]
    },
    {
      "cell_type": "code",
      "source": [
        "# Выборка дневных чеков с кофе\n",
        "afternoon_coffee_lines = df.query('coffee_flag == 1 and Daypart == \"Afternoon\"').groupby(\n",
        "    'TransactionNo').agg({'ItemsNo':'mean', 'coffee_flag':'mean'}).reset_index()\n",
        "afternoon_coffee_lines[['ItemsNo', 'coffee_flag']] = afternoon_coffee_lines[['ItemsNo', 'coffee_flag']].astype(int)\n",
        "afternoon_coffee_lines.sample(2)"
      ],
      "metadata": {
        "colab": {
          "base_uri": "https://localhost:8080/",
          "height": 112
        },
        "id": "wCBxCxlB44Hp",
        "outputId": "d5c8fa03-aeb0-469e-e423-528633f21efe"
      },
      "execution_count": 65,
      "outputs": [
        {
          "output_type": "execute_result",
          "data": {
            "text/plain": [
              "      TransactionNo  ItemsNo  coffee_flag\n",
              "1046           4609        4            1\n",
              "1473           6340        1            1"
            ],
            "text/html": [
              "\n",
              "  <div id=\"df-9c7b69f1-908f-4ba5-b1a0-8594a9fa8d66\">\n",
              "    <div class=\"colab-df-container\">\n",
              "      <div>\n",
              "<style scoped>\n",
              "    .dataframe tbody tr th:only-of-type {\n",
              "        vertical-align: middle;\n",
              "    }\n",
              "\n",
              "    .dataframe tbody tr th {\n",
              "        vertical-align: top;\n",
              "    }\n",
              "\n",
              "    .dataframe thead th {\n",
              "        text-align: right;\n",
              "    }\n",
              "</style>\n",
              "<table border=\"1\" class=\"dataframe\">\n",
              "  <thead>\n",
              "    <tr style=\"text-align: right;\">\n",
              "      <th></th>\n",
              "      <th>TransactionNo</th>\n",
              "      <th>ItemsNo</th>\n",
              "      <th>coffee_flag</th>\n",
              "    </tr>\n",
              "  </thead>\n",
              "  <tbody>\n",
              "    <tr>\n",
              "      <th>1046</th>\n",
              "      <td>4609</td>\n",
              "      <td>4</td>\n",
              "      <td>1</td>\n",
              "    </tr>\n",
              "    <tr>\n",
              "      <th>1473</th>\n",
              "      <td>6340</td>\n",
              "      <td>1</td>\n",
              "      <td>1</td>\n",
              "    </tr>\n",
              "  </tbody>\n",
              "</table>\n",
              "</div>\n",
              "      <button class=\"colab-df-convert\" onclick=\"convertToInteractive('df-9c7b69f1-908f-4ba5-b1a0-8594a9fa8d66')\"\n",
              "              title=\"Convert this dataframe to an interactive table.\"\n",
              "              style=\"display:none;\">\n",
              "        \n",
              "  <svg xmlns=\"http://www.w3.org/2000/svg\" height=\"24px\"viewBox=\"0 0 24 24\"\n",
              "       width=\"24px\">\n",
              "    <path d=\"M0 0h24v24H0V0z\" fill=\"none\"/>\n",
              "    <path d=\"M18.56 5.44l.94 2.06.94-2.06 2.06-.94-2.06-.94-.94-2.06-.94 2.06-2.06.94zm-11 1L8.5 8.5l.94-2.06 2.06-.94-2.06-.94L8.5 2.5l-.94 2.06-2.06.94zm10 10l.94 2.06.94-2.06 2.06-.94-2.06-.94-.94-2.06-.94 2.06-2.06.94z\"/><path d=\"M17.41 7.96l-1.37-1.37c-.4-.4-.92-.59-1.43-.59-.52 0-1.04.2-1.43.59L10.3 9.45l-7.72 7.72c-.78.78-.78 2.05 0 2.83L4 21.41c.39.39.9.59 1.41.59.51 0 1.02-.2 1.41-.59l7.78-7.78 2.81-2.81c.8-.78.8-2.07 0-2.86zM5.41 20L4 18.59l7.72-7.72 1.47 1.35L5.41 20z\"/>\n",
              "  </svg>\n",
              "      </button>\n",
              "      \n",
              "  <style>\n",
              "    .colab-df-container {\n",
              "      display:flex;\n",
              "      flex-wrap:wrap;\n",
              "      gap: 12px;\n",
              "    }\n",
              "\n",
              "    .colab-df-convert {\n",
              "      background-color: #E8F0FE;\n",
              "      border: none;\n",
              "      border-radius: 50%;\n",
              "      cursor: pointer;\n",
              "      display: none;\n",
              "      fill: #1967D2;\n",
              "      height: 32px;\n",
              "      padding: 0 0 0 0;\n",
              "      width: 32px;\n",
              "    }\n",
              "\n",
              "    .colab-df-convert:hover {\n",
              "      background-color: #E2EBFA;\n",
              "      box-shadow: 0px 1px 2px rgba(60, 64, 67, 0.3), 0px 1px 3px 1px rgba(60, 64, 67, 0.15);\n",
              "      fill: #174EA6;\n",
              "    }\n",
              "\n",
              "    [theme=dark] .colab-df-convert {\n",
              "      background-color: #3B4455;\n",
              "      fill: #D2E3FC;\n",
              "    }\n",
              "\n",
              "    [theme=dark] .colab-df-convert:hover {\n",
              "      background-color: #434B5C;\n",
              "      box-shadow: 0px 1px 3px 1px rgba(0, 0, 0, 0.15);\n",
              "      filter: drop-shadow(0px 1px 2px rgba(0, 0, 0, 0.3));\n",
              "      fill: #FFFFFF;\n",
              "    }\n",
              "  </style>\n",
              "\n",
              "      <script>\n",
              "        const buttonEl =\n",
              "          document.querySelector('#df-9c7b69f1-908f-4ba5-b1a0-8594a9fa8d66 button.colab-df-convert');\n",
              "        buttonEl.style.display =\n",
              "          google.colab.kernel.accessAllowed ? 'block' : 'none';\n",
              "\n",
              "        async function convertToInteractive(key) {\n",
              "          const element = document.querySelector('#df-9c7b69f1-908f-4ba5-b1a0-8594a9fa8d66');\n",
              "          const dataTable =\n",
              "            await google.colab.kernel.invokeFunction('convertToInteractive',\n",
              "                                                     [key], {});\n",
              "          if (!dataTable) return;\n",
              "\n",
              "          const docLinkHtml = 'Like what you see? Visit the ' +\n",
              "            '<a target=\"_blank\" href=https://colab.research.google.com/notebooks/data_table.ipynb>data table notebook</a>'\n",
              "            + ' to learn more about interactive tables.';\n",
              "          element.innerHTML = '';\n",
              "          dataTable['output_type'] = 'display_data';\n",
              "          await google.colab.output.renderOutput(dataTable, element);\n",
              "          const docLink = document.createElement('div');\n",
              "          docLink.innerHTML = docLinkHtml;\n",
              "          element.appendChild(docLink);\n",
              "        }\n",
              "      </script>\n",
              "    </div>\n",
              "  </div>\n",
              "  "
            ]
          },
          "metadata": {},
          "execution_count": 65
        }
      ]
    },
    {
      "cell_type": "code",
      "source": [
        "# Статистики групп с кофе утром и днем\n",
        "daypart_coffee_lines_statistics = pd.merge(\n",
        "    morning_coffee_lines['ItemsNo'].describe().to_frame(), afternoon_coffee_lines['ItemsNo'].describe().to_frame(),left_index=True, right_index=True)\n",
        "daypart_coffee_lines_statistics.columns = ['morning_coffee','afternoon_coffee']\n",
        "daypart_coffee_lines_statistics"
      ],
      "metadata": {
        "colab": {
          "base_uri": "https://localhost:8080/",
          "height": 300
        },
        "id": "ap1763IL2ylB",
        "outputId": "2b0db252-984c-4c95-a013-343bf17a82b2"
      },
      "execution_count": 66,
      "outputs": [
        {
          "output_type": "execute_result",
          "data": {
            "text/plain": [
              "       morning_coffee  afternoon_coffee\n",
              "count     2113.000000       2340.000000\n",
              "mean         2.408897          2.789316\n",
              "std          1.263322          1.487174\n",
              "min          1.000000          1.000000\n",
              "25%          1.000000          2.000000\n",
              "50%          2.000000          2.000000\n",
              "75%          3.000000          4.000000\n",
              "max         10.000000         11.000000"
            ],
            "text/html": [
              "\n",
              "  <div id=\"df-80079ebd-fc8d-4390-a86c-117c0c907da5\">\n",
              "    <div class=\"colab-df-container\">\n",
              "      <div>\n",
              "<style scoped>\n",
              "    .dataframe tbody tr th:only-of-type {\n",
              "        vertical-align: middle;\n",
              "    }\n",
              "\n",
              "    .dataframe tbody tr th {\n",
              "        vertical-align: top;\n",
              "    }\n",
              "\n",
              "    .dataframe thead th {\n",
              "        text-align: right;\n",
              "    }\n",
              "</style>\n",
              "<table border=\"1\" class=\"dataframe\">\n",
              "  <thead>\n",
              "    <tr style=\"text-align: right;\">\n",
              "      <th></th>\n",
              "      <th>morning_coffee</th>\n",
              "      <th>afternoon_coffee</th>\n",
              "    </tr>\n",
              "  </thead>\n",
              "  <tbody>\n",
              "    <tr>\n",
              "      <th>count</th>\n",
              "      <td>2113.000000</td>\n",
              "      <td>2340.000000</td>\n",
              "    </tr>\n",
              "    <tr>\n",
              "      <th>mean</th>\n",
              "      <td>2.408897</td>\n",
              "      <td>2.789316</td>\n",
              "    </tr>\n",
              "    <tr>\n",
              "      <th>std</th>\n",
              "      <td>1.263322</td>\n",
              "      <td>1.487174</td>\n",
              "    </tr>\n",
              "    <tr>\n",
              "      <th>min</th>\n",
              "      <td>1.000000</td>\n",
              "      <td>1.000000</td>\n",
              "    </tr>\n",
              "    <tr>\n",
              "      <th>25%</th>\n",
              "      <td>1.000000</td>\n",
              "      <td>2.000000</td>\n",
              "    </tr>\n",
              "    <tr>\n",
              "      <th>50%</th>\n",
              "      <td>2.000000</td>\n",
              "      <td>2.000000</td>\n",
              "    </tr>\n",
              "    <tr>\n",
              "      <th>75%</th>\n",
              "      <td>3.000000</td>\n",
              "      <td>4.000000</td>\n",
              "    </tr>\n",
              "    <tr>\n",
              "      <th>max</th>\n",
              "      <td>10.000000</td>\n",
              "      <td>11.000000</td>\n",
              "    </tr>\n",
              "  </tbody>\n",
              "</table>\n",
              "</div>\n",
              "      <button class=\"colab-df-convert\" onclick=\"convertToInteractive('df-80079ebd-fc8d-4390-a86c-117c0c907da5')\"\n",
              "              title=\"Convert this dataframe to an interactive table.\"\n",
              "              style=\"display:none;\">\n",
              "        \n",
              "  <svg xmlns=\"http://www.w3.org/2000/svg\" height=\"24px\"viewBox=\"0 0 24 24\"\n",
              "       width=\"24px\">\n",
              "    <path d=\"M0 0h24v24H0V0z\" fill=\"none\"/>\n",
              "    <path d=\"M18.56 5.44l.94 2.06.94-2.06 2.06-.94-2.06-.94-.94-2.06-.94 2.06-2.06.94zm-11 1L8.5 8.5l.94-2.06 2.06-.94-2.06-.94L8.5 2.5l-.94 2.06-2.06.94zm10 10l.94 2.06.94-2.06 2.06-.94-2.06-.94-.94-2.06-.94 2.06-2.06.94z\"/><path d=\"M17.41 7.96l-1.37-1.37c-.4-.4-.92-.59-1.43-.59-.52 0-1.04.2-1.43.59L10.3 9.45l-7.72 7.72c-.78.78-.78 2.05 0 2.83L4 21.41c.39.39.9.59 1.41.59.51 0 1.02-.2 1.41-.59l7.78-7.78 2.81-2.81c.8-.78.8-2.07 0-2.86zM5.41 20L4 18.59l7.72-7.72 1.47 1.35L5.41 20z\"/>\n",
              "  </svg>\n",
              "      </button>\n",
              "      \n",
              "  <style>\n",
              "    .colab-df-container {\n",
              "      display:flex;\n",
              "      flex-wrap:wrap;\n",
              "      gap: 12px;\n",
              "    }\n",
              "\n",
              "    .colab-df-convert {\n",
              "      background-color: #E8F0FE;\n",
              "      border: none;\n",
              "      border-radius: 50%;\n",
              "      cursor: pointer;\n",
              "      display: none;\n",
              "      fill: #1967D2;\n",
              "      height: 32px;\n",
              "      padding: 0 0 0 0;\n",
              "      width: 32px;\n",
              "    }\n",
              "\n",
              "    .colab-df-convert:hover {\n",
              "      background-color: #E2EBFA;\n",
              "      box-shadow: 0px 1px 2px rgba(60, 64, 67, 0.3), 0px 1px 3px 1px rgba(60, 64, 67, 0.15);\n",
              "      fill: #174EA6;\n",
              "    }\n",
              "\n",
              "    [theme=dark] .colab-df-convert {\n",
              "      background-color: #3B4455;\n",
              "      fill: #D2E3FC;\n",
              "    }\n",
              "\n",
              "    [theme=dark] .colab-df-convert:hover {\n",
              "      background-color: #434B5C;\n",
              "      box-shadow: 0px 1px 3px 1px rgba(0, 0, 0, 0.15);\n",
              "      filter: drop-shadow(0px 1px 2px rgba(0, 0, 0, 0.3));\n",
              "      fill: #FFFFFF;\n",
              "    }\n",
              "  </style>\n",
              "\n",
              "      <script>\n",
              "        const buttonEl =\n",
              "          document.querySelector('#df-80079ebd-fc8d-4390-a86c-117c0c907da5 button.colab-df-convert');\n",
              "        buttonEl.style.display =\n",
              "          google.colab.kernel.accessAllowed ? 'block' : 'none';\n",
              "\n",
              "        async function convertToInteractive(key) {\n",
              "          const element = document.querySelector('#df-80079ebd-fc8d-4390-a86c-117c0c907da5');\n",
              "          const dataTable =\n",
              "            await google.colab.kernel.invokeFunction('convertToInteractive',\n",
              "                                                     [key], {});\n",
              "          if (!dataTable) return;\n",
              "\n",
              "          const docLinkHtml = 'Like what you see? Visit the ' +\n",
              "            '<a target=\"_blank\" href=https://colab.research.google.com/notebooks/data_table.ipynb>data table notebook</a>'\n",
              "            + ' to learn more about interactive tables.';\n",
              "          element.innerHTML = '';\n",
              "          dataTable['output_type'] = 'display_data';\n",
              "          await google.colab.output.renderOutput(dataTable, element);\n",
              "          const docLink = document.createElement('div');\n",
              "          docLink.innerHTML = docLinkHtml;\n",
              "          element.appendChild(docLink);\n",
              "        }\n",
              "      </script>\n",
              "    </div>\n",
              "  </div>\n",
              "  "
            ]
          },
          "metadata": {},
          "execution_count": 66
        }
      ]
    },
    {
      "cell_type": "code",
      "source": [
        "dist_evaluation(\n",
        "    morning_coffee_lines['ItemsNo'],\n",
        "    afternoon_coffee_lines['ItemsNo'],\n",
        "    'Распределение количества строк в чеке с кофе утром и днем',\n",
        "    'Утро',\n",
        "    'День'\n",
        ")"
      ],
      "metadata": {
        "id": "-N7qMELp8wPy",
        "colab": {
          "base_uri": "https://localhost:8080/",
          "height": 554
        },
        "outputId": "9c329040-152d-404e-d76d-2a368f27e6d7"
      },
      "execution_count": 67,
      "outputs": [
        {
          "output_type": "display_data",
          "data": {
            "text/plain": [
              "<Figure size 1008x576 with 4 Axes>"
            ],
            "image/png": "[encoded data removed]"
          },
          "metadata": {}
        }
      ]
    },
    {
      "cell_type": "markdown",
      "source": [
        "Распределение количества строк в утренней и вечерней выборке также не похоже на нормальное, поэтому нужно проверить распределение среднего выборок путем сэмплирования."
      ],
      "metadata": {
        "id": "aVJ97ACfjrj6"
      }
    },
    {
      "cell_type": "code",
      "source": [
        "# Получение ряда средних значений 1000 сэмплов в каждой группе\n",
        "a3 = pd.Series([a_morning['ItemsNo'].sample(2113, replace=True).mean() for _ in range(1000)])\n",
        "b3 = pd.Series([b_afternoon['ItemsNo'].sample(2340, replace=True).mean() for _ in range(1000)])"
      ],
      "metadata": {
        "id": "CaFjKT5z9jFv"
      },
      "execution_count": 68,
      "outputs": []
    },
    {
      "cell_type": "code",
      "source": [
        "dist_evaluation(\n",
        "    a3,\n",
        "    b3,\n",
        "    'Распределение среднего количества строк в чеке с кофе утром и днем',\n",
        "    'Утро',\n",
        "    'День'\n",
        ")"
      ],
      "metadata": {
        "id": "XSwSrIjp9taY",
        "colab": {
          "base_uri": "https://localhost:8080/",
          "height": 554
        },
        "outputId": "cada20f7-93b0-4f7f-b1cb-15d7911c3b6f"
      },
      "execution_count": 69,
      "outputs": [
        {
          "output_type": "display_data",
          "data": {
            "text/plain": [
              "<Figure size 1008x576 with 4 Axes>"
            ],
            "image/png": "[encoded data removed]"
          },
          "metadata": {}
        }
      ]
    },
    {
      "cell_type": "markdown",
      "source": [
        "Распределение средних в выборках после сэмплирования выглядит близко к нормальном. Возможно применение Т теста в модификации Уэлча, с параметром разности дисперсий, после проверки их тестом Левне."
      ],
      "metadata": {
        "id": "G3A914vHkFjq"
      }
    },
    {
      "cell_type": "code",
      "source": [
        "# Проверка равенства дисперсий тестом Левене\n",
        "levene_test(morning_coffee_lines['ItemsNo'], afternoon_coffee_lines['ItemsNo'], 0.05)"
      ],
      "metadata": {
        "id": "WfoO-Ovb-4-Q",
        "colab": {
          "base_uri": "https://localhost:8080/"
        },
        "outputId": "33fe3342-2e33-41d2-c18f-c5299e2d3854"
      },
      "execution_count": 70,
      "outputs": [
        {
          "output_type": "stream",
          "name": "stdout",
          "text": [
            "p-значение: 2.2943074543600556e-38\n",
            "Необходимо отвергнуть нулевую гипотезу о равенстве дисперсий популяций из которых взяты выборки\n"
          ]
        }
      ]
    },
    {
      "cell_type": "markdown",
      "source": [
        "Тест на эквивалентность дисперсий опять показал статистические различия, поэтому Т тест в этом случае будет также с параметром qual_var=False"
      ],
      "metadata": {
        "id": "Jfv3IpRAjluF"
      }
    },
    {
      "cell_type": "code",
      "source": [
        "# Проверка гипотезы Т тестом для выборок с разной дисперсией\n",
        "t_test(morning_coffee_lines['ItemsNo'], afternoon_coffee_lines['ItemsNo'], 0.05)"
      ],
      "metadata": {
        "colab": {
          "base_uri": "https://localhost:8080/"
        },
        "id": "b1Ud2LZceB5F",
        "outputId": "d053a1b4-7135-40db-cf7f-16bcf6cd4d75"
      },
      "execution_count": 71,
      "outputs": [
        {
          "output_type": "stream",
          "name": "stdout",
          "text": [
            "p-значение: 1.194160338308203e-220\n",
            "Необходимо отвергнуть нулевую гипотезу\n"
          ]
        }
      ]
    },
    {
      "cell_type": "code",
      "source": [
        "# Проверка гипотезы тестом Манна-Уитни\n",
        "test_mw(morning_coffee_lines['ItemsNo'], afternoon_coffee_lines['ItemsNo'], 0.05)"
      ],
      "metadata": {
        "colab": {
          "base_uri": "https://localhost:8080/"
        },
        "id": "7F3QGHA7eJuI",
        "outputId": "886a7a36-5719-4096-9eba-79b30aa19e53"
      },
      "execution_count": 72,
      "outputs": [
        {
          "output_type": "stream",
          "name": "stdout",
          "text": [
            "p-значение: 6.197219842784843e-247\n",
            "Необходимо отвергнуть нулевую гипотезу\n"
          ]
        }
      ]
    },
    {
      "cell_type": "code",
      "source": [
        "# Проверка гипотезы бутстрепом\n",
        "get_bootstrap(\n",
        "    afternoon_coffee_lines['ItemsNo'], # числовые значения второй выборки\n",
        "    morning_coffee_lines['ItemsNo'], # числовые значения второй выборки\n",
        "    boot_it = 1000, # количество бутстрэп-подвыборок\n",
        "    statistic = np.mean, # расчитываемая статистика\n",
        "    bootstrap_conf_level = 0.95,\n",
        "    alpha = 0.05 # уровень значимости\n",
        ")"
      ],
      "metadata": {
        "colab": {
          "base_uri": "https://localhost:8080/",
          "height": 500,
          "referenced_widgets": [
            "5d648a513f924881b8145e5d25191390",
            "b26bfbbe4533471f975e186de7713345",
            "017cccf8b850442d90b78e91b0562040",
            "bb4002d643db43058fffe17df3669ad7",
            "bd7f096a595e48dfa86e027326b715f5",
            "d1b771db63984d22a68c8f29aa7e13d9",
            "dd91b47ee97a41eab4975879e9750ea0",
            "4c92df775e4a47648369475f6a2d76b8",
            "9d3838992a254d26b437adc8fccd8b4d",
            "490327a7f017440799fa213250cfb3ab",
            "b84ff765d83443049b8ffe91b2cd0fdd"
          ]
        },
        "id": "y3_32-wIBclL",
        "outputId": "3862d00e-60f3-4ee7-ad4e-0c952d7efb35"
      },
      "execution_count": 73,
      "outputs": [
        {
          "output_type": "display_data",
          "data": {
            "text/plain": [
              "  0%|          | 0/1000 [00:00<?, ?it/s]"
            ],
            "application/vnd.jupyter.widget-view+json": {
              "version_major": 2,
              "version_minor": 0,
              "model_id": "5d648a513f924881b8145e5d25191390"
            }
          },
          "metadata": {}
        },
        {
          "output_type": "display_data",
          "data": {
            "text/plain": [
              "<Figure size 720x288 with 1 Axes>"
            ],
            "image/png": "[encoded data removed]"
          },
          "metadata": {}
        },
        {
          "output_type": "stream",
          "name": "stdout",
          "text": [
            "\n",
            "Вероятность попадания среднего разностей двух выборок в доверительный интервал при верной H0: 2.039094451218498e-20 \n",
            "\n",
            "Необходимо отвергнуть нулевую гипотезу \n",
            "\n",
            "Границы доверительного интервала среднего разностей двух выборок               0\n",
            "0.025  0.295278\n",
            "0.975  0.452575 \n",
            "\n",
            "Среднее разностей значений в исследуемой выборке 0.3804189369026094\n"
          ]
        }
      ]
    },
    {
      "cell_type": "markdown",
      "source": [
        "Вывод: оба статистических теста и бутстрапирование показали сильные статистические различия между средними количества чеков с кофе утром и днем. Днем покупая кофе люди берут другие позиции ассортимента в большем разнообразии чем утром."
      ],
      "metadata": {
        "id": "iaWZk552ktGQ"
      }
    },
    {
      "cell_type": "markdown",
      "source": [
        "## Общий вывод"
      ],
      "metadata": {
        "id": "1zIHLsIWpNAm"
      }
    },
    {
      "cell_type": "markdown",
      "source": [
        "<br>В представленной выборке данные только по утренним и дневным часам наиболее полны по дням. Поэтому анализировались эти временные отрезки.\n",
        "<br>В половине дней работы заведения покупателей от 46 до 68, хотя есть пики - более 100 посетителей. Меньше 23 посетителей в выборочный период не было\n",
        "<br>Днем приходит на 20% больше посетителей чем утром, до 8 утра совсем немного народу, в основном покупают с 9 и больше всего посетителей с 11 до 12 утра, но в целом с полудня и до 16 часов количество посетителей более стабильное. Время с 9 до 16 - самое активное для заведения, за этими рамками покупателей почти нет.\n",
        "<br>На кофе и хлеб приходится 40% продаж, причем только на кофе - почти четверть 24%, остальные позиции покупают редко.\n",
        "<br>Днем одну позицию заказывают на 5% меньше, зато увеличивается количество чеков с числом линий больше 3.\n",
        "<br>Если есть в чеке кофе то днем число чеков с 3 и более линиями больше.\n",
        "<br>Таким образом основные факторы влияющие на количество линий в чеке - время покупки и наличие якорного товара в чеке - кофе. Для увеличения длинны чека необходимо стимулировать покупку кофе в утренние часы,особенно в пиковый час с 11 до 12, обеспечить полноту и наличие остального ассортимента, быстроту обслуживания. Весь ассортимент также должен быть доступен с 12 до 16, возможно простимулировать покупку дополнительных позиций в это время, количества в линии чека по каждой позиции сопутствующего кофе ассортимента."
      ],
      "metadata": {
        "id": "hraUGVgupXIZ"
      }
    }
  ]
}